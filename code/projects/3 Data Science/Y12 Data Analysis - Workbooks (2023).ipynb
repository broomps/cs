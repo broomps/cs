{
 "cells": [
  {
   "cell_type": "markdown",
   "metadata": {
    "id": "diD8M07n-URj"
   },
   "source": [
    "# 1 Data Analysis with Python\n",
    "\n",
    "<small>v002 May 2023</small>"
   ]
  },
  {
   "cell_type": "markdown",
   "metadata": {
    "id": "w0plu5hG2e6d"
   },
   "source": [
    "## Task 1\n",
    "\n",
    "Ask yourself: \n",
    "\n",
    "How did the number of deaths per year from natural disasters change in the last century?\n",
    "\n",
    "1.   More than doubled\n",
    "2.   Remained about the same.\n",
    "3.   Decreased less than half.\n",
    "\n",
    "Women aged 30 spent how many years in school?\n",
    "\n",
    "1.   7 years\n",
    "2.   5 years\n",
    "3.   3 years\n",
    "\n",
    "In the last 20 years the percentage of people living in extreme poverty has…?\n",
    "\n",
    "1.   Almost doubled\n",
    "2.   Remained about the same\n",
    "3.   Almost halved.\n",
    "\n",
    "Keep your answers in mind. Watch the Video:"
   ]
  },
  {
   "cell_type": "code",
   "execution_count": 135,
   "metadata": {
    "cellView": "form",
    "colab": {
     "base_uri": "https://localhost:8080/",
     "height": 336
    },
    "executionInfo": {
     "elapsed": 4737,
     "status": "ok",
     "timestamp": 1608201255668,
     "user": {
      "displayName": "Ian Grant",
      "photoUrl": "",
      "userId": "14746146838898941070"
     },
     "user_tz": 0
    },
    "id": "EVLl0aGP4ssB",
    "outputId": "074dfa0b-dc70-4415-8c97-d077a298d221"
   },
   "outputs": [
    {
     "data": {
      "text/html": [
       "<iframe width=\"560\" height=\"315\" src=\"https://www.youtube.com/embed/Sm5xF-UYgdg\" frameborder=\"0\" allow=\"accelerometer; autoplay; clipboard-write; encrypted-media; gyroscope; picture-in-picture\" allowfullscreen></iframe>"
      ],
      "text/plain": [
       "<IPython.core.display.HTML object>"
      ]
     },
     "execution_count": 135,
     "metadata": {},
     "output_type": "execute_result"
    }
   ],
   "source": [
    "#@title\n",
    "from IPython.display import HTML, IFrame\n",
    "HTML('<iframe width=\"560\" height=\"315\" src=\"https://www.youtube.com/embed/Sm5xF-UYgdg\" frameborder=\"0\" allow=\"accelerometer; autoplay; clipboard-write; encrypted-media; gyroscope; picture-in-picture\" allowfullscreen></iframe>')"
   ]
  },
  {
   "cell_type": "markdown",
   "metadata": {
    "id": "ROQxbS19aWsX"
   },
   "source": [
    "<iframe width=\"560\" height=\"315\" src=\"https://www.youtube.com/embed/Z7ffLdRsftg\" frameborder=\"0\" allow=\"accelerometer; autoplay; clipboard-write; encrypted-media; gyroscope; picture-in-picture\" allowfullscreen></iframe>"
   ]
  },
  {
   "cell_type": "markdown",
   "metadata": {
    "id": "xAUonVUo52jL"
   },
   "source": [
    "## Task 2\n",
    "\n",
    "The fight against tuberculosis (TB) as part of the United Nations Millennium Development Goals.\n",
    "\n",
    "Write down 4 questions you wish to answer about TB as a Global issue.\n",
    "\n",
    "\n"
   ]
  },
  {
   "cell_type": "code",
   "execution_count": 136,
   "metadata": {
    "cellView": "form",
    "executionInfo": {
     "elapsed": 6327,
     "status": "ok",
     "timestamp": 1608201257271,
     "user": {
      "displayName": "Ian Grant",
      "photoUrl": "",
      "userId": "14746146838898941070"
     },
     "user_tz": 0
    },
    "id": "Ru9JKpTc6dL0"
   },
   "outputs": [],
   "source": [
    "Question1 = 'Question 1' #@param {type:\"string\"}\n",
    "Question2 = 'Question 2' #@param {type:\"string\"}\n",
    "Question3 = 'Question 3' #@param {type:\"string\"}\n",
    "Question4 = 'Question 4' #@param {type:\"string\"}"
   ]
  },
  {
   "cell_type": "markdown",
   "metadata": {
    "id": "k24wGQ9mqdmK"
   },
   "source": [
    "Here's a link to World Health Organisation data:\n",
    "\n",
    "[http://apps.who.int/gho/data/node.main.1315?lang=en ](http://apps.who.int/gho/data/node.main.1315?lang=en )\n",
    "\n",
    "We have the data, now we need the means to investigate the data. Python provides us with tools and libraries to work with data like this and much, much, more. Python gives us access to programmatically working with data, cleaning data sources, creating relationships, doing statistical analysis, and visualising material in many different ways. These techniques help guide our interpretations and, thus, the insights we draw from data. We will look at key python libraries, matplotlib, scipy, and others to work with static data in Sheets, Excel and CVS files and data acquired from the web. First, we need to refresh key python programming concepts.\n",
    "\n",
    "Along the way there are Worksheets for you to complete with your newly acquired knowledge. Throughout, to run the python cells, click the 'play' button, or by pressing ⌃ (ctrl) or &#8984;  +  &#9166;, depending on your computer."
   ]
  },
  {
   "cell_type": "markdown",
   "metadata": {
    "id": "QU1ZQDiS7E0c"
   },
   "source": [
    "## Variables, Assignment and Functions\n",
    "\n",
    "In coding jargon, the attic is the computer\"s memory, boxes are called **variables** (I\"ll explain why shortly), what\"s written on a box is the variable\"s **name or identifier**, and storing a value in a variable is called an **assignment**."
   ]
  },
  {
   "cell_type": "code",
   "execution_count": 3,
   "metadata": {
    "colab": {
     "base_uri": "https://localhost:8080/"
    },
    "executionInfo": {
     "elapsed": 6260,
     "status": "ok",
     "timestamp": 1608201257273,
     "user": {
      "displayName": "Ian Grant",
      "photoUrl": "",
      "userId": "14746146838898941070"
     },
     "user_tz": 0
    },
    "id": "uuNsIwQh7Rl-",
    "outputId": "42ff51b9-956b-49e7-da0d-73bd0aa08ead"
   },
   "outputs": [
    {
     "name": "stdout",
     "output_type": "stream",
     "text": [
      "110\n"
     ]
    }
   ],
   "source": [
    "import pandas as pd\n",
    "from pandas import *\n",
    "\n",
    "deathsInPortugal = 110\n",
    "print(deathsInPortugal)\n"
   ]
  },
  {
   "cell_type": "markdown",
   "metadata": {
    "id": "5XlkYV5b7YWs"
   },
   "source": [
    "## Naming conventions\n",
    "\n",
    "You can\"t use spaces to separate words in a name, you can\"t start a name with a digit and names are case-sensitive, i.e. deathsBrazil and DeathsBrazil are not the same variable. Making one of those mistakes will result in a **syntax error** (when the computer doesn\"t understand the line of code) or a **name error** (when the computer doesn\"t know of any variable with that name).\n",
    "\n",
    "We\"ll use capitalisation instead of underscores to separate the different words of a name, as shown in the code so far. Such practice is called **camel case** independently of the name having oneHump (\"dromedary case\" just doesn\"t sound good, does it?) or moreThanTwoHumps. The convention in Python is to start variable names with lower case and we\"ll stick to it. \n",
    "\n"
   ]
  },
  {
   "cell_type": "markdown",
   "metadata": {
    "id": "YUydrTBe-jup"
   },
   "source": [
    "## Examples\n",
    "\n",
    "1. Run the code in the python cells:"
   ]
  },
  {
   "cell_type": "code",
   "execution_count": 4,
   "metadata": {
    "colab": {
     "base_uri": "https://localhost:8080/"
    },
    "executionInfo": {
     "elapsed": 6190,
     "status": "ok",
     "timestamp": 1608201257274,
     "user": {
      "displayName": "Ian Grant",
      "photoUrl": "",
      "userId": "14746146838898941070"
     },
     "user_tz": 0
    },
    "id": "zQlnzSlO8P0_",
    "outputId": "cba3d887-2991-48d6-a616-6b3ad38ac997"
   },
   "outputs": [
    {
     "name": "stdout",
     "output_type": "stream",
     "text": [
      "140\n"
     ]
    }
   ],
   "source": [
    "deathsInPortugal = 100\n",
    "deathsInPortugal = 140\n",
    "print(deathsInPortugal)"
   ]
  },
  {
   "cell_type": "markdown",
   "metadata": {
    "id": "czXgqjn78GZx"
   },
   "source": [
    "2.\n",
    "\n",
    "Using the arithmetic **operators**. "
   ]
  },
  {
   "cell_type": "code",
   "execution_count": 5,
   "metadata": {
    "colab": {
     "base_uri": "https://localhost:8080/"
    },
    "executionInfo": {
     "elapsed": 6147,
     "status": "ok",
     "timestamp": 1608201257276,
     "user": {
      "displayName": "Ian Grant",
      "photoUrl": "",
      "userId": "14746146838898941070"
     },
     "user_tz": 0
    },
    "id": "mp3AmGUM8TL0",
    "outputId": "4fb28bb4-119c-44d6-ae02-3b4cb7167ad3"
   },
   "outputs": [
    {
     "name": "stdout",
     "output_type": "stream",
     "text": [
      "11440\n"
     ]
    }
   ],
   "source": [
    "deathsInPortugal = 140\n",
    "deathsInAngola = 6900\n",
    "deathsInBrazil = 4400\n",
    "deathsInRussia = 17000\n",
    "deathsInIndia = 240000\n",
    "deathsInChina = 41000\n",
    "deathsInSouthAfrica = 25000\n",
    "\n",
    "print(deathsInAngola + deathsInBrazil + deathsInPortugal)"
   ]
  },
  {
   "cell_type": "markdown",
   "metadata": {
    "id": "U1ymtJEV8iEY"
   },
   "source": [
    "3."
   ]
  },
  {
   "cell_type": "code",
   "execution_count": 6,
   "metadata": {
    "colab": {
     "base_uri": "https://localhost:8080/"
    },
    "executionInfo": {
     "elapsed": 6113,
     "status": "ok",
     "timestamp": 1608201257277,
     "user": {
      "displayName": "Ian Grant",
      "photoUrl": "",
      "userId": "14746146838898941070"
     },
     "user_tz": 0
    },
    "id": "iSNKJ-mI8iNs",
    "outputId": "e35fbb46-7769-4bee-fa32-54d60f935138"
   },
   "outputs": [
    {
     "name": "stdout",
     "output_type": "stream",
     "text": [
      "11440\n"
     ]
    }
   ],
   "source": [
    "deathsInPortugal = 140\n",
    "deathsInAngola = 6900\n",
    "deathsInBrazil = 4400\n",
    "deathsInRussia = 17000\n",
    "deathsInIndia = 240000\n",
    "deathsInChina = 41000\n",
    "deathsInSouthAfrica = 25000\n",
    "\n",
    "totalDeaths = deathsInAngola + deathsInBrazil + deathsInPortugal\n",
    "\n",
    "print(totalDeaths)"
   ]
  },
  {
   "cell_type": "markdown",
   "metadata": {
    "id": "MadZZ4FW8stI"
   },
   "source": [
    "4\n",
    "\n",
    "The average number of deaths is the total divided by the number of countries.\n"
   ]
  },
  {
   "cell_type": "code",
   "execution_count": 7,
   "metadata": {
    "colab": {
     "base_uri": "https://localhost:8080/"
    },
    "executionInfo": {
     "elapsed": 6071,
     "status": "ok",
     "timestamp": 1608201257278,
     "user": {
      "displayName": "Ian Grant",
      "photoUrl": "",
      "userId": "14746146838898941070"
     },
     "user_tz": 0
    },
    "id": "eMgSe4le8s15",
    "outputId": "34a606d9-50ff-4a8f-c9ab-b197083b623f"
   },
   "outputs": [
    {
     "name": "stdout",
     "output_type": "stream",
     "text": [
      "3813.3333333333335\n"
     ]
    }
   ],
   "source": [
    "deathsInPortugal = 140\n",
    "deathsInAngola = 6900\n",
    "deathsInBrazil = 4400\n",
    "deathsInRussia = 17000\n",
    "deathsInIndia = 240000\n",
    "deathsInChina = 41000\n",
    "deathsInSouthAfrica = 25000\n",
    "\n",
    "totalDeaths = deathsInAngola + deathsInBrazil + deathsInPortugal\n",
    "\n",
    "print(totalDeaths / 3)"
   ]
  },
  {
   "cell_type": "markdown",
   "metadata": {
    "id": "Y7AnhhMG82aL"
   },
   "source": [
    "5\n",
    "\n",
    "A **function** takes zero or more values (the functio's **arguments**) and **returns** (produces) a value. To **call** (use) a function, write the function name, followed by its arguments within parentheses (round brackets). Multiple arguments are separated by commas. Function names follow the same rules and conventions as variable names. A function call is an expression: the expression\"s value is the value returned by the function."
   ]
  },
  {
   "cell_type": "code",
   "execution_count": 8,
   "metadata": {
    "colab": {
     "base_uri": "https://localhost:8080/"
    },
    "executionInfo": {
     "elapsed": 6036,
     "status": "ok",
     "timestamp": 1608201257279,
     "user": {
      "displayName": "Ian Grant",
      "photoUrl": "",
      "userId": "14746146838898941070"
     },
     "user_tz": 0
    },
    "id": "4r4aQq-g83SV",
    "outputId": "9957283e-1ee5-4648-ed3a-5ff63eb63caa"
   },
   "outputs": [
    {
     "name": "stdout",
     "output_type": "stream",
     "text": [
      "4400\n"
     ]
    }
   ],
   "source": [
    "deathsInPortugal = 140\n",
    "deathsInAngola = 6900\n",
    "deathsInBrazil = 4400\n",
    "deathsInRussia = 17000\n",
    "deathsInIndia = 240000\n",
    "deathsInChina = 41000\n",
    "deathsInSouthAfrica = 25000\n",
    "\n",
    "print(max(deathsInBrazil, deathsInPortugal))"
   ]
  },
  {
   "cell_type": "markdown",
   "metadata": {
    "id": "wOTqaOaN9FnC"
   },
   "source": [
    "6"
   ]
  },
  {
   "cell_type": "code",
   "execution_count": 9,
   "metadata": {
    "colab": {
     "base_uri": "https://localhost:8080/"
    },
    "executionInfo": {
     "elapsed": 6026,
     "status": "ok",
     "timestamp": 1608201257303,
     "user": {
      "displayName": "Ian Grant",
      "photoUrl": "",
      "userId": "14746146838898941070"
     },
     "user_tz": 0
    },
    "id": "NT12eI_S9J-k",
    "outputId": "5f3ee3c6-2d0b-42bd-f3ee-bd689567c3ff"
   },
   "outputs": [
    {
     "name": "stdout",
     "output_type": "stream",
     "text": [
      "4400\n"
     ]
    }
   ],
   "source": [
    "deathsInPortugal = 140\n",
    "deathsInAngola = 6900\n",
    "deathsInBrazil = 4400\n",
    "deathsInRussia = 17000\n",
    "deathsInIndia = 240000\n",
    "deathsInChina = 41000\n",
    "deathsInSouthAfrica = 25000\n",
    "\n",
    "print(max(deathsInBrazil, deathsInPortugal))\n"
   ]
  },
  {
   "cell_type": "markdown",
   "metadata": {
    "id": "Tn5zW7-C9cOW"
   },
   "source": [
    "# Worksheet 1"
   ]
  },
  {
   "cell_type": "markdown",
   "metadata": {
    "id": "Bl5T3-ur-vYw"
   },
   "source": [
    "## Question 1\n",
    "\n",
    "Run the code:"
   ]
  },
  {
   "cell_type": "code",
   "execution_count": 10,
   "metadata": {
    "executionInfo": {
     "elapsed": 6026,
     "status": "ok",
     "timestamp": 1608201257308,
     "user": {
      "displayName": "Ian Grant",
      "photoUrl": "",
      "userId": "14746146838898941070"
     },
     "user_tz": 0
    },
    "id": "lCIWHVw59yrX"
   },
   "outputs": [],
   "source": [
    "import pandas as pd\n",
    "from pandas import *\n",
    "\n",
    "deathsInPortugal = 140\n",
    "deathsInAngola = 6900\n",
    "deathsInBrazil = 4400\n"
   ]
  },
  {
   "cell_type": "markdown",
   "metadata": {
    "id": "XDHhXL5R97tr"
   },
   "source": [
    "Add assignments for the estimated deaths by TB in 2013 in the remaining [BRICS countries](https://en.wikipedia.org/wiki/BRICS). The values are as follows: Russia 17000, India 240000, China 41000, South Africa 25000."
   ]
  },
  {
   "cell_type": "code",
   "execution_count": 11,
   "metadata": {
    "executionInfo": {
     "elapsed": 6023,
     "status": "ok",
     "timestamp": 1608201257310,
     "user": {
      "displayName": "Ian Grant",
      "photoUrl": "",
      "userId": "14746146838898941070"
     },
     "user_tz": 0
    },
    "id": "TxClAtgg9-O8"
   },
   "outputs": [],
   "source": [
    "# Question 1 type your code here\n",
    "\n"
   ]
  },
  {
   "cell_type": "markdown",
   "metadata": {
    "id": "z_dMGHOc-3W0"
   },
   "source": [
    "## Question 2\n",
    "\n",
    "Write code to calculate the total number of deaths in the five BRICS countries (Brazil, Russia, India, China, South Africa) in 2013. Run the code to see the result, which should be 327400.\n"
   ]
  },
  {
   "cell_type": "code",
   "execution_count": 12,
   "metadata": {
    "executionInfo": {
     "elapsed": 6013,
     "status": "ok",
     "timestamp": 1608201257312,
     "user": {
      "displayName": "Ian Grant",
      "photoUrl": "",
      "userId": "14746146838898941070"
     },
     "user_tz": 0
    },
    "id": "JbCFwd2O-NDl"
   },
   "outputs": [],
   "source": [
    "# Question 2 Response\n"
   ]
  },
  {
   "cell_type": "markdown",
   "metadata": {
    "id": "A5yqfj4M_Asy"
   },
   "source": [
    "## Question  3\n",
    "\n",
    "Write code to calculate the average number of deaths in the five BRICS countries in 2013. Run the code to see the result, which should be 65480.\n"
   ]
  },
  {
   "cell_type": "code",
   "execution_count": 13,
   "metadata": {
    "executionInfo": {
     "elapsed": 6013,
     "status": "ok",
     "timestamp": 1608201257316,
     "user": {
      "displayName": "Ian Grant",
      "photoUrl": "",
      "userId": "14746146838898941070"
     },
     "user_tz": 0
    },
    "id": "F6TJ69ur9tUQ"
   },
   "outputs": [],
   "source": [
    "# Question 3 Response\n"
   ]
  },
  {
   "cell_type": "markdown",
   "metadata": {
    "id": "8Lhaexmu_Rbg"
   },
   "source": [
    "## Question 4\n",
    "\n",
    "Write code to calculate the minimum number of deaths in the five BRICS countries in 2013. Run the code to see the result, which should be 4400.\n"
   ]
  },
  {
   "cell_type": "code",
   "execution_count": 14,
   "metadata": {
    "executionInfo": {
     "elapsed": 6011,
     "status": "ok",
     "timestamp": 1608201257318,
     "user": {
      "displayName": "Ian Grant",
      "photoUrl": "",
      "userId": "14746146838898941070"
     },
     "user_tz": 0
    },
    "id": "GqV7NT8p-C8z"
   },
   "outputs": [],
   "source": [
    "# Question 4 Response"
   ]
  },
  {
   "cell_type": "markdown",
   "metadata": {
    "id": "RMKmDzk0_cAs"
   },
   "source": [
    "## Question 5\n",
    "\n",
    "Write code to calculate the range of the number of deaths in the five BRICS countries in 2013. Run the code to see the result, which should be 235600.\n"
   ]
  },
  {
   "cell_type": "code",
   "execution_count": 15,
   "metadata": {
    "executionInfo": {
     "elapsed": 6009,
     "status": "ok",
     "timestamp": 1608201257320,
     "user": {
      "displayName": "Ian Grant",
      "photoUrl": "",
      "userId": "14746146838898941070"
     },
     "user_tz": 0
    },
    "id": "1WDEyXJE92Lu"
   },
   "outputs": [],
   "source": [
    "# Question 5 Response"
   ]
  },
  {
   "cell_type": "markdown",
   "metadata": {
    "id": "QoBwaHol_koB"
   },
   "source": [
    "## Question 6\n",
    "\n",
    "Calculate the deaths per 100 thousand inhabitants for Brazil. Its population in 2013 was roughly 200 million and 362 thousand people. You should obtain a result of around 2.2 deaths per 100 thousand people.\n"
   ]
  },
  {
   "cell_type": "markdown",
   "metadata": {
    "id": "i3sbLWvd_5aX"
   },
   "source": [
    "## Question 7\n",
    "\n",
    "Find out more about the pandas, numpy, scipy and matplotlib libraries.\n",
    "\n",
    "[http://pandas.pydata.org/pandas-docs/stable/10min.html](http://pandas.pydata.org/pandas-docs/stable/10min.html)\n",
    "\n",
    "\n",
    "\n"
   ]
  },
  {
   "cell_type": "markdown",
   "metadata": {
    "id": "indZB6QNbEH2"
   },
   "source": [
    "*Double click the text here and type your research, add links etc. Learn some of the simple markdown for a Jupyter Notebook.*"
   ]
  },
  {
   "cell_type": "markdown",
   "metadata": {
    "id": "wECOws8PAece"
   },
   "source": [
    "# 2 Data Files\n",
    "\n",
    "Being able to manipulate a few values is not particularly helpful. However manipulating data files is.\n",
    "\n",
    "Many applications can read files in Excel, Google Sheets, or CSV format, and pandas can too. \n"
   ]
  },
  {
   "cell_type": "markdown",
   "metadata": {},
   "source": [
    "## 2.0 Working with an Excel Spreadsheet in a Jupyter Notebook"
   ]
  },
  {
   "cell_type": "markdown",
   "metadata": {},
   "source": [
    "You can load an excel file or cvs file in Jupyter notebooks using Pandas. In this case the file 'WHO POP TB some.xlsx' must be in your Jupyter Notebook directory. There is a file manager in Jupyter Notebook to manage files."
   ]
  },
  {
   "cell_type": "code",
   "execution_count": 49,
   "metadata": {},
   "outputs": [
    {
     "name": "stdout",
     "output_type": "stream",
     "text": [
      "                  Country  Population (1000s)  TB deaths\n",
      "0                  Angola               21472       6900\n",
      "1                  Brazil              200362       4400\n",
      "2                   China             1393337      41000\n",
      "3       Equatorial Guinea                 757         67\n",
      "4           Guinea-Bissau                1704       1200\n",
      "5                   India             1252140     240000\n",
      "6              Mozambique               25834      18000\n",
      "7                Portugal               10608        140\n",
      "8      Russian Federation              142834      17000\n",
      "9   Sao Tome and Principe                 193         18\n",
      "10           South Africa               52776      25000\n",
      "11            Timor-Leste                1133        990\n"
     ]
    }
   ],
   "source": [
    "#!pip install -U -q xlrd # uncomment if you need xlrd\n",
    "import pandas as pd\n",
    "import xlrd\n",
    "data = pd.read_excel('WHO POP TB some.xlsx', sheet_name='WHO POP TB some.csv')\n",
    "print(data)\n",
    "\n",
    "#print(df.iloc[0][2]) #\n",
    "#type(df.iloc[0][2]) # Uncomment these lines to see the datatype of the values"
   ]
  },
  {
   "cell_type": "markdown",
   "metadata": {
    "id": "OD9x93jQlwM5"
   },
   "source": [
    "## 2.1 Working with Google Sheets in Google Colab\n",
    "Google Colab is a great implementation of Jupyter Notebooks by Google. It no longer works on our school accounts. I leave the instructions here (2.1, 2.2, 2.3) in case you wish to use Google Colab from a personal Google Account.\n",
    "\n",
    "If you are working with Google Colab, follow the instructions below.Colab can work with data files stored on your Google Drive.\n",
    "\n",
    "Before we can load a Google Sheet file into this Colab notebook, we need to give the notebook permission to access our Google Drive and direct it to the data. \n",
    "\n",
    "**Note:** We may run into problems with this. I'll add an appendix with notes should this not work as expected. I've made the data files public in my drive, and you have copies via Google Classroom so we'll see if it works when you use your own copy of this notebook. You may need to find the IDs of the files when opened in your instance of Google Sheets... lets wait and see.\n",
    "\n",
    "Run the code below to start the authentication process. Follow the prompts to choose your Google Account and copy the authentication key to paste into the field when prompted.\n"
   ]
  },
  {
   "cell_type": "code",
   "execution_count": null,
   "metadata": {},
   "outputs": [],
   "source": []
  },
  {
   "cell_type": "code",
   "execution_count": 16,
   "metadata": {
    "executionInfo": {
     "elapsed": 2641871,
     "status": "ok",
     "timestamp": 1608203893187,
     "user": {
      "displayName": "Ian Grant",
      "photoUrl": "",
      "userId": "14746146838898941070"
     },
     "user_tz": 0
    },
    "id": "JOmevccan4Aa"
   },
   "outputs": [],
   "source": [
    "from google.colab import auth\n",
    "auth.authenticate_user()\n",
    "import gspread\n",
    "from oauth2client.client import GoogleCredentials\n",
    "gc = gspread.authorize(GoogleCredentials.get_application_default())"
   ]
  },
  {
   "cell_type": "markdown",
   "metadata": {
    "id": "UNhckp9upi3G"
   },
   "source": [
    "Then we can use the gspread function `gc` to open a Google Sheet via its URL, then assign what tab or sheet we wish to use by name, here the tab is called `WHO POP TB some.cvs`. This process works for Excel documents that have been saved as a Google Sheet."
   ]
  },
  {
   "cell_type": "code",
   "execution_count": 17,
   "metadata": {
    "colab": {
     "base_uri": "https://localhost:8080/"
    },
    "executionInfo": {
     "elapsed": 2643034,
     "status": "ok",
     "timestamp": 1608203894373,
     "user": {
      "displayName": "Ian Grant",
      "photoUrl": "",
      "userId": "14746146838898941070"
     },
     "user_tz": 0
    },
    "id": "DsSda4GqodX9",
    "outputId": "6424e213-30a2-4660-e3ca-e95a4770b5a3"
   },
   "outputs": [
    {
     "name": "stdout",
     "output_type": "stream",
     "text": [
      "[['Country', 'Population (1000s)', 'TB deaths'], ['Angola', '21472', '6900'], ['Brazil', '200362', '4400'], ['China', '1393337', '41000'], ['Equatorial Guinea', '757', '67'], ['Guinea-Bissau', '1704', '1200'], ['India', '1252140', '240000'], ['Mozambique', '25834', '18000'], ['Portugal', '10608', '140'], ['Russian Federation', '142834', '17000'], ['Sao Tome and Principe', '193', '18'], ['South Africa', '52776', '25000'], ['Timor-Leste', '1133', '990']]\n"
     ]
    }
   ],
   "source": [
    "wb = gc.open_by_url('https://docs.google.com/spreadsheets/d/1QMJY8alNOzJT03AP_bzu8Q9OaTlcOvY8SRgsx9FpWK4/')\n",
    "sheet = wb.worksheet('WHO POP TB some.csv')\n",
    "data = sheet.get_all_values()\n",
    "print(data)"
   ]
  },
  {
   "cell_type": "markdown",
   "metadata": {
    "id": "EfR2dVPXplan"
   },
   "source": [
    "Ugly. Let's do some `pandas` foo."
   ]
  },
  {
   "cell_type": "code",
   "execution_count": 13,
   "metadata": {
    "colab": {
     "base_uri": "https://localhost:8080/",
     "height": 204
    },
    "executionInfo": {
     "elapsed": 2643021,
     "status": "ok",
     "timestamp": 1608203894373,
     "user": {
      "displayName": "Ian Grant",
      "photoUrl": "",
      "userId": "14746146838898941070"
     },
     "user_tz": 0
    },
    "id": "K5vnNSSUu8vP",
    "outputId": "f286b0fe-4964-480c-a654-ae79046e5341"
   },
   "outputs": [
    {
     "data": {
      "text/html": [
       "<div>\n",
       "<style scoped>\n",
       "    .dataframe tbody tr th:only-of-type {\n",
       "        vertical-align: middle;\n",
       "    }\n",
       "\n",
       "    .dataframe tbody tr th {\n",
       "        vertical-align: top;\n",
       "    }\n",
       "\n",
       "    .dataframe thead th {\n",
       "        text-align: right;\n",
       "    }\n",
       "</style>\n",
       "<table border=\"1\" class=\"dataframe\">\n",
       "  <thead>\n",
       "    <tr style=\"text-align: right;\">\n",
       "      <th></th>\n",
       "      <th>Angola</th>\n",
       "      <th>21472</th>\n",
       "      <th>6900</th>\n",
       "    </tr>\n",
       "  </thead>\n",
       "  <tbody>\n",
       "    <tr>\n",
       "      <th>1</th>\n",
       "      <td>Brazil</td>\n",
       "      <td>200362</td>\n",
       "      <td>4400</td>\n",
       "    </tr>\n",
       "    <tr>\n",
       "      <th>2</th>\n",
       "      <td>China</td>\n",
       "      <td>1393337</td>\n",
       "      <td>41000</td>\n",
       "    </tr>\n",
       "    <tr>\n",
       "      <th>3</th>\n",
       "      <td>Equatorial Guinea</td>\n",
       "      <td>757</td>\n",
       "      <td>67</td>\n",
       "    </tr>\n",
       "    <tr>\n",
       "      <th>4</th>\n",
       "      <td>Guinea-Bissau</td>\n",
       "      <td>1704</td>\n",
       "      <td>1200</td>\n",
       "    </tr>\n",
       "    <tr>\n",
       "      <th>5</th>\n",
       "      <td>India</td>\n",
       "      <td>1252140</td>\n",
       "      <td>240000</td>\n",
       "    </tr>\n",
       "  </tbody>\n",
       "</table>\n",
       "</div>"
      ],
      "text/plain": [
       "0             Angola    21472    6900\n",
       "1             Brazil   200362    4400\n",
       "2              China  1393337   41000\n",
       "3  Equatorial Guinea      757      67\n",
       "4      Guinea-Bissau     1704    1200\n",
       "5              India  1252140  240000"
      ]
     },
     "execution_count": 13,
     "metadata": {},
     "output_type": "execute_result"
    }
   ],
   "source": [
    "import pandas as pd\n",
    "import xlrd\n",
    "from pandas import *\n",
    "\n",
    "df = pd.DataFrame(data)\n",
    "df.columns = df.iloc[0]\n",
    "df = df.iloc[1:]\n",
    "\n",
    "df.head()"
   ]
  },
  {
   "cell_type": "markdown",
   "metadata": {
    "id": "PWH-4Q41vbvq"
   },
   "source": [
    "One problem, importing data this way does not preserve the data type of the cell data. Everything is a `str`."
   ]
  },
  {
   "cell_type": "code",
   "execution_count": 19,
   "metadata": {
    "colab": {
     "base_uri": "https://localhost:8080/"
    },
    "executionInfo": {
     "elapsed": 2643007,
     "status": "ok",
     "timestamp": 1608203894374,
     "user": {
      "displayName": "Ian Grant",
      "photoUrl": "",
      "userId": "14746146838898941070"
     },
     "user_tz": 0
    },
    "id": "sxCSOgN-vjMw",
    "outputId": "37fda342-5f70-47a9-c052-c256b54cf858"
   },
   "outputs": [
    {
     "name": "stdout",
     "output_type": "stream",
     "text": [
      "6900\n"
     ]
    }
   ],
   "source": [
    "print(df.iloc[0][2])"
   ]
  },
  {
   "cell_type": "code",
   "execution_count": 20,
   "metadata": {
    "colab": {
     "base_uri": "https://localhost:8080/"
    },
    "executionInfo": {
     "elapsed": 2642996,
     "status": "ok",
     "timestamp": 1608203894375,
     "user": {
      "displayName": "Ian Grant",
      "photoUrl": "",
      "userId": "14746146838898941070"
     },
     "user_tz": 0
    },
    "id": "cl5OsYgKv1Kx",
    "outputId": "ed5e06fd-147b-4b9b-ca26-e79ea1edf3e1"
   },
   "outputs": [
    {
     "data": {
      "text/plain": [
       "str"
      ]
     },
     "execution_count": 20,
     "metadata": {
      "tags": []
     },
     "output_type": "execute_result"
    }
   ],
   "source": [
    "type(df.iloc[0][2])"
   ]
  },
  {
   "cell_type": "markdown",
   "metadata": {
    "id": "Pnh5SHBQ4pDC"
   },
   "source": [
    "We can transform the datatypes like so:\n"
   ]
  },
  {
   "cell_type": "code",
   "execution_count": 41,
   "metadata": {
    "colab": {
     "base_uri": "https://localhost:8080/",
     "height": 204
    },
    "executionInfo": {
     "elapsed": 2642971,
     "status": "ok",
     "timestamp": 1608203894375,
     "user": {
      "displayName": "Ian Grant",
      "photoUrl": "",
      "userId": "14746146838898941070"
     },
     "user_tz": 0
    },
    "id": "GyWSUVnz4neQ",
    "outputId": "ca2b4ed1-f825-4a4c-9b2a-4408e4d78cc4"
   },
   "outputs": [
    {
     "data": {
      "text/html": [
       "<div>\n",
       "<style scoped>\n",
       "    .dataframe tbody tr th:only-of-type {\n",
       "        vertical-align: middle;\n",
       "    }\n",
       "\n",
       "    .dataframe tbody tr th {\n",
       "        vertical-align: top;\n",
       "    }\n",
       "\n",
       "    .dataframe thead th {\n",
       "        text-align: right;\n",
       "    }\n",
       "</style>\n",
       "<table border=\"1\" class=\"dataframe\">\n",
       "  <thead>\n",
       "    <tr style=\"text-align: right;\">\n",
       "      <th></th>\n",
       "      <th>Country</th>\n",
       "      <th>Population (1000s)</th>\n",
       "      <th>TB Deaths</th>\n",
       "    </tr>\n",
       "  </thead>\n",
       "  <tbody>\n",
       "    <tr>\n",
       "      <th>0</th>\n",
       "      <td>Angola</td>\n",
       "      <td>21472</td>\n",
       "      <td>6900</td>\n",
       "    </tr>\n",
       "    <tr>\n",
       "      <th>1</th>\n",
       "      <td>Brazil</td>\n",
       "      <td>200362</td>\n",
       "      <td>4400</td>\n",
       "    </tr>\n",
       "    <tr>\n",
       "      <th>2</th>\n",
       "      <td>China</td>\n",
       "      <td>1393337</td>\n",
       "      <td>41000</td>\n",
       "    </tr>\n",
       "    <tr>\n",
       "      <th>3</th>\n",
       "      <td>Equatorial Guinea</td>\n",
       "      <td>757</td>\n",
       "      <td>67</td>\n",
       "    </tr>\n",
       "    <tr>\n",
       "      <th>4</th>\n",
       "      <td>Guinea-Bissau</td>\n",
       "      <td>1704</td>\n",
       "      <td>1200</td>\n",
       "    </tr>\n",
       "  </tbody>\n",
       "</table>\n",
       "</div>"
      ],
      "text/plain": [
       "             Country  Population (1000s)  TB Deaths\n",
       "0             Angola               21472       6900\n",
       "1             Brazil              200362       4400\n",
       "2              China             1393337      41000\n",
       "3  Equatorial Guinea                 757         67\n",
       "4      Guinea-Bissau                1704       1200"
      ]
     },
     "execution_count": 41,
     "metadata": {},
     "output_type": "execute_result"
    }
   ],
   "source": [
    "df['country_new'] = df['Country'].apply(lambda x: '0' if x == '' else x)\n",
    "newDFSchema = { 'Country': df['Country'].astype(str),\n",
    "                 'Population (1000s)': df['Population (1000s)'].astype(int),\n",
    "                 'TB Deaths': df['TB deaths'].astype(int)\n",
    "}\n",
    "myScheme = pd.DataFrame(newDFSchema)\n",
    "myScheme.head()"
   ]
  },
  {
   "cell_type": "code",
   "execution_count": 22,
   "metadata": {
    "colab": {
     "base_uri": "https://localhost:8080/"
    },
    "executionInfo": {
     "elapsed": 2642938,
     "status": "ok",
     "timestamp": 1608203894376,
     "user": {
      "displayName": "Ian Grant",
      "photoUrl": "",
      "userId": "14746146838898941070"
     },
     "user_tz": 0
    },
    "id": "2rSFQPZVY5Zm",
    "outputId": "b3491193-fbfc-4e80-c7b5-42dd9c31b5d8"
   },
   "outputs": [
    {
     "data": {
      "text/plain": [
       "numpy.int64"
      ]
     },
     "execution_count": 22,
     "metadata": {
      "tags": []
     },
     "output_type": "execute_result"
    }
   ],
   "source": [
    "type(myScheme.iloc[0][2])"
   ]
  },
  {
   "cell_type": "markdown",
   "metadata": {
    "id": "eoomK-6cd0Nl"
   },
   "source": [
    "Yikes. That got complicated quite quickly. When starting out, we really shouldn't need to convert all our `csv` and `excel` files to Google Sheets nor re-apply the data types in such a way. We'll learn more about these problems cleaning data sources later. Lets try a different way to open our data files, using a couple of open source libraries."
   ]
  },
  {
   "cell_type": "markdown",
   "metadata": {
    "id": "CPX8gEiorIKF"
   },
   "source": [
    "<a name=\"excelfiles\"></a>\n",
    "## 2.2 Working with Excel Files in Google Colab"
   ]
  },
  {
   "cell_type": "markdown",
   "metadata": {
    "id": "6fO2wYcsmT3z"
   },
   "source": [
    "We'll Install the *PyDrive* wrapper using `pip` and import the authentication libraries needed to give the notebook permissions to access your Google Drive.\n",
    "\n",
    "This only needs to be done once per notebook."
   ]
  },
  {
   "cell_type": "code",
   "execution_count": 23,
   "metadata": {
    "executionInfo": {
     "elapsed": 2646544,
     "status": "ok",
     "timestamp": 1608203897989,
     "user": {
      "displayName": "Ian Grant",
      "photoUrl": "",
      "userId": "14746146838898941070"
     },
     "user_tz": 0
    },
    "id": "0bZkZ-rrmWRc"
   },
   "outputs": [],
   "source": [
    "!pip install -U -q PyDrive\n",
    "from pydrive.auth import GoogleAuth\n",
    "from pydrive.drive import GoogleDrive\n",
    "from google.colab import auth\n",
    "from oauth2client.client import GoogleCredentials\n",
    "\n",
    "auth.authenticate_user()\n",
    "gauth = GoogleAuth()\n",
    "gauth.credentials = GoogleCredentials.get_application_default()\n",
    "drive = GoogleDrive(gauth)"
   ]
  },
  {
   "cell_type": "markdown",
   "metadata": {
    "id": "TupVyys8nN_b"
   },
   "source": [
    "You'll need to get the file ID from the shareable link of the excel file in your google drive. Open it, click on `Share` -> `Get Link` -> `Copy Link`.\n",
    "\n",
    "\n",
    "\n",
    "\n",
    "\n",
    " "
   ]
  },
  {
   "cell_type": "code",
   "execution_count": 24,
   "metadata": {
    "executionInfo": {
     "elapsed": 2646535,
     "status": "ok",
     "timestamp": 1608203897989,
     "user": {
      "displayName": "Ian Grant",
      "photoUrl": "",
      "userId": "14746146838898941070"
     },
     "user_tz": 0
    },
    "id": "FJC5Bawypj9V"
   },
   "outputs": [],
   "source": [
    "\n",
    "file_id = '1Bc1SBNhfCOtTKPGhYQ-PMIlEYIMw-YDY' # the file ID for the file WHO POP TB some.xlsx on my Google Drive\n",
    "downloaded = drive.CreateFile({'id': file_id})"
   ]
  },
  {
   "cell_type": "markdown",
   "metadata": {
    "id": "2Yblvh-mqXbm"
   },
   "source": [
    "Give the file a meaningful name."
   ]
  },
  {
   "cell_type": "code",
   "execution_count": 25,
   "metadata": {
    "executionInfo": {
     "elapsed": 2648087,
     "status": "ok",
     "timestamp": 1608203899550,
     "user": {
      "displayName": "Ian Grant",
      "photoUrl": "",
      "userId": "14746146838898941070"
     },
     "user_tz": 0
    },
    "id": "yOzl20QhqcBd"
   },
   "outputs": [],
   "source": [
    "downloaded.GetContentFile('WHO POP TB some.xlsx')"
   ]
  },
  {
   "cell_type": "markdown",
   "metadata": {
    "id": "bwl0j4K6ldJ0"
   },
   "source": [
    "Now we are ready to pick up the course. Do note it is much easier to reference external data files if you have a standalone Python. Place the data files in the same directory as your python script and refer to them by name, as in the code below. \n",
    "Colab gives us some excellent features though: running in a web page gives us accompanying text, video, images providing context and interpretation, and extensions to let us explore our data interactively.\n"
   ]
  },
  {
   "cell_type": "code",
   "execution_count": 26,
   "metadata": {
    "colab": {
     "base_uri": "https://localhost:8080/"
    },
    "executionInfo": {
     "elapsed": 2648056,
     "status": "ok",
     "timestamp": 1608203899553,
     "user": {
      "displayName": "Ian Grant",
      "photoUrl": "",
      "userId": "14746146838898941070"
     },
     "user_tz": 0
    },
    "id": "GB_4vkUqAlyd",
    "outputId": "a8979bb8-7b74-47bd-8878-f4a0ab3578e2"
   },
   "outputs": [
    {
     "name": "stdout",
     "output_type": "stream",
     "text": [
      "The google.colab.data_table extension is not loaded.\n",
      "                  Country  Population (1000s)  TB deaths\n",
      "0                  Angola               21472       6900\n",
      "1                  Brazil              200362       4400\n",
      "2                   China             1393337      41000\n",
      "3       Equatorial Guinea                 757         67\n",
      "4           Guinea-Bissau                1704       1200\n",
      "5                   India             1252140     240000\n",
      "6              Mozambique               25834      18000\n",
      "7                Portugal               10608        140\n",
      "8      Russian Federation              142834      17000\n",
      "9   Sao Tome and Principe                 193         18\n",
      "10           South Africa               52776      25000\n",
      "11            Timor-Leste                1133        990\n",
      "12                     UK               66647         18\n"
     ]
    }
   ],
   "source": [
    "import pandas as pd\n",
    "import xlrd\n",
    "from pandas import *\n",
    "\n",
    "data = pd.read_excel(\"WHO POP TB some.xlsx\") \n",
    "\n",
    "#Uncomment each line below (one at a time) to see a colab extension in action\n",
    "#%load_ext google.colab.data_table \n",
    "%unload_ext google.colab.data_table \n",
    "\n",
    "# toggle comment on these lines and view the difference between print(data) and data\n",
    "print(data) \n",
    "#data"
   ]
  },
  {
   "cell_type": "markdown",
   "metadata": {
    "id": "efZ6SuFsAl_l"
   },
   "source": [
    "---\n",
    "**Please note:** I added the erroneous UK data to investigate how code works (or not) below when there is more than one row returned by a function e.g. `min()`. \n",
    "Please delete the fake UK data from the excel file if not required.\n",
    "\n",
    "---\n",
    "\n",
    "The variable name `data` is not descriptive, but as there is only one dataset in our analysis, there is no possible confusion with other data, and short names help to keep the lines of code short.\n",
    "\n",
    "The function `read_excel()` takes a file name as an argument and returns the table contained in the file. In pandas, tables are called **dataframes**. To load the data, I simply call the function and store the returned dataframe in a variable.\n",
    "\n",
    "A file name must be given as a **string**, a piece of text surrounded by quotes. The quote marks tell Python that this isn\"t a variable, function or module name. Also, the quote marks state that this is a single name, even if it contains spaces, punctuation and other characters besides letters."
   ]
  },
  {
   "cell_type": "markdown",
   "metadata": {
    "id": "LLWhsU82JgKr"
   },
   "source": [
    "## 2.3 Upload Files You Have Locally\n",
    "\n",
    "Possible the most straightforward way and avoiding those pesky IDs from Google Sheets. Two lines of code in your Colab notebook:"
   ]
  },
  {
   "cell_type": "code",
   "execution_count": 27,
   "metadata": {
    "colab": {
     "base_uri": "https://localhost:8080/",
     "height": 72,
     "resources": {
      "http://localhost:8080/nbextensions/google.colab/files.js": {
       "data": "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",
       "headers": [
        [
         "content-type",
         "application/javascript"
        ]
       ],
       "ok": true,
       "status": 200,
       "status_text": ""
      }
     }
    },
    "executionInfo": {
     "elapsed": 2704495,
     "status": "ok",
     "timestamp": 1608203956028,
     "user": {
      "displayName": "Ian Grant",
      "photoUrl": "",
      "userId": "14746146838898941070"
     },
     "user_tz": 0
    },
    "id": "XFwkyPB_J4pD",
    "outputId": "1885fe83-e56c-432b-b159-9822d76c466b"
   },
   "outputs": [
    {
     "data": {
      "text/html": [
       "\n",
       "     <input type=\"file\" id=\"files-f73a2198-af1f-40c7-ae51-cf452c901228\" name=\"files[]\" multiple disabled\n",
       "        style=\"border:none\" />\n",
       "     <output id=\"result-f73a2198-af1f-40c7-ae51-cf452c901228\">\n",
       "      Upload widget is only available when the cell has been executed in the\n",
       "      current browser session. Please rerun this cell to enable.\n",
       "      </output>\n",
       "      <script src=\"/nbextensions/google.colab/files.js\"></script> "
      ],
      "text/plain": [
       "<IPython.core.display.HTML object>"
      ]
     },
     "metadata": {
      "tags": []
     },
     "output_type": "display_data"
    },
    {
     "name": "stdout",
     "output_type": "stream",
     "text": [
      "Saving London_2014.csv to London_2014.csv\n"
     ]
    }
   ],
   "source": [
    "from google.colab import files\n",
    "uploaded = files.upload()"
   ]
  },
  {
   "cell_type": "markdown",
   "metadata": {
    "id": "DCYMfqwqJ6Ro"
   },
   "source": [
    "Find the local file and you're ready to go!"
   ]
  },
  {
   "cell_type": "markdown",
   "metadata": {
    "id": "rPgy1Ah-usZk"
   },
   "source": [
    "## Examples\n"
   ]
  },
  {
   "cell_type": "markdown",
   "metadata": {
    "id": "Yvou9kYQPS-6"
   },
   "source": [
    "1.\n",
    "\n",
    "Selecting a single column of a dataframe is done with an expression in the format: `dataFrame[\"column name\"].`"
   ]
  },
  {
   "cell_type": "code",
   "execution_count": 50,
   "metadata": {
    "colab": {
     "base_uri": "https://localhost:8080/"
    },
    "executionInfo": {
     "elapsed": 2704456,
     "status": "ok",
     "timestamp": 1608203956030,
     "user": {
      "displayName": "Ian Grant",
      "photoUrl": "",
      "userId": "14746146838898941070"
     },
     "user_tz": 0
    },
    "id": "6faAZBO5u8g1",
    "outputId": "14f754c7-8137-4f16-9c68-5b79841da0a6"
   },
   "outputs": [
    {
     "data": {
      "text/plain": [
       "0       6900\n",
       "1       4400\n",
       "2      41000\n",
       "3         67\n",
       "4       1200\n",
       "5     240000\n",
       "6      18000\n",
       "7        140\n",
       "8      17000\n",
       "9         18\n",
       "10     25000\n",
       "11       990\n",
       "Name: TB deaths, dtype: int64"
      ]
     },
     "execution_count": 50,
     "metadata": {},
     "output_type": "execute_result"
    }
   ],
   "source": [
    "tbColumn = data[\"TB deaths\"]\n",
    "\n",
    "#print(tbColumn)\n",
    "tbColumn"
   ]
  },
  {
   "cell_type": "markdown",
   "metadata": {
    "id": "wEGbhamwvK18"
   },
   "source": [
    "2.\n",
    "\n",
    "A **method** is a function that can only be called in a certain context, like a dataframe or a column. A **method call** is of the form\n",
    "```\n",
    "context.methodName(argument1, argument2, ...). \n",
    "```\n",
    "These include:\n",
    "\n",
    "```\n",
    "min\n",
    "max\n",
    "sum\n",
    "mean\n",
    "median\n",
    "idxmax\n",
    "idxmin\n",
    "```\n",
    "\n",
    "\n",
    "\n"
   ]
  },
  {
   "cell_type": "code",
   "execution_count": 51,
   "metadata": {
    "colab": {
     "base_uri": "https://localhost:8080/"
    },
    "executionInfo": {
     "elapsed": 2704409,
     "status": "ok",
     "timestamp": 1608203956031,
     "user": {
      "displayName": "Ian Grant",
      "photoUrl": "",
      "userId": "14746146838898941070"
     },
     "user_tz": 0
    },
    "id": "ThkqS9TMvn8T",
    "outputId": "c2d6fcb2-f017-4e51-fc4e-d25dea3bcbf8"
   },
   "outputs": [
    {
     "data": {
      "text/plain": [
       "18"
      ]
     },
     "execution_count": 51,
     "metadata": {},
     "output_type": "execute_result"
    }
   ],
   "source": [
    "tbColumn = data[\"TB deaths\"]\n",
    "\n",
    "tbColumn.min()\n"
   ]
  },
  {
   "cell_type": "markdown",
   "metadata": {
    "id": "2wYmsBt_zr4r"
   },
   "source": [
    "**Extension:** You can use string formatting to retrieve other column values from a min function. String formatting is very useful - take a moment to study the pattern. The `$s` tokens are replaced by the elements after the `%`. Try adding another string formatter to include the data from the population column alongside the result."
   ]
  },
  {
   "cell_type": "code",
   "execution_count": 52,
   "metadata": {
    "colab": {
     "base_uri": "https://localhost:8080/"
    },
    "executionInfo": {
     "elapsed": 2704357,
     "status": "ok",
     "timestamp": 1608203956031,
     "user": {
      "displayName": "Ian Grant",
      "photoUrl": "",
      "userId": "14746146838898941070"
     },
     "user_tz": 0
    },
    "id": "gctDUAZ4xoz6",
    "outputId": "ccc25864-a709-4a54-cee1-3a1524a22bfe"
   },
   "outputs": [
    {
     "name": "stdout",
     "output_type": "stream",
     "text": [
      "Angola had 18 TB deaths\n"
     ]
    }
   ],
   "source": [
    "s = data.min()\n",
    "print('%s had %s TB deaths' % (s['Country'], s['TB deaths']))"
   ]
  },
  {
   "cell_type": "markdown",
   "metadata": {
    "id": "pjlfs-4Z1u7y"
   },
   "source": [
    "The index max `idxmax` functions return index labels and can (in theory) return multiple results, should a value be duplicated in the dataset. (Like Sao Tome and UK in this dataset). Returning two rows is not presently working in this example. Hopefully, we'll see it later."
   ]
  },
  {
   "cell_type": "code",
   "execution_count": 53,
   "metadata": {
    "colab": {
     "base_uri": "https://localhost:8080/"
    },
    "executionInfo": {
     "elapsed": 2704880,
     "status": "ok",
     "timestamp": 1608203956595,
     "user": {
      "displayName": "Ian Grant",
      "photoUrl": "",
      "userId": "14746146838898941070"
     },
     "user_tz": 0
    },
    "id": "nLwOncbC1cCv",
    "outputId": "0b5903cb-8d70-4c79-dd94-d02e15d45e0f"
   },
   "outputs": [
    {
     "data": {
      "text/plain": [
       "Country               Sao Tome and Principe\n",
       "Population (1000s)                      193\n",
       "TB deaths                                18\n",
       "Name: 9, dtype: object"
      ]
     },
     "execution_count": 53,
     "metadata": {},
     "output_type": "execute_result"
    }
   ],
   "source": [
    "dd = data.sort_values(\"TB deaths\")\n",
    "dd.columns = ['Country', 'Population (1000s)', 'TB deaths']\n",
    "\n",
    "dd.groupby('Country').idxmin()['TB deaths']\n",
    "\n",
    "dd.loc[data['TB deaths'].idxmin()]\n"
   ]
  },
  {
   "cell_type": "markdown",
   "metadata": {
    "id": "KsuTMEK1vrvT"
   },
   "source": [
    "3.\n",
    "\n",
    "The dataframe method `sort_values()` takes as argument a column name and returns a new dataframe, with rows in ascending order according to the values in that column.\n",
    "\n",
    "**Sorting does not change the original table.**"
   ]
  },
  {
   "cell_type": "code",
   "execution_count": 54,
   "metadata": {
    "colab": {
     "base_uri": "https://localhost:8080/"
    },
    "executionInfo": {
     "elapsed": 2704876,
     "status": "ok",
     "timestamp": 1608203956595,
     "user": {
      "displayName": "Ian Grant",
      "photoUrl": "",
      "userId": "14746146838898941070"
     },
     "user_tz": 0
    },
    "id": "CyvAgvvCvuRy",
    "outputId": "dadeff19-e1cb-41f9-8a46-b85fb9b47f35"
   },
   "outputs": [
    {
     "name": "stdout",
     "output_type": "stream",
     "text": [
      "                  Country  Population (1000s)  TB deaths\n",
      "9   Sao Tome and Principe                 193         18\n",
      "3       Equatorial Guinea                 757         67\n",
      "7                Portugal               10608        140\n",
      "11            Timor-Leste                1133        990\n",
      "4           Guinea-Bissau                1704       1200\n",
      "1                  Brazil              200362       4400\n",
      "0                  Angola               21472       6900\n",
      "8      Russian Federation              142834      17000\n",
      "6              Mozambique               25834      18000\n",
      "10           South Africa               52776      25000\n",
      "2                   China             1393337      41000\n",
      "5                   India             1252140     240000\n"
     ]
    }
   ],
   "source": [
    "print(data.sort_values(\"TB deaths\"))"
   ]
  },
  {
   "cell_type": "markdown",
   "metadata": {
    "id": "swYV9EEb_usD"
   },
   "source": [
    "4.\n",
    "\n",
    "The value of an arithmetic expression involving columns is a column. In evaluating the expression, the computer computes the expression for each row.\n"
   ]
  },
  {
   "cell_type": "code",
   "execution_count": 55,
   "metadata": {
    "colab": {
     "base_uri": "https://localhost:8080/"
    },
    "executionInfo": {
     "elapsed": 2704872,
     "status": "ok",
     "timestamp": 1608203956596,
     "user": {
      "displayName": "Ian Grant",
      "photoUrl": "",
      "userId": "14746146838898941070"
     },
     "user_tz": 0
    },
    "id": "tnNVNUML_xhP",
    "outputId": "dda831b9-f15b-4006-c5bc-f3576ef721aa"
   },
   "outputs": [
    {
     "name": "stdout",
     "output_type": "stream",
     "text": [
      "0     32.134873\n",
      "1      2.196025\n",
      "2      2.942576\n",
      "3      8.850727\n",
      "4     70.422535\n",
      "5     19.167186\n",
      "6     69.675621\n",
      "7      1.319759\n",
      "8     11.901928\n",
      "9      9.326425\n",
      "10    47.370017\n",
      "11    87.378641\n",
      "dtype: float64\n"
     ]
    }
   ],
   "source": [
    "deathsColumn = data[\"TB deaths\"]\n",
    "populationColumn = data[\"Population (1000s)\"]\n",
    "\n",
    "rateColumn = deathsColumn * 100 / populationColumn\n",
    "\n",
    "print(rateColumn)\n"
   ]
  },
  {
   "cell_type": "markdown",
   "metadata": {
    "id": "FBT_l-QAADa0"
   },
   "source": [
    "5.\n",
    "\n",
    "To add a new column to a dataframe, \"select\" a non-existing column, i.e. with a new name, and assign to it.\n"
   ]
  },
  {
   "cell_type": "code",
   "execution_count": 56,
   "metadata": {
    "colab": {
     "base_uri": "https://localhost:8080/",
     "height": 452
    },
    "executionInfo": {
     "elapsed": 2704869,
     "status": "ok",
     "timestamp": 1608203956597,
     "user": {
      "displayName": "Ian Grant",
      "photoUrl": "",
      "userId": "14746146838898941070"
     },
     "user_tz": 0
    },
    "id": "9cAHh5A9AKpV",
    "outputId": "bfdaa99a-755d-41ba-fc24-fab989c06638"
   },
   "outputs": [
    {
     "data": {
      "text/html": [
       "<div>\n",
       "<style scoped>\n",
       "    .dataframe tbody tr th:only-of-type {\n",
       "        vertical-align: middle;\n",
       "    }\n",
       "\n",
       "    .dataframe tbody tr th {\n",
       "        vertical-align: top;\n",
       "    }\n",
       "\n",
       "    .dataframe thead th {\n",
       "        text-align: right;\n",
       "    }\n",
       "</style>\n",
       "<table border=\"1\" class=\"dataframe\">\n",
       "  <thead>\n",
       "    <tr style=\"text-align: right;\">\n",
       "      <th></th>\n",
       "      <th>Country</th>\n",
       "      <th>Population (1000s)</th>\n",
       "      <th>TB deaths</th>\n",
       "      <th>TB deaths (per 100000)</th>\n",
       "    </tr>\n",
       "  </thead>\n",
       "  <tbody>\n",
       "    <tr>\n",
       "      <th>7</th>\n",
       "      <td>Portugal</td>\n",
       "      <td>10608</td>\n",
       "      <td>140</td>\n",
       "      <td>1.319759</td>\n",
       "    </tr>\n",
       "    <tr>\n",
       "      <th>1</th>\n",
       "      <td>Brazil</td>\n",
       "      <td>200362</td>\n",
       "      <td>4400</td>\n",
       "      <td>2.196025</td>\n",
       "    </tr>\n",
       "    <tr>\n",
       "      <th>2</th>\n",
       "      <td>China</td>\n",
       "      <td>1393337</td>\n",
       "      <td>41000</td>\n",
       "      <td>2.942576</td>\n",
       "    </tr>\n",
       "    <tr>\n",
       "      <th>3</th>\n",
       "      <td>Equatorial Guinea</td>\n",
       "      <td>757</td>\n",
       "      <td>67</td>\n",
       "      <td>8.850727</td>\n",
       "    </tr>\n",
       "    <tr>\n",
       "      <th>9</th>\n",
       "      <td>Sao Tome and Principe</td>\n",
       "      <td>193</td>\n",
       "      <td>18</td>\n",
       "      <td>9.326425</td>\n",
       "    </tr>\n",
       "    <tr>\n",
       "      <th>8</th>\n",
       "      <td>Russian Federation</td>\n",
       "      <td>142834</td>\n",
       "      <td>17000</td>\n",
       "      <td>11.901928</td>\n",
       "    </tr>\n",
       "    <tr>\n",
       "      <th>5</th>\n",
       "      <td>India</td>\n",
       "      <td>1252140</td>\n",
       "      <td>240000</td>\n",
       "      <td>19.167186</td>\n",
       "    </tr>\n",
       "    <tr>\n",
       "      <th>0</th>\n",
       "      <td>Angola</td>\n",
       "      <td>21472</td>\n",
       "      <td>6900</td>\n",
       "      <td>32.134873</td>\n",
       "    </tr>\n",
       "    <tr>\n",
       "      <th>10</th>\n",
       "      <td>South Africa</td>\n",
       "      <td>52776</td>\n",
       "      <td>25000</td>\n",
       "      <td>47.370017</td>\n",
       "    </tr>\n",
       "    <tr>\n",
       "      <th>6</th>\n",
       "      <td>Mozambique</td>\n",
       "      <td>25834</td>\n",
       "      <td>18000</td>\n",
       "      <td>69.675621</td>\n",
       "    </tr>\n",
       "    <tr>\n",
       "      <th>4</th>\n",
       "      <td>Guinea-Bissau</td>\n",
       "      <td>1704</td>\n",
       "      <td>1200</td>\n",
       "      <td>70.422535</td>\n",
       "    </tr>\n",
       "    <tr>\n",
       "      <th>11</th>\n",
       "      <td>Timor-Leste</td>\n",
       "      <td>1133</td>\n",
       "      <td>990</td>\n",
       "      <td>87.378641</td>\n",
       "    </tr>\n",
       "  </tbody>\n",
       "</table>\n",
       "</div>"
      ],
      "text/plain": [
       "                  Country  Population (1000s)  TB deaths  \\\n",
       "7                Portugal               10608        140   \n",
       "1                  Brazil              200362       4400   \n",
       "2                   China             1393337      41000   \n",
       "3       Equatorial Guinea                 757         67   \n",
       "9   Sao Tome and Principe                 193         18   \n",
       "8      Russian Federation              142834      17000   \n",
       "5                   India             1252140     240000   \n",
       "0                  Angola               21472       6900   \n",
       "10           South Africa               52776      25000   \n",
       "6              Mozambique               25834      18000   \n",
       "4           Guinea-Bissau                1704       1200   \n",
       "11            Timor-Leste                1133        990   \n",
       "\n",
       "    TB deaths (per 100000)  \n",
       "7                 1.319759  \n",
       "1                 2.196025  \n",
       "2                 2.942576  \n",
       "3                 8.850727  \n",
       "9                 9.326425  \n",
       "8                11.901928  \n",
       "5                19.167186  \n",
       "0                32.134873  \n",
       "10               47.370017  \n",
       "6                69.675621  \n",
       "4                70.422535  \n",
       "11               87.378641  "
      ]
     },
     "execution_count": 56,
     "metadata": {},
     "output_type": "execute_result"
    }
   ],
   "source": [
    "data[\"TB deaths (per 100000)\"] = rateColumn\n",
    "data.sort_values(\"TB deaths (per 100000)\")\n"
   ]
  },
  {
   "cell_type": "markdown",
   "metadata": {
    "id": "8G-66yn0AI3J"
   },
   "source": [
    "# Worksheet 2"
   ]
  },
  {
   "cell_type": "markdown",
   "metadata": {
    "id": "IbET4MOFBka_"
   },
   "source": [
    "## Question 1\n",
    "\n",
    "Write code to import the Excel file called `WHO POP TB some.xlsx` and display the table.\n",
    "\n",
    "You'll need to make sure the file is in your Jupyter Notebook directory.\n",
    "\n",
    "You can reuse the setup code from earlier.\n",
    "\n",
    "Create your code below."
   ]
  },
  {
   "cell_type": "code",
   "execution_count": 34,
   "metadata": {
    "executionInfo": {
     "elapsed": 2704865,
     "status": "ok",
     "timestamp": 1608203956597,
     "user": {
      "displayName": "Ian Grant",
      "photoUrl": "",
      "userId": "14746146838898941070"
     },
     "user_tz": 0
    },
    "id": "_dUAQGI6BtHq"
   },
   "outputs": [],
   "source": []
  },
  {
   "cell_type": "markdown",
   "metadata": {
    "id": "z2BbdCbEB0fR"
   },
   "source": [
    "## Question 2\n",
    "\n",
    "Write code to select the population column and store it in a variable. Display the column stored in the variable.\n",
    "\n",
    "Create your code below."
   ]
  },
  {
   "cell_type": "code",
   "execution_count": 34,
   "metadata": {
    "executionInfo": {
     "elapsed": 2704859,
     "status": "ok",
     "timestamp": 1608203956598,
     "user": {
      "displayName": "Ian Grant",
      "photoUrl": "",
      "userId": "14746146838898941070"
     },
     "user_tz": 0
    },
    "id": "246ylN0-B0fZ"
   },
   "outputs": [],
   "source": []
  },
  {
   "cell_type": "markdown",
   "metadata": {
    "id": "NbGWSUu9B1FU"
   },
   "source": [
    "## Question 3\n",
    "\n",
    "Using the population column, calculate the following values:\n",
    "\n",
    "`sum` \n"
   ]
  },
  {
   "cell_type": "code",
   "execution_count": 35,
   "metadata": {
    "executionInfo": {
     "elapsed": 2704855,
     "status": "ok",
     "timestamp": 1608203956598,
     "user": {
      "displayName": "Ian Grant",
      "photoUrl": "",
      "userId": "14746146838898941070"
     },
     "user_tz": 0
    },
    "id": "5XDOe72sB1FV"
   },
   "outputs": [],
   "source": [
    "# your code here"
   ]
  },
  {
   "cell_type": "markdown",
   "metadata": {
    "id": "aKbGmrefB1hz"
   },
   "source": [
    "`max`"
   ]
  },
  {
   "cell_type": "code",
   "execution_count": 36,
   "metadata": {
    "executionInfo": {
     "elapsed": 2704852,
     "status": "ok",
     "timestamp": 1608203956599,
     "user": {
      "displayName": "Ian Grant",
      "photoUrl": "",
      "userId": "14746146838898941070"
     },
     "user_tz": 0
    },
    "id": "6YGbYrf3B1hz"
   },
   "outputs": [],
   "source": [
    "# your code here"
   ]
  },
  {
   "cell_type": "markdown",
   "metadata": {
    "id": "kvAxUKfLDXOw"
   },
   "source": [
    "`min`"
   ]
  },
  {
   "cell_type": "code",
   "execution_count": 37,
   "metadata": {
    "executionInfo": {
     "elapsed": 2704847,
     "status": "ok",
     "timestamp": 1608203956599,
     "user": {
      "displayName": "Ian Grant",
      "photoUrl": "",
      "userId": "14746146838898941070"
     },
     "user_tz": 0
    },
    "id": "maf5bG2zDXO6"
   },
   "outputs": [],
   "source": [
    "# your code here"
   ]
  },
  {
   "cell_type": "markdown",
   "metadata": {
    "id": "C4xyeMZWDbc_"
   },
   "source": [
    "`mean`"
   ]
  },
  {
   "cell_type": "code",
   "execution_count": 38,
   "metadata": {
    "executionInfo": {
     "elapsed": 2704843,
     "status": "ok",
     "timestamp": 1608203956600,
     "user": {
      "displayName": "Ian Grant",
      "photoUrl": "",
      "userId": "14746146838898941070"
     },
     "user_tz": 0
    },
    "id": "P1XIH7p-Dbc_"
   },
   "outputs": [],
   "source": [
    "# your code here"
   ]
  },
  {
   "cell_type": "markdown",
   "metadata": {
    "id": "UmV5_WpsDh7I"
   },
   "source": [
    "`median`"
   ]
  },
  {
   "cell_type": "code",
   "execution_count": 39,
   "metadata": {
    "executionInfo": {
     "elapsed": 2704837,
     "status": "ok",
     "timestamp": 1608203956600,
     "user": {
      "displayName": "Ian Grant",
      "photoUrl": "",
      "userId": "14746146838898941070"
     },
     "user_tz": 0
    },
    "id": "TiDhOti8Dh7J"
   },
   "outputs": [],
   "source": [
    "# your code here"
   ]
  },
  {
   "cell_type": "markdown",
   "metadata": {
    "id": "g8N0oxkHB2Fb"
   },
   "source": [
    "## Question 4\n",
    "Write code to sort the table by the following column:\n",
    "\n",
    "`Population (1000s)`"
   ]
  },
  {
   "cell_type": "code",
   "execution_count": 40,
   "metadata": {
    "executionInfo": {
     "elapsed": 2704834,
     "status": "ok",
     "timestamp": 1608203956601,
     "user": {
      "displayName": "Ian Grant",
      "photoUrl": "",
      "userId": "14746146838898941070"
     },
     "user_tz": 0
    },
    "id": "kBC8rCGkB2Fc"
   },
   "outputs": [],
   "source": [
    "# your code here"
   ]
  },
  {
   "cell_type": "markdown",
   "metadata": {
    "id": "Mxx64WROD3h4"
   },
   "source": [
    "`Country`"
   ]
  },
  {
   "cell_type": "code",
   "execution_count": 41,
   "metadata": {
    "executionInfo": {
     "elapsed": 2704831,
     "status": "ok",
     "timestamp": 1608203956601,
     "user": {
      "displayName": "Ian Grant",
      "photoUrl": "",
      "userId": "14746146838898941070"
     },
     "user_tz": 0
    },
    "id": "rnCETu0VD3h7"
   },
   "outputs": [],
   "source": [
    "# your code here"
   ]
  },
  {
   "cell_type": "markdown",
   "metadata": {
    "id": "PCGW1p-jDGGM"
   },
   "source": [
    "## Question 5\n",
    "\n",
    "Add code to calculate the range of the population, in thousands of inhabitants.\n"
   ]
  },
  {
   "cell_type": "code",
   "execution_count": 42,
   "metadata": {
    "executionInfo": {
     "elapsed": 2704828,
     "status": "ok",
     "timestamp": 1608203956602,
     "user": {
      "displayName": "Ian Grant",
      "photoUrl": "",
      "userId": "14746146838898941070"
     },
     "user_tz": 0
    },
    "id": "fuuuyxYDDGGN"
   },
   "outputs": [],
   "source": [
    "# your code here"
   ]
  },
  {
   "cell_type": "markdown",
   "metadata": {
    "id": "YSH_4FAADGsb"
   },
   "source": [
    "## Question 6\n",
    "\n",
    "Write code to calculate the mean of the death rate.\n"
   ]
  },
  {
   "cell_type": "code",
   "execution_count": 43,
   "metadata": {
    "executionInfo": {
     "elapsed": 2704824,
     "status": "ok",
     "timestamp": 1608203956602,
     "user": {
      "displayName": "Ian Grant",
      "photoUrl": "",
      "userId": "14746146838898941070"
     },
     "user_tz": 0
    },
    "id": "A1m5wg4GDGsc"
   },
   "outputs": [],
   "source": [
    "# your code here"
   ]
  },
  {
   "cell_type": "markdown",
   "metadata": {
    "id": "MRfm_tr4EPu1"
   },
   "source": [
    "## Question 7\n",
    "\n",
    "Write code to calculate the median of the death rate.\n"
   ]
  },
  {
   "cell_type": "code",
   "execution_count": 44,
   "metadata": {
    "executionInfo": {
     "elapsed": 2704820,
     "status": "ok",
     "timestamp": 1608203956603,
     "user": {
      "displayName": "Ian Grant",
      "photoUrl": "",
      "userId": "14746146838898941070"
     },
     "user_tz": 0
    },
    "id": "2Q0nqS1GEPu-"
   },
   "outputs": [],
   "source": [
    "# your code here"
   ]
  },
  {
   "cell_type": "markdown",
   "metadata": {
    "id": "181UTIJuEZ3X"
   },
   "source": [
    "## Question 8\n",
    "\n",
    "Write code to add columns to the original dataframe for the calculations generated from questions 6 and 7.\n"
   ]
  },
  {
   "cell_type": "code",
   "execution_count": 45,
   "metadata": {
    "executionInfo": {
     "elapsed": 2704815,
     "status": "ok",
     "timestamp": 1608203956603,
     "user": {
      "displayName": "Ian Grant",
      "photoUrl": "",
      "userId": "14746146838898941070"
     },
     "user_tz": 0
    },
    "id": "oMYFPHaeEZ3Y"
   },
   "outputs": [],
   "source": [
    "# your code here"
   ]
  },
  {
   "cell_type": "markdown",
   "metadata": {
    "id": "jkqDVgPdExF8"
   },
   "source": [
    "# 3 Cleaning up our act\n",
    "\n"
   ]
  },
  {
   "cell_type": "markdown",
   "metadata": {
    "id": "FCE7QKxv7DX6"
   },
   "source": [
    "## Task: What do we mean by dirty data?"
   ]
  },
  {
   "cell_type": "code",
   "execution_count": 58,
   "metadata": {
    "executionInfo": {
     "elapsed": 609,
     "status": "ok",
     "timestamp": 1608204141344,
     "user": {
      "displayName": "Ian Grant",
      "photoUrl": "",
      "userId": "14746146838898941070"
     },
     "user_tz": 0
    },
    "id": "KkwGWGB2E8II"
   },
   "outputs": [],
   "source": [
    "\n",
    "Response =  'answer' #@param {type:\"raw\"}\n"
   ]
  },
  {
   "cell_type": "markdown",
   "metadata": {
    "id": "2nj52AjP4UTB"
   },
   "source": [
    "Watch this video:"
   ]
  },
  {
   "cell_type": "code",
   "execution_count": 60,
   "metadata": {
    "cellView": "form",
    "colab": {
     "base_uri": "https://localhost:8080/",
     "height": 336
    },
    "executionInfo": {
     "elapsed": 628,
     "status": "ok",
     "timestamp": 1608204070767,
     "user": {
      "displayName": "Ian Grant",
      "photoUrl": "",
      "userId": "14746146838898941070"
     },
     "user_tz": 0
    },
    "id": "y_yINUWdabka",
    "outputId": "1b691ab6-de8f-4076-e5f5-1b02768f5705"
   },
   "outputs": [
    {
     "data": {
      "text/html": [
       "<iframe width=\"560\" height=\"315\" src=\"https://www.youtube-nocookie.com/embed/Z7ffLdRsftg\" frameborder=\"0\" allow=\"accelerometer; autoplay; clipboard-write; encrypted-media; gyroscope; picture-in-picture\" allowfullscreen></iframe>"
      ],
      "text/plain": [
       "<IPython.core.display.HTML object>"
      ]
     },
     "execution_count": 60,
     "metadata": {},
     "output_type": "execute_result"
    }
   ],
   "source": [
    "#@title\n",
    "from IPython.display import HTML, IFrame\n",
    "HTML('<iframe width=\"560\" height=\"315\" src=\"https://www.youtube-nocookie.com/embed/Z7ffLdRsftg\" frameborder=\"0\" allow=\"accelerometer; autoplay; clipboard-write; encrypted-media; gyroscope; picture-in-picture\" allowfullscreen></iframe>')"
   ]
  },
  {
   "cell_type": "markdown",
   "metadata": {
    "id": "koUyth3iGUDH"
   },
   "source": [
    "Data is very often published in a form that you can\"t immediately start to work with.\n",
    "\n",
    "Dirty data needs to be put through a process known as data cleaning or data cleansing, before it can be analysed. Data cleaning is often a substantial, but unglamorous, part of data analysis.\n",
    "\n",
    "If you have to work with data, you may have stories about dirty data you have seen or been presented with. If you're at liberty to do so, share some of those examples with the class.\n"
   ]
  },
  {
   "cell_type": "markdown",
   "metadata": {
    "id": "8ZjoCgeiGdpO"
   },
   "source": [
    "## Importing a CSV file"
   ]
  },
  {
   "cell_type": "markdown",
   "metadata": {
    "id": "AVGdGtdRGxP7"
   },
   "source": [
    "Be sure to run the Colab file importing setup code from earlier: [Working with Excel Files in Google Colab](#excelfiles).\n",
    "\n",
    "Our csv files go through a text importing process when opening in Google Sheets. When you make an edit, Google Sheets forces you to save the file as `.XLSX`. This seems a pain. Practice importing files in different formats. I created another, simpler, Colab notebook, to understand the process: find it here: [Load Excel File.ipynb](https://colab.research.google.com/drive/1fTXRptYoiOtYSz2DQI0SLtoS5OvPOcFX#scrollTo=b3tgN6I_buJl)"
   ]
  },
  {
   "cell_type": "code",
   "execution_count": 51,
   "metadata": {
    "executionInfo": {
     "elapsed": 1049,
     "status": "ok",
     "timestamp": 1608204146728,
     "user": {
      "displayName": "Ian Grant",
      "photoUrl": "",
      "userId": "14746146838898941070"
     },
     "user_tz": 0
    },
    "id": "aW0RzbhPJFL3"
   },
   "outputs": [],
   "source": [
    "# Uncomment and run this if you are using Google Colab\n",
    "#file_id = '1kbTStESjT-B1gyOelkBIZbK37ZlQKrOQ' \n",
    "#downloaded = drive.CreateFile({'id': file_id})\n",
    "#downloaded.GetContentFile('WHO POP TB all.csv')"
   ]
  },
  {
   "cell_type": "code",
   "execution_count": 63,
   "metadata": {
    "colab": {
     "base_uri": "https://localhost:8080/",
     "height": 419
    },
    "executionInfo": {
     "elapsed": 638,
     "status": "ok",
     "timestamp": 1608204085462,
     "user": {
      "displayName": "Ian Grant",
      "photoUrl": "",
      "userId": "14746146838898941070"
     },
     "user_tz": 0
    },
    "id": "XyZEEl8PGifS",
    "outputId": "798b8d78-b8e6-4ea9-f691-0f4315ff87e5"
   },
   "outputs": [
    {
     "data": {
      "text/html": [
       "<div>\n",
       "<style scoped>\n",
       "    .dataframe tbody tr th:only-of-type {\n",
       "        vertical-align: middle;\n",
       "    }\n",
       "\n",
       "    .dataframe tbody tr th {\n",
       "        vertical-align: top;\n",
       "    }\n",
       "\n",
       "    .dataframe thead th {\n",
       "        text-align: right;\n",
       "    }\n",
       "</style>\n",
       "<table border=\"1\" class=\"dataframe\">\n",
       "  <thead>\n",
       "    <tr style=\"text-align: right;\">\n",
       "      <th></th>\n",
       "      <th>Country</th>\n",
       "      <th>Population (1000s)</th>\n",
       "      <th>TB deaths</th>\n",
       "    </tr>\n",
       "  </thead>\n",
       "  <tbody>\n",
       "    <tr>\n",
       "      <th>0</th>\n",
       "      <td>Afghanistan</td>\n",
       "      <td>30552</td>\n",
       "      <td>13000.00</td>\n",
       "    </tr>\n",
       "    <tr>\n",
       "      <th>1</th>\n",
       "      <td>Albania</td>\n",
       "      <td>3173</td>\n",
       "      <td>20.00</td>\n",
       "    </tr>\n",
       "    <tr>\n",
       "      <th>2</th>\n",
       "      <td>Algeria</td>\n",
       "      <td>39208</td>\n",
       "      <td>5100.00</td>\n",
       "    </tr>\n",
       "    <tr>\n",
       "      <th>3</th>\n",
       "      <td>Andorra</td>\n",
       "      <td>79</td>\n",
       "      <td>0.26</td>\n",
       "    </tr>\n",
       "    <tr>\n",
       "      <th>4</th>\n",
       "      <td>Angola</td>\n",
       "      <td>21472</td>\n",
       "      <td>6900.00</td>\n",
       "    </tr>\n",
       "    <tr>\n",
       "      <th>...</th>\n",
       "      <td>...</td>\n",
       "      <td>...</td>\n",
       "      <td>...</td>\n",
       "    </tr>\n",
       "    <tr>\n",
       "      <th>189</th>\n",
       "      <td>Venezuela (Bolivarian Republic of)</td>\n",
       "      <td>30405</td>\n",
       "      <td>480.00</td>\n",
       "    </tr>\n",
       "    <tr>\n",
       "      <th>190</th>\n",
       "      <td>Viet Nam</td>\n",
       "      <td>91680</td>\n",
       "      <td>17000.00</td>\n",
       "    </tr>\n",
       "    <tr>\n",
       "      <th>191</th>\n",
       "      <td>Yemen</td>\n",
       "      <td>24407</td>\n",
       "      <td>990.00</td>\n",
       "    </tr>\n",
       "    <tr>\n",
       "      <th>192</th>\n",
       "      <td>Zambia</td>\n",
       "      <td>14539</td>\n",
       "      <td>3600.00</td>\n",
       "    </tr>\n",
       "    <tr>\n",
       "      <th>193</th>\n",
       "      <td>Zimbabwe</td>\n",
       "      <td>14150</td>\n",
       "      <td>5700.00</td>\n",
       "    </tr>\n",
       "  </tbody>\n",
       "</table>\n",
       "<p>194 rows × 3 columns</p>\n",
       "</div>"
      ],
      "text/plain": [
       "                                Country  Population (1000s)  TB deaths\n",
       "0                           Afghanistan               30552   13000.00\n",
       "1                               Albania                3173      20.00\n",
       "2                               Algeria               39208    5100.00\n",
       "3                               Andorra                  79       0.26\n",
       "4                                Angola               21472    6900.00\n",
       "..                                  ...                 ...        ...\n",
       "189  Venezuela (Bolivarian Republic of)               30405     480.00\n",
       "190                            Viet Nam               91680   17000.00\n",
       "191                               Yemen               24407     990.00\n",
       "192                              Zambia               14539    3600.00\n",
       "193                            Zimbabwe               14150    5700.00\n",
       "\n",
       "[194 rows x 3 columns]"
      ]
     },
     "execution_count": 63,
     "metadata": {},
     "output_type": "execute_result"
    }
   ],
   "source": [
    "import pandas as pd\n",
    "from pandas import *\n",
    "\n",
    "data = pd.read_csv(\"WHO POP TB all.csv\")\n",
    "data"
   ]
  },
  {
   "cell_type": "markdown",
   "metadata": {
    "id": "0e5cdsYaH374"
   },
   "source": [
    "## Dataframes and the \"dot\" notation\n",
    "\n",
    "`df.sort(\"Country\")`\n",
    "\n",
    "Because there is a variable name, followed by a dot, followed by the method, this is called dot notation. Methods are said to be a property of a dataframe. In addition to methods, dataframes have another property – attributes."
   ]
  },
  {
   "cell_type": "markdown",
   "metadata": {
    "id": "XpWrJx_yO8GQ"
   },
   "source": [
    "## Attributes\n",
    "\n",
    "A dataframe attribute is like a variable that can only be accessed in the context of a dataframe. One such attribute is columns which holds a dataframe's column names.\n",
    "\n",
    "So the expression `df.columns` evaluates to the value of the columns attribute inside the dataframe df. The following code will get and display the names of the columns in the dataframe df:\n",
    "\n",
    "`df.columns`\n"
   ]
  },
  {
   "cell_type": "markdown",
   "metadata": {
    "id": "hPTV-YqWP-3M"
   },
   "source": [
    "## Examples\n"
   ]
  },
  {
   "cell_type": "markdown",
   "metadata": {
    "id": "kt9iVJRoQFsB"
   },
   "source": [
    "1.\n",
    "\n",
    "You can get and display any single row in a dataframe by using the irow() method with the index of the row you want to access as its argument. \n",
    "\n",
    "**Note:** `irow()` is DEPRECATED. Use `iloc[i]` instead."
   ]
  },
  {
   "cell_type": "code",
   "execution_count": 64,
   "metadata": {
    "colab": {
     "base_uri": "https://localhost:8080/"
    },
    "executionInfo": {
     "elapsed": 621,
     "status": "ok",
     "timestamp": 1608204151564,
     "user": {
      "displayName": "Ian Grant",
      "photoUrl": "",
      "userId": "14746146838898941070"
     },
     "user_tz": 0
    },
    "id": "vx2IQu_h8fZN",
    "outputId": "a3afdb02-3ce1-4628-a088-f2caa6fea051"
   },
   "outputs": [
    {
     "data": {
      "text/plain": [
       "Country               Algeria\n",
       "Population (1000s)      39208\n",
       "TB deaths                5100\n",
       "Name: 2, dtype: object"
      ]
     },
     "execution_count": 64,
     "metadata": {},
     "output_type": "execute_result"
    }
   ],
   "source": [
    "data.iloc[2]"
   ]
  },
  {
   "cell_type": "code",
   "execution_count": 65,
   "metadata": {
    "colab": {
     "base_uri": "https://localhost:8080/"
    },
    "executionInfo": {
     "elapsed": 603,
     "status": "ok",
     "timestamp": 1608204153994,
     "user": {
      "displayName": "Ian Grant",
      "photoUrl": "",
      "userId": "14746146838898941070"
     },
     "user_tz": 0
    },
    "id": "sSPXaqs_QNWJ",
    "outputId": "d3de5edb-97d6-4728-b20b-db0b8b20861c"
   },
   "outputs": [
    {
     "name": "stdout",
     "output_type": "stream",
     "text": [
      "(0, Country               Afghanistan\n",
      "Population (1000s)          30552\n",
      "TB deaths                   13000\n",
      "Name: 0, dtype: object)\n",
      "(1, Country               Albania\n",
      "Population (1000s)       3173\n",
      "TB deaths                  20\n",
      "Name: 1, dtype: object)\n",
      "(2, Country               Algeria\n",
      "Population (1000s)      39208\n",
      "TB deaths                5100\n",
      "Name: 2, dtype: object)\n",
      "(3, Country               Andorra\n",
      "Population (1000s)         79\n",
      "TB deaths                0.26\n",
      "Name: 3, dtype: object)\n",
      "(4, Country               Angola\n",
      "Population (1000s)     21472\n",
      "TB deaths               6900\n",
      "Name: 4, dtype: object)\n",
      "(5, Country               Antigua and Barbuda\n",
      "Population (1000s)                     90\n",
      "TB deaths                             1.2\n",
      "Name: 5, dtype: object)\n",
      "(6, Country               Argentina\n",
      "Population (1000s)        41446\n",
      "TB deaths                   570\n",
      "Name: 6, dtype: object)\n",
      "(7, Country               Armenia\n",
      "Population (1000s)       2977\n",
      "TB deaths                 170\n",
      "Name: 7, dtype: object)\n",
      "(8, Country               Australia\n",
      "Population (1000s)        23343\n",
      "TB deaths                    45\n",
      "Name: 8, dtype: object)\n",
      "(9, Country               Austria\n",
      "Population (1000s)       8495\n",
      "TB deaths                  29\n",
      "Name: 9, dtype: object)\n",
      "(10, Country               Azerbaijan\n",
      "Population (1000s)          9413\n",
      "TB deaths                    360\n",
      "Name: 10, dtype: object)\n",
      "(11, Country               Bahamas\n",
      "Population (1000s)        377\n",
      "TB deaths                 1.8\n",
      "Name: 11, dtype: object)\n",
      "(12, Country               Bahrain\n",
      "Population (1000s)       1332\n",
      "TB deaths                 9.6\n",
      "Name: 12, dtype: object)\n",
      "(13, Country               Bangladesh\n",
      "Population (1000s)        156595\n",
      "TB deaths                  80000\n",
      "Name: 13, dtype: object)\n",
      "(14, Country               Barbados\n",
      "Population (1000s)         285\n",
      "TB deaths                    2\n",
      "Name: 14, dtype: object)\n",
      "(15, Country               Belarus\n",
      "Population (1000s)       9357\n",
      "TB deaths                 850\n",
      "Name: 15, dtype: object)\n",
      "(16, Country               Belgium\n",
      "Population (1000s)      11104\n",
      "TB deaths                  18\n",
      "Name: 16, dtype: object)\n",
      "(17, Country               Belize\n",
      "Population (1000s)       332\n",
      "TB deaths                 20\n",
      "Name: 17, dtype: object)\n",
      "(18, Country               Benin\n",
      "Population (1000s)    10323\n",
      "TB deaths              1300\n",
      "Name: 18, dtype: object)\n",
      "(19, Country               Bhutan\n",
      "Population (1000s)       754\n",
      "TB deaths                 88\n",
      "Name: 19, dtype: object)\n",
      "(20, Country               Bolivia (Plurinational State of)\n",
      "Population (1000s)                               10671\n",
      "TB deaths                                          430\n",
      "Name: 20, dtype: object)\n",
      "(21, Country               Bosnia and Herzegovina\n",
      "Population (1000s)                      3829\n",
      "TB deaths                                190\n",
      "Name: 21, dtype: object)\n",
      "(22, Country               Botswana\n",
      "Population (1000s)        2021\n",
      "TB deaths                  440\n",
      "Name: 22, dtype: object)\n",
      "(23, Country               Brazil\n",
      "Population (1000s)    200362\n",
      "TB deaths               4400\n",
      "Name: 23, dtype: object)\n",
      "(24, Country               Brunei Darussalam\n",
      "Population (1000s)                  418\n",
      "TB deaths                            13\n",
      "Name: 24, dtype: object)\n",
      "(25, Country               Bulgaria\n",
      "Population (1000s)        7223\n",
      "TB deaths                  150\n",
      "Name: 25, dtype: object)\n",
      "(26, Country               Burkina Faso\n",
      "Population (1000s)           16935\n",
      "TB deaths                     1500\n",
      "Name: 26, dtype: object)\n",
      "(27, Country               Burundi\n",
      "Population (1000s)      10163\n",
      "TB deaths                2300\n",
      "Name: 27, dtype: object)\n",
      "(28, Country               CÃ´te d'Ivoire\n",
      "Population (1000s)             20316\n",
      "TB deaths                       4000\n",
      "Name: 28, dtype: object)\n",
      "(29, Country               Cabo Verde\n",
      "Population (1000s)           499\n",
      "TB deaths                    150\n",
      "Name: 29, dtype: object)\n",
      "(30, Country               Cambodia\n",
      "Population (1000s)       15135\n",
      "TB deaths                10000\n",
      "Name: 30, dtype: object)\n",
      "(31, Country               Cameroon\n",
      "Population (1000s)       22254\n",
      "TB deaths                 7800\n",
      "Name: 31, dtype: object)\n",
      "(32, Country               Canada\n",
      "Population (1000s)     35182\n",
      "TB deaths                 62\n",
      "Name: 32, dtype: object)\n",
      "(33, Country               Central African Republic\n",
      "Population (1000s)                        4616\n",
      "TB deaths                                 2200\n",
      "Name: 33, dtype: object)\n",
      "(34, Country                Chad\n",
      "Population (1000s)    12825\n",
      "TB deaths              2900\n",
      "Name: 34, dtype: object)\n",
      "(35, Country               Chile\n",
      "Population (1000s)    17620\n",
      "TB deaths               220\n",
      "Name: 35, dtype: object)\n",
      "(36, Country                 China\n",
      "Population (1000s)    1393337\n",
      "TB deaths               41000\n",
      "Name: 36, dtype: object)\n",
      "(37, Country               Colombia\n",
      "Population (1000s)       48321\n",
      "TB deaths                  770\n",
      "Name: 37, dtype: object)\n",
      "(38, Country               Comoros\n",
      "Population (1000s)        735\n",
      "TB deaths                  58\n",
      "Name: 38, dtype: object)\n",
      "(39, Country               Congo\n",
      "Population (1000s)     4448\n",
      "TB deaths              2000\n",
      "Name: 39, dtype: object)\n",
      "(40, Country               Cook Islands\n",
      "Population (1000s)              21\n",
      "TB deaths                     0.41\n",
      "Name: 40, dtype: object)\n",
      "(41, Country               Costa Rica\n",
      "Population (1000s)          4872\n",
      "TB deaths                     33\n",
      "Name: 41, dtype: object)\n",
      "(42, Country               Croatia\n",
      "Population (1000s)       4290\n",
      "TB deaths                  52\n",
      "Name: 42, dtype: object)\n",
      "(43, Country                Cuba\n",
      "Population (1000s)    11266\n",
      "TB deaths                37\n",
      "Name: 43, dtype: object)\n",
      "(44, Country               Cyprus\n",
      "Population (1000s)      1141\n",
      "TB deaths                2.3\n",
      "Name: 44, dtype: object)\n",
      "(45, Country               Czech Republic\n",
      "Population (1000s)             10702\n",
      "TB deaths                         28\n",
      "Name: 45, dtype: object)\n",
      "(46, Country               Democratic People's Republic of Korea\n",
      "Population (1000s)                                    24895\n",
      "TB deaths                                              6700\n",
      "Name: 46, dtype: object)\n",
      "(47, Country               Democratic Republic of the Congo\n",
      "Population (1000s)                               67514\n",
      "TB deaths                                        46000\n",
      "Name: 47, dtype: object)\n",
      "(48, Country               Denmark\n",
      "Population (1000s)       5619\n",
      "TB deaths                  24\n",
      "Name: 48, dtype: object)\n",
      "(49, Country               Djibouti\n",
      "Population (1000s)         873\n",
      "TB deaths                  870\n",
      "Name: 49, dtype: object)\n",
      "(50, Country               Dominica\n",
      "Population (1000s)          72\n",
      "TB deaths                  2.7\n",
      "Name: 50, dtype: object)\n",
      "(51, Country               Dominican Republic\n",
      "Population (1000s)                 10404\n",
      "TB deaths                            590\n",
      "Name: 51, dtype: object)\n",
      "(52, Country               Ecuador\n",
      "Population (1000s)      15738\n",
      "TB deaths                 320\n",
      "Name: 52, dtype: object)\n",
      "(53, Country               Egypt\n",
      "Population (1000s)    82056\n",
      "TB deaths               550\n",
      "Name: 53, dtype: object)\n",
      "(54, Country               El Salvador\n",
      "Population (1000s)           6340\n",
      "TB deaths                      61\n",
      "Name: 54, dtype: object)\n",
      "(55, Country               Equatorial Guinea\n",
      "Population (1000s)                  757\n",
      "TB deaths                            67\n",
      "Name: 55, dtype: object)\n",
      "(56, Country               Eritrea\n",
      "Population (1000s)       6333\n",
      "TB deaths                1200\n",
      "Name: 56, dtype: object)\n",
      "(57, Country               Estonia\n",
      "Population (1000s)       1287\n",
      "TB deaths                  32\n",
      "Name: 57, dtype: object)\n",
      "(58, Country               Ethiopia\n",
      "Population (1000s)       94101\n",
      "TB deaths                30000\n",
      "Name: 58, dtype: object)\n",
      "(59, Country               Fiji\n",
      "Population (1000s)     881\n",
      "TB deaths               37\n",
      "Name: 59, dtype: object)\n",
      "(60, Country               Finland\n",
      "Population (1000s)       5426\n",
      "TB deaths                  17\n",
      "Name: 60, dtype: object)\n",
      "(61, Country               France\n",
      "Population (1000s)     64291\n",
      "TB deaths                340\n",
      "Name: 61, dtype: object)\n",
      "(62, Country               Gabon\n",
      "Population (1000s)     1672\n",
      "TB deaths               910\n",
      "Name: 62, dtype: object)\n",
      "(63, Country               Gambia\n",
      "Population (1000s)      1849\n",
      "TB deaths                370\n",
      "Name: 63, dtype: object)\n",
      "(64, Country               Georgia\n",
      "Population (1000s)       4341\n",
      "TB deaths                 310\n",
      "Name: 64, dtype: object)\n",
      "(65, Country               Germany\n",
      "Population (1000s)      82727\n",
      "TB deaths                 300\n",
      "Name: 65, dtype: object)\n",
      "(66, Country               Ghana\n",
      "Population (1000s)    25905\n",
      "TB deaths              1100\n",
      "Name: 66, dtype: object)\n",
      "(67, Country               Greece\n",
      "Population (1000s)     11128\n",
      "TB deaths                 77\n",
      "Name: 67, dtype: object)\n",
      "(68, Country               Grenada\n",
      "Population (1000s)        106\n",
      "TB deaths                 1.1\n",
      "Name: 68, dtype: object)\n",
      "(69, Country               Guatemala\n",
      "Population (1000s)        15468\n",
      "TB deaths                   250\n",
      "Name: 69, dtype: object)\n",
      "(70, Country               Guinea\n",
      "Population (1000s)     11745\n",
      "TB deaths               3200\n",
      "Name: 70, dtype: object)\n",
      "(71, Country               Guinea-Bissau\n",
      "Population (1000s)             1704\n",
      "TB deaths                      1200\n",
      "Name: 71, dtype: object)\n",
      "(72, Country               Guyana\n",
      "Population (1000s)       800\n",
      "TB deaths                130\n",
      "Name: 72, dtype: object)\n",
      "(73, Country               Haiti\n",
      "Population (1000s)    10317\n",
      "TB deaths              2700\n",
      "Name: 73, dtype: object)\n",
      "(74, Country               Honduras\n",
      "Population (1000s)        8098\n",
      "TB deaths                  230\n",
      "Name: 74, dtype: object)\n",
      "(75, Country               Hungary\n",
      "Population (1000s)       9955\n",
      "TB deaths                  81\n",
      "Name: 75, dtype: object)\n",
      "(76, Country               Iceland\n",
      "Population (1000s)        330\n",
      "TB deaths                0.93\n",
      "Name: 76, dtype: object)\n",
      "(77, Country                 India\n",
      "Population (1000s)    1252140\n",
      "TB deaths              240000\n",
      "Name: 77, dtype: object)\n",
      "(78, Country               Indonesia\n",
      "Population (1000s)       249866\n",
      "TB deaths                 64000\n",
      "Name: 78, dtype: object)\n",
      "(79, Country               Iran (Islamic Republic of)\n",
      "Population (1000s)                         77447\n",
      "TB deaths                                   2500\n",
      "Name: 79, dtype: object)\n",
      "(80, Country                Iraq\n",
      "Population (1000s)    33765\n",
      "TB deaths               780\n",
      "Name: 80, dtype: object)\n",
      "(81, Country               Ireland\n",
      "Population (1000s)       4627\n",
      "TB deaths                  18\n",
      "Name: 81, dtype: object)\n",
      "(82, Country               Israel\n",
      "Population (1000s)      7733\n",
      "TB deaths                 16\n",
      "Name: 82, dtype: object)\n",
      "(83, Country               Italy\n",
      "Population (1000s)    60990\n",
      "TB deaths               310\n",
      "Name: 83, dtype: object)\n",
      "(84, Country               Jamaica\n",
      "Population (1000s)       2784\n",
      "TB deaths                  17\n",
      "Name: 84, dtype: object)\n",
      "(85, Country                Japan\n",
      "Population (1000s)    127144\n",
      "TB deaths               2100\n",
      "Name: 85, dtype: object)\n",
      "(86, Country               Jordan\n",
      "Population (1000s)      7274\n",
      "TB deaths                 35\n",
      "Name: 86, dtype: object)\n",
      "(87, Country               Kazakhstan\n",
      "Population (1000s)         16441\n",
      "TB deaths                   1600\n",
      "Name: 87, dtype: object)\n",
      "(88, Country               Kenya\n",
      "Population (1000s)    44354\n",
      "TB deaths              9100\n",
      "Name: 88, dtype: object)\n",
      "(89, Country               Kiribati\n",
      "Population (1000s)         102\n",
      "TB deaths                   30\n",
      "Name: 89, dtype: object)\n",
      "(90, Country               Kuwait\n",
      "Population (1000s)      3369\n",
      "TB deaths                 33\n",
      "Name: 90, dtype: object)\n",
      "(91, Country               Kyrgyzstan\n",
      "Population (1000s)          5548\n",
      "TB deaths                    620\n",
      "Name: 91, dtype: object)\n",
      "(92, Country               Lao People's Democratic Republic\n",
      "Population (1000s)                                6770\n",
      "TB deaths                                         3600\n",
      "Name: 92, dtype: object)\n",
      "(93, Country               Latvia\n",
      "Population (1000s)      2050\n",
      "TB deaths                 43\n",
      "Name: 93, dtype: object)\n",
      "(94, Country               Lebanon\n",
      "Population (1000s)       4822\n",
      "TB deaths                  42\n",
      "Name: 94, dtype: object)\n",
      "(95, Country               Lesotho\n",
      "Population (1000s)       2074\n",
      "TB deaths                 960\n",
      "Name: 95, dtype: object)\n",
      "(96, Country               Liberia\n",
      "Population (1000s)       4294\n",
      "TB deaths                2100\n",
      "Name: 96, dtype: object)\n",
      "(97, Country               Libya\n",
      "Population (1000s)     6202\n",
      "TB deaths               540\n",
      "Name: 97, dtype: object)\n",
      "(98, Country               Lithuania\n",
      "Population (1000s)         3017\n",
      "TB deaths                   250\n",
      "Name: 98, dtype: object)\n",
      "(99, Country               Luxembourg\n",
      "Population (1000s)           530\n",
      "TB deaths                    2.2\n",
      "Name: 99, dtype: object)\n",
      "(100, Country               Madagascar\n",
      "Population (1000s)         22925\n",
      "TB deaths                  12000\n",
      "Name: 100, dtype: object)\n",
      "(101, Country               Malawi\n",
      "Population (1000s)     16363\n",
      "TB deaths               1500\n",
      "Name: 101, dtype: object)\n",
      "(102, Country               Malaysia\n",
      "Population (1000s)       29717\n",
      "TB deaths                 1700\n",
      "Name: 102, dtype: object)\n",
      "(103, Country               Maldives\n",
      "Population (1000s)         345\n",
      "TB deaths                  7.6\n",
      "Name: 103, dtype: object)\n",
      "(104, Country                Mali\n",
      "Population (1000s)    15302\n",
      "TB deaths              1600\n",
      "Name: 104, dtype: object)\n",
      "(105, Country               Malta\n",
      "Population (1000s)      429\n",
      "TB deaths               1.5\n",
      "Name: 105, dtype: object)\n",
      "(106, Country               Marshall Islands\n",
      "Population (1000s)                  53\n",
      "TB deaths                           21\n",
      "Name: 106, dtype: object)\n",
      "(107, Country               Mauritania\n",
      "Population (1000s)          3890\n",
      "TB deaths                   1000\n",
      "Name: 107, dtype: object)\n",
      "(108, Country               Mauritius\n",
      "Population (1000s)         1244\n",
      "TB deaths                    15\n",
      "Name: 108, dtype: object)\n",
      "(109, Country               Mexico\n",
      "Population (1000s)    122332\n",
      "TB deaths               2200\n",
      "Name: 109, dtype: object)\n",
      "(110, Country               Micronesia (Federated States of)\n",
      "Population (1000s)                                 104\n",
      "TB deaths                                           22\n",
      "Name: 110, dtype: object)\n",
      "(111, Country               Monaco\n",
      "Population (1000s)        38\n",
      "TB deaths               0.03\n",
      "Name: 111, dtype: object)\n",
      "(112, Country               Mongolia\n",
      "Population (1000s)        2839\n",
      "TB deaths                  140\n",
      "Name: 112, dtype: object)\n",
      "(113, Country               Montenegro\n",
      "Population (1000s)           621\n",
      "TB deaths                    1.2\n",
      "Name: 113, dtype: object)\n",
      "(114, Country               Morocco\n",
      "Population (1000s)      33008\n",
      "TB deaths                2800\n",
      "Name: 114, dtype: object)\n",
      "(115, Country               Mozambique\n",
      "Population (1000s)         25834\n",
      "TB deaths                  18000\n",
      "Name: 115, dtype: object)\n",
      "(116, Country               Myanmar\n",
      "Population (1000s)      53259\n",
      "TB deaths               26000\n",
      "Name: 116, dtype: object)\n",
      "(117, Country               Namibia\n",
      "Population (1000s)       2303\n",
      "TB deaths                1300\n",
      "Name: 117, dtype: object)\n",
      "(118, Country               Nauru\n",
      "Population (1000s)       10\n",
      "TB deaths              0.67\n",
      "Name: 118, dtype: object)\n",
      "(119, Country               Nepal\n",
      "Population (1000s)    27797\n",
      "TB deaths              4600\n",
      "Name: 119, dtype: object)\n",
      "(120, Country               Netherlands\n",
      "Population (1000s)          16759\n",
      "TB deaths                      20\n",
      "Name: 120, dtype: object)\n",
      "(121, Country               New Zealand\n",
      "Population (1000s)           4506\n",
      "TB deaths                     6.3\n",
      "Name: 121, dtype: object)\n",
      "(122, Country               Nicaragua\n",
      "Population (1000s)         6080\n",
      "TB deaths                   160\n",
      "Name: 122, dtype: object)\n",
      "(123, Country               Niger\n",
      "Population (1000s)    17831\n",
      "TB deaths              3100\n",
      "Name: 123, dtype: object)\n",
      "(124, Country               Nigeria\n",
      "Population (1000s)     173615\n",
      "TB deaths              160000\n",
      "Name: 124, dtype: object)\n",
      "(125, Country               Niue\n",
      "Population (1000s)       1\n",
      "TB deaths             0.01\n",
      "Name: 125, dtype: object)\n",
      "(126, Country               Norway\n",
      "Population (1000s)      5043\n",
      "TB deaths                4.4\n",
      "Name: 126, dtype: object)\n",
      "(127, Country               Oman\n",
      "Population (1000s)    3632\n",
      "TB deaths               25\n",
      "Name: 127, dtype: object)\n",
      "(128, Country               Pakistan\n",
      "Population (1000s)      182143\n",
      "TB deaths                49000\n",
      "Name: 128, dtype: object)\n",
      "(129, Country               Palau\n",
      "Population (1000s)       21\n",
      "TB deaths              0.36\n",
      "Name: 129, dtype: object)\n",
      "(130, Country               Panama\n",
      "Population (1000s)      3864\n",
      "TB deaths                180\n",
      "Name: 130, dtype: object)\n",
      "(131, Country               Papua New Guinea\n",
      "Population (1000s)                7321\n",
      "TB deaths                         2400\n",
      "Name: 131, dtype: object)\n",
      "(132, Country               Paraguay\n",
      "Population (1000s)        6802\n",
      "TB deaths                  200\n",
      "Name: 132, dtype: object)\n",
      "(133, Country                Peru\n",
      "Population (1000s)    30376\n",
      "TB deaths              2300\n",
      "Name: 133, dtype: object)\n",
      "(134, Country               Philippines\n",
      "Population (1000s)          98394\n",
      "TB deaths                   27000\n",
      "Name: 134, dtype: object)\n",
      "(135, Country               Poland\n",
      "Population (1000s)     38217\n",
      "TB deaths                650\n",
      "Name: 135, dtype: object)\n",
      "(136, Country               Portugal\n",
      "Population (1000s)       10608\n",
      "TB deaths                  140\n",
      "Name: 136, dtype: object)\n",
      "(137, Country               Qatar\n",
      "Population (1000s)     2169\n",
      "TB deaths               2.7\n",
      "Name: 137, dtype: object)\n",
      "(138, Country               Republic of Korea\n",
      "Population (1000s)                49263\n",
      "TB deaths                          2600\n",
      "Name: 138, dtype: object)\n",
      "(139, Country               Republic of Moldova\n",
      "Population (1000s)                   3487\n",
      "TB deaths                             480\n",
      "Name: 139, dtype: object)\n",
      "(140, Country               Romania\n",
      "Population (1000s)      21699\n",
      "TB deaths                1200\n",
      "Name: 140, dtype: object)\n",
      "(141, Country               Russian Federation\n",
      "Population (1000s)                142834\n",
      "TB deaths                          17000\n",
      "Name: 141, dtype: object)\n",
      "(142, Country               Rwanda\n",
      "Population (1000s)     11777\n",
      "TB deaths                810\n",
      "Name: 142, dtype: object)\n",
      "(143, Country               Saint Kitts and Nevis\n",
      "Population (1000s)                       54\n",
      "TB deaths                               1.6\n",
      "Name: 143, dtype: object)\n",
      "(144, Country               Saint Lucia\n",
      "Population (1000s)            182\n",
      "TB deaths                     2.2\n",
      "Name: 144, dtype: object)\n",
      "(145, Country               Saint Vincent and the Grenadines\n",
      "Population (1000s)                                 109\n",
      "TB deaths                                          3.1\n",
      "Name: 145, dtype: object)\n",
      "(146, Country               Samoa\n",
      "Population (1000s)      190\n",
      "TB deaths               6.1\n",
      "Name: 146, dtype: object)\n",
      "(147, Country               San Marino\n",
      "Population (1000s)            31\n",
      "TB deaths                      0\n",
      "Name: 147, dtype: object)\n",
      "(148, Country               Sao Tome and Principe\n",
      "Population (1000s)                      193\n",
      "TB deaths                                18\n",
      "Name: 148, dtype: object)\n",
      "(149, Country               Saudi Arabia\n",
      "Population (1000s)           28829\n",
      "TB deaths                      960\n",
      "Name: 149, dtype: object)\n",
      "(150, Country               Senegal\n",
      "Population (1000s)      14133\n",
      "TB deaths                2900\n",
      "Name: 150, dtype: object)\n",
      "(151, Country               Serbia\n",
      "Population (1000s)      9511\n",
      "TB deaths                150\n",
      "Name: 151, dtype: object)\n",
      "(152, Country               Seychelles\n",
      "Population (1000s)            93\n",
      "TB deaths                    1.4\n",
      "Name: 152, dtype: object)\n",
      "(153, Country               Sierra Leone\n",
      "Population (1000s)            6092\n",
      "TB deaths                     2600\n",
      "Name: 153, dtype: object)\n",
      "(154, Country               Singapore\n",
      "Population (1000s)         5412\n",
      "TB deaths                    94\n",
      "Name: 154, dtype: object)\n",
      "(155, Country               Slovakia\n",
      "Population (1000s)        5450\n",
      "TB deaths                   35\n",
      "Name: 155, dtype: object)\n",
      "(156, Country               Slovenia\n",
      "Population (1000s)        2072\n",
      "TB deaths                   21\n",
      "Name: 156, dtype: object)\n",
      "(157, Country               Solomon Islands\n",
      "Population (1000s)                561\n",
      "TB deaths                          81\n",
      "Name: 157, dtype: object)\n",
      "(158, Country               Somalia\n",
      "Population (1000s)      10496\n",
      "TB deaths                7700\n",
      "Name: 158, dtype: object)\n",
      "(159, Country               South Africa\n",
      "Population (1000s)           52776\n",
      "TB deaths                    25000\n",
      "Name: 159, dtype: object)\n",
      "(160, Country               South Sudan\n",
      "Population (1000s)          11296\n",
      "TB deaths                    4500\n",
      "Name: 160, dtype: object)\n",
      "(161, Country               Spain\n",
      "Population (1000s)    46927\n",
      "TB deaths               240\n",
      "Name: 161, dtype: object)\n",
      "(162, Country               Sri Lanka\n",
      "Population (1000s)        21273\n",
      "TB deaths                  1300\n",
      "Name: 162, dtype: object)\n",
      "(163, Country               Sudan\n",
      "Population (1000s)    37964\n",
      "TB deaths              9700\n",
      "Name: 163, dtype: object)\n",
      "(164, Country               Suriname\n",
      "Population (1000s)         539\n",
      "TB deaths                   12\n",
      "Name: 164, dtype: object)\n",
      "(165, Country               Swaziland\n",
      "Population (1000s)         1250\n",
      "TB deaths                  1100\n",
      "Name: 165, dtype: object)\n",
      "(166, Country               Sweden\n",
      "Population (1000s)      9571\n",
      "TB deaths                 13\n",
      "Name: 166, dtype: object)\n",
      "(167, Country               Switzerland\n",
      "Population (1000s)           8078\n",
      "TB deaths                      17\n",
      "Name: 167, dtype: object)\n",
      "(168, Country               Syrian Arab Republic\n",
      "Population (1000s)                   21898\n",
      "TB deaths                              450\n",
      "Name: 168, dtype: object)\n",
      "(169, Country               Tajikistan\n",
      "Population (1000s)          8208\n",
      "TB deaths                    570\n",
      "Name: 169, dtype: object)\n",
      "(170, Country               Thailand\n",
      "Population (1000s)       67010\n",
      "TB deaths                 8100\n",
      "Name: 170, dtype: object)\n",
      "(171, Country               The former Yugoslav republic of Macedonia\n",
      "Population (1000s)                                         2107\n",
      "TB deaths                                                    33\n",
      "Name: 171, dtype: object)\n",
      "(172, Country               Timor-Leste\n",
      "Population (1000s)           1133\n",
      "TB deaths                     990\n",
      "Name: 172, dtype: object)\n",
      "(173, Country               Togo\n",
      "Population (1000s)    6817\n",
      "TB deaths              810\n",
      "Name: 173, dtype: object)\n",
      "(174, Country               Tonga\n",
      "Population (1000s)      105\n",
      "TB deaths               2.5\n",
      "Name: 174, dtype: object)\n",
      "(175, Country               Trinidad and Tobago\n",
      "Population (1000s)                   1341\n",
      "TB deaths                              29\n",
      "Name: 175, dtype: object)\n",
      "(176, Country               Tunisia\n",
      "Population (1000s)      10997\n",
      "TB deaths                 230\n",
      "Name: 176, dtype: object)\n",
      "(177, Country               Turkey\n",
      "Population (1000s)     74933\n",
      "TB deaths                310\n",
      "Name: 177, dtype: object)\n",
      "(178, Country               Turkmenistan\n",
      "Population (1000s)            5240\n",
      "TB deaths                     1300\n",
      "Name: 178, dtype: object)\n",
      "(179, Country               Tuvalu\n",
      "Population (1000s)        10\n",
      "TB deaths                2.8\n",
      "Name: 179, dtype: object)\n",
      "(180, Country               Uganda\n",
      "Population (1000s)     37579\n",
      "TB deaths               4100\n",
      "Name: 180, dtype: object)\n",
      "(181, Country               Ukraine\n",
      "Population (1000s)      45239\n",
      "TB deaths                6600\n",
      "Name: 181, dtype: object)\n",
      "(182, Country               United Arab Emirates\n",
      "Population (1000s)                    9346\n",
      "TB deaths                               64\n",
      "Name: 182, dtype: object)\n",
      "(183, Country               United Kingdom of Great Britain and Northern I...\n",
      "Population (1000s)                                                63136\n",
      "TB deaths                                                           340\n",
      "Name: 183, dtype: object)\n",
      "(184, Country               United Republic of Tanzania\n",
      "Population (1000s)                          49253\n",
      "TB deaths                                    6000\n",
      "Name: 184, dtype: object)\n",
      "(185, Country               United States of America\n",
      "Population (1000s)                      320051\n",
      "TB deaths                                  490\n",
      "Name: 185, dtype: object)\n",
      "(186, Country               Uruguay\n",
      "Population (1000s)       3407\n",
      "TB deaths                  40\n",
      "Name: 186, dtype: object)\n",
      "(187, Country               Uzbekistan\n",
      "Population (1000s)         28934\n",
      "TB deaths                   2200\n",
      "Name: 187, dtype: object)\n",
      "(188, Country               Vanuatu\n",
      "Population (1000s)        253\n",
      "TB deaths                  16\n",
      "Name: 188, dtype: object)\n",
      "(189, Country               Venezuela (Bolivarian Republic of)\n",
      "Population (1000s)                                 30405\n",
      "TB deaths                                            480\n",
      "Name: 189, dtype: object)\n",
      "(190, Country               Viet Nam\n",
      "Population (1000s)       91680\n",
      "TB deaths                17000\n",
      "Name: 190, dtype: object)\n",
      "(191, Country               Yemen\n",
      "Population (1000s)    24407\n",
      "TB deaths               990\n",
      "Name: 191, dtype: object)\n",
      "(192, Country               Zambia\n",
      "Population (1000s)     14539\n",
      "TB deaths               3600\n",
      "Name: 192, dtype: object)\n",
      "(193, Country               Zimbabwe\n",
      "Population (1000s)       14150\n",
      "TB deaths                 5700\n",
      "Name: 193, dtype: object)\n"
     ]
    }
   ],
   "source": [
    "for row in data.iterrows():\n",
    "    print (row)\n",
    "\n"
   ]
  },
  {
   "cell_type": "markdown",
   "metadata": {
    "id": "yVsBdxiRQKZa"
   },
   "source": [
    "2.\n",
    "\n",
    "The following code will get and display the third row of data in the dataframe df, which is at index 2.\n",
    "This is not an optimal way to do this. The good people at stackoverflow would be angry, to say the least.\n",
    "\n",
    "**Update**: a recommended and efficient way to do it is with `iloc[]` and notice the dot notation used to get the country column value.\n"
   ]
  },
  {
   "cell_type": "code",
   "execution_count": 66,
   "metadata": {
    "colab": {
     "base_uri": "https://localhost:8080/"
    },
    "executionInfo": {
     "elapsed": 713,
     "status": "ok",
     "timestamp": 1608204159970,
     "user": {
      "displayName": "Ian Grant",
      "photoUrl": "",
      "userId": "14746146838898941070"
     },
     "user_tz": 0
    },
    "id": "Dp_u7_eqQR0J",
    "outputId": "bc668bca-1e50-49ba-c4e4-2686d9deded4"
   },
   "outputs": [
    {
     "name": "stdout",
     "output_type": "stream",
     "text": [
      "Algeria\n",
      "Algeria\n"
     ]
    }
   ],
   "source": [
    "#efficient\n",
    "print(data.iloc[2].Country)\n",
    "\n",
    "\n",
    "#inefficient\n",
    "for pos, row in data.iterrows():\n",
    "    if pos == 2:\n",
    "      print (row.Country)\n",
    "\n",
    "\n",
    "#for pos, row in data.iterrows():\n",
    "#      print (row.Country) # inefficiently prints all rows.\n"
   ]
  },
  {
   "cell_type": "markdown",
   "metadata": {
    "id": "QfpYKC5PQUPH"
   },
   "source": [
    "3.\n",
    "\n",
    "The first few rows of a dataframe can be printed out with the head() method.\n",
    "\n",
    "You can tell head() is a method, rather than an attribute such as columns, because of the parentheses (round brackets) after the property name.\n",
    "\n",
    "If you don\"t give any argument, i.e. don\"t put any number within those parentheses, the default behaviour is to return the first five rows of the dataframe. If you give an argument, it will print that number of rows (starting from the row indexed by 0).\n",
    "\n",
    "**Note:** in Colab notebooks we can omit the print function and get pretty results. \n"
   ]
  },
  {
   "cell_type": "code",
   "execution_count": 56,
   "metadata": {
    "colab": {
     "base_uri": "https://localhost:8080/"
    },
    "executionInfo": {
     "elapsed": 687,
     "status": "ok",
     "timestamp": 1608204186715,
     "user": {
      "displayName": "Ian Grant",
      "photoUrl": "",
      "userId": "14746146838898941070"
     },
     "user_tz": 0
    },
    "id": "gy6tXv6NQX2K",
    "outputId": "dc13dea5-8708-4902-cd8e-90ccd3f25f5a"
   },
   "outputs": [
    {
     "name": "stdout",
     "output_type": "stream",
     "text": [
      "       Country  Population (1000s)  TB deaths\n",
      "0  Afghanistan               30552   13000.00\n",
      "1      Albania                3173      20.00\n",
      "2      Algeria               39208        NaN\n",
      "3      Andorra                  79       0.26\n",
      "4       Angola               21472    6900.00\n"
     ]
    }
   ],
   "source": [
    "print(data.head())"
   ]
  },
  {
   "cell_type": "code",
   "execution_count": 57,
   "metadata": {
    "colab": {
     "base_uri": "https://localhost:8080/",
     "height": 266
    },
    "executionInfo": {
     "elapsed": 799,
     "status": "ok",
     "timestamp": 1608204190296,
     "user": {
      "displayName": "Ian Grant",
      "photoUrl": "",
      "userId": "14746146838898941070"
     },
     "user_tz": 0
    },
    "id": "mHWBJtltQatv",
    "outputId": "2712aa59-9f05-48b9-aa43-f1d519b12407"
   },
   "outputs": [
    {
     "data": {
      "text/html": [
       "<div>\n",
       "<style scoped>\n",
       "    .dataframe tbody tr th:only-of-type {\n",
       "        vertical-align: middle;\n",
       "    }\n",
       "\n",
       "    .dataframe tbody tr th {\n",
       "        vertical-align: top;\n",
       "    }\n",
       "\n",
       "    .dataframe thead th {\n",
       "        text-align: right;\n",
       "    }\n",
       "</style>\n",
       "<table border=\"1\" class=\"dataframe\">\n",
       "  <thead>\n",
       "    <tr style=\"text-align: right;\">\n",
       "      <th></th>\n",
       "      <th>Country</th>\n",
       "      <th>Population (1000s)</th>\n",
       "      <th>TB deaths</th>\n",
       "    </tr>\n",
       "  </thead>\n",
       "  <tbody>\n",
       "    <tr>\n",
       "      <th>0</th>\n",
       "      <td>Afghanistan</td>\n",
       "      <td>30552</td>\n",
       "      <td>13000.00</td>\n",
       "    </tr>\n",
       "    <tr>\n",
       "      <th>1</th>\n",
       "      <td>Albania</td>\n",
       "      <td>3173</td>\n",
       "      <td>20.00</td>\n",
       "    </tr>\n",
       "    <tr>\n",
       "      <th>2</th>\n",
       "      <td>Algeria</td>\n",
       "      <td>39208</td>\n",
       "      <td>NaN</td>\n",
       "    </tr>\n",
       "    <tr>\n",
       "      <th>3</th>\n",
       "      <td>Andorra</td>\n",
       "      <td>79</td>\n",
       "      <td>0.26</td>\n",
       "    </tr>\n",
       "    <tr>\n",
       "      <th>4</th>\n",
       "      <td>Angola</td>\n",
       "      <td>21472</td>\n",
       "      <td>6900.00</td>\n",
       "    </tr>\n",
       "    <tr>\n",
       "      <th>5</th>\n",
       "      <td>Antigua and Barbuda</td>\n",
       "      <td>90</td>\n",
       "      <td>1.20</td>\n",
       "    </tr>\n",
       "    <tr>\n",
       "      <th>6</th>\n",
       "      <td>Argentina</td>\n",
       "      <td>41446</td>\n",
       "      <td>570.00</td>\n",
       "    </tr>\n",
       "  </tbody>\n",
       "</table>\n",
       "</div>"
      ],
      "text/plain": [
       "               Country  Population (1000s)  TB deaths\n",
       "0          Afghanistan               30552   13000.00\n",
       "1              Albania                3173      20.00\n",
       "2              Algeria               39208        NaN\n",
       "3              Andorra                  79       0.26\n",
       "4               Angola               21472    6900.00\n",
       "5  Antigua and Barbuda                  90       1.20\n",
       "6            Argentina               41446     570.00"
      ]
     },
     "execution_count": 57,
     "metadata": {
      "tags": []
     },
     "output_type": "execute_result"
    }
   ],
   "source": [
    "data.head(7)"
   ]
  },
  {
   "cell_type": "markdown",
   "metadata": {
    "id": "k-hngo9LQdNo"
   },
   "source": [
    "4.\n",
    "\n",
    "The tail() method is similar to the head() method.\n",
    "\n",
    "If no argument is given, the last five rows of the dataframe are returned, otherwise the number of rows returned is dependent on the argument, just like for the head() method.\n"
   ]
  },
  {
   "cell_type": "code",
   "execution_count": 59,
   "metadata": {
    "colab": {
     "base_uri": "https://localhost:8080/",
     "height": 204
    },
    "executionInfo": {
     "elapsed": 622,
     "status": "ok",
     "timestamp": 1608204203343,
     "user": {
      "displayName": "Ian Grant",
      "photoUrl": "",
      "userId": "14746146838898941070"
     },
     "user_tz": 0
    },
    "id": "mO7D0NgJQgFr",
    "outputId": "d22bebe3-24ad-432c-b5f8-aee472c68d6b"
   },
   "outputs": [
    {
     "data": {
      "text/html": [
       "<div>\n",
       "<style scoped>\n",
       "    .dataframe tbody tr th:only-of-type {\n",
       "        vertical-align: middle;\n",
       "    }\n",
       "\n",
       "    .dataframe tbody tr th {\n",
       "        vertical-align: top;\n",
       "    }\n",
       "\n",
       "    .dataframe thead th {\n",
       "        text-align: right;\n",
       "    }\n",
       "</style>\n",
       "<table border=\"1\" class=\"dataframe\">\n",
       "  <thead>\n",
       "    <tr style=\"text-align: right;\">\n",
       "      <th></th>\n",
       "      <th>Country</th>\n",
       "      <th>Population (1000s)</th>\n",
       "      <th>TB deaths</th>\n",
       "    </tr>\n",
       "  </thead>\n",
       "  <tbody>\n",
       "    <tr>\n",
       "      <th>189</th>\n",
       "      <td>Venezuela (Bolivarian Republic of)</td>\n",
       "      <td>30405</td>\n",
       "      <td>480.0</td>\n",
       "    </tr>\n",
       "    <tr>\n",
       "      <th>190</th>\n",
       "      <td>Viet Nam</td>\n",
       "      <td>91680</td>\n",
       "      <td>17000.0</td>\n",
       "    </tr>\n",
       "    <tr>\n",
       "      <th>191</th>\n",
       "      <td>Yemen</td>\n",
       "      <td>24407</td>\n",
       "      <td>990.0</td>\n",
       "    </tr>\n",
       "    <tr>\n",
       "      <th>192</th>\n",
       "      <td>Zambia</td>\n",
       "      <td>14539</td>\n",
       "      <td>3600.0</td>\n",
       "    </tr>\n",
       "    <tr>\n",
       "      <th>193</th>\n",
       "      <td>Zimbabwe</td>\n",
       "      <td>14150</td>\n",
       "      <td>5700.0</td>\n",
       "    </tr>\n",
       "  </tbody>\n",
       "</table>\n",
       "</div>"
      ],
      "text/plain": [
       "                                Country  Population (1000s)  TB deaths\n",
       "189  Venezuela (Bolivarian Republic of)               30405      480.0\n",
       "190                            Viet Nam               91680    17000.0\n",
       "191                               Yemen               24407      990.0\n",
       "192                              Zambia               14539     3600.0\n",
       "193                            Zimbabwe               14150     5700.0"
      ]
     },
     "execution_count": 59,
     "metadata": {
      "tags": []
     },
     "output_type": "execute_result"
    }
   ],
   "source": [
    "data.tail()"
   ]
  },
  {
   "cell_type": "code",
   "execution_count": 67,
   "metadata": {
    "colab": {
     "base_uri": "https://localhost:8080/",
     "height": 266
    },
    "executionInfo": {
     "elapsed": 734,
     "status": "ok",
     "timestamp": 1608204206886,
     "user": {
      "displayName": "Ian Grant",
      "photoUrl": "",
      "userId": "14746146838898941070"
     },
     "user_tz": 0
    },
    "id": "kNVuAERsQjTD",
    "outputId": "7d4ac8b2-ae48-4991-90d5-54e16b719ca0"
   },
   "outputs": [
    {
     "data": {
      "text/html": [
       "<div>\n",
       "<style scoped>\n",
       "    .dataframe tbody tr th:only-of-type {\n",
       "        vertical-align: middle;\n",
       "    }\n",
       "\n",
       "    .dataframe tbody tr th {\n",
       "        vertical-align: top;\n",
       "    }\n",
       "\n",
       "    .dataframe thead th {\n",
       "        text-align: right;\n",
       "    }\n",
       "</style>\n",
       "<table border=\"1\" class=\"dataframe\">\n",
       "  <thead>\n",
       "    <tr style=\"text-align: right;\">\n",
       "      <th></th>\n",
       "      <th>Country</th>\n",
       "      <th>Population (1000s)</th>\n",
       "      <th>TB deaths</th>\n",
       "    </tr>\n",
       "  </thead>\n",
       "  <tbody>\n",
       "    <tr>\n",
       "      <th>187</th>\n",
       "      <td>Uzbekistan</td>\n",
       "      <td>28934</td>\n",
       "      <td>2200.0</td>\n",
       "    </tr>\n",
       "    <tr>\n",
       "      <th>188</th>\n",
       "      <td>Vanuatu</td>\n",
       "      <td>253</td>\n",
       "      <td>16.0</td>\n",
       "    </tr>\n",
       "    <tr>\n",
       "      <th>189</th>\n",
       "      <td>Venezuela (Bolivarian Republic of)</td>\n",
       "      <td>30405</td>\n",
       "      <td>480.0</td>\n",
       "    </tr>\n",
       "    <tr>\n",
       "      <th>190</th>\n",
       "      <td>Viet Nam</td>\n",
       "      <td>91680</td>\n",
       "      <td>17000.0</td>\n",
       "    </tr>\n",
       "    <tr>\n",
       "      <th>191</th>\n",
       "      <td>Yemen</td>\n",
       "      <td>24407</td>\n",
       "      <td>990.0</td>\n",
       "    </tr>\n",
       "    <tr>\n",
       "      <th>192</th>\n",
       "      <td>Zambia</td>\n",
       "      <td>14539</td>\n",
       "      <td>3600.0</td>\n",
       "    </tr>\n",
       "    <tr>\n",
       "      <th>193</th>\n",
       "      <td>Zimbabwe</td>\n",
       "      <td>14150</td>\n",
       "      <td>5700.0</td>\n",
       "    </tr>\n",
       "  </tbody>\n",
       "</table>\n",
       "</div>"
      ],
      "text/plain": [
       "                                Country  Population (1000s)  TB deaths\n",
       "187                          Uzbekistan               28934     2200.0\n",
       "188                             Vanuatu                 253       16.0\n",
       "189  Venezuela (Bolivarian Republic of)               30405      480.0\n",
       "190                            Viet Nam               91680    17000.0\n",
       "191                               Yemen               24407      990.0\n",
       "192                              Zambia               14539     3600.0\n",
       "193                            Zimbabwe               14150     5700.0"
      ]
     },
     "execution_count": 67,
     "metadata": {},
     "output_type": "execute_result"
    }
   ],
   "source": [
    "data.tail(7)"
   ]
  },
  {
   "cell_type": "markdown",
   "metadata": {
    "id": "LH0Dlw2_QoF8"
   },
   "source": [
    "5.\n",
    "\n",
    "**Getting and displaying dataframe columns**\n",
    "\n",
    "You can get and display a single column of a dataframe by putting the name of the column (in quotes) within square brackets immediately after the dataframe\"s name.\n",
    "\n",
    "Notice that although there is an index, there is no column heading. This is because what is returned is not a new dataframe with a single column but an example of the Series data type.\n"
   ]
  },
  {
   "cell_type": "code",
   "execution_count": 61,
   "metadata": {
    "colab": {
     "base_uri": "https://localhost:8080/"
    },
    "executionInfo": {
     "elapsed": 1113,
     "status": "ok",
     "timestamp": 1608204215001,
     "user": {
      "displayName": "Ian Grant",
      "photoUrl": "",
      "userId": "14746146838898941070"
     },
     "user_tz": 0
    },
    "id": "YVBBv8C2Qq4B",
    "outputId": "85973eee-864d-4473-ccdf-a310a6e5be91"
   },
   "outputs": [
    {
     "data": {
      "text/plain": [
       "0      13000.00\n",
       "1         20.00\n",
       "2           NaN\n",
       "3          0.26\n",
       "4       6900.00\n",
       "         ...   \n",
       "189      480.00\n",
       "190    17000.00\n",
       "191      990.00\n",
       "192     3600.00\n",
       "193     5700.00\n",
       "Name: TB deaths, Length: 194, dtype: float64"
      ]
     },
     "execution_count": 61,
     "metadata": {
      "tags": []
     },
     "output_type": "execute_result"
    }
   ],
   "source": [
    "data[\"TB deaths\"]"
   ]
  },
  {
   "cell_type": "markdown",
   "metadata": {
    "id": "sCSl42GEQ0LZ"
   },
   "source": [
    "6.\n",
    "\n",
    "The *Series* data type is a collection of values with an integer index that starts from zero. In addition, the *Series* data type has many of the same methods as the DataFrame data type, so you can still execute code like:"
   ]
  },
  {
   "cell_type": "code",
   "execution_count": 62,
   "metadata": {
    "colab": {
     "base_uri": "https://localhost:8080/"
    },
    "executionInfo": {
     "elapsed": 779,
     "status": "ok",
     "timestamp": 1608204221615,
     "user": {
      "displayName": "Ian Grant",
      "photoUrl": "",
      "userId": "14746146838898941070"
     },
     "user_tz": 0
    },
    "id": "AMHJMpq9Q5xG",
    "outputId": "0cea9b77-bf27-47d9-912f-5e1c0cdc51dd"
   },
   "outputs": [
    {
     "data": {
      "text/plain": [
       "0    13000.00\n",
       "1       20.00\n",
       "2         NaN\n",
       "3        0.26\n",
       "4     6900.00\n",
       "Name: TB deaths, dtype: float64"
      ]
     },
     "execution_count": 62,
     "metadata": {
      "tags": []
     },
     "output_type": "execute_result"
    }
   ],
   "source": [
    "data[\"TB deaths\"].head()"
   ]
  },
  {
   "cell_type": "code",
   "execution_count": 63,
   "metadata": {
    "colab": {
     "base_uri": "https://localhost:8080/",
     "height": 204
    },
    "executionInfo": {
     "elapsed": 723,
     "status": "ok",
     "timestamp": 1608204225019,
     "user": {
      "displayName": "Ian Grant",
      "photoUrl": "",
      "userId": "14746146838898941070"
     },
     "user_tz": 0
    },
    "id": "f_dxKCDlQ92G",
    "outputId": "80ade505-abad-433d-d346-ad6feb8f5f7e"
   },
   "outputs": [
    {
     "data": {
      "text/html": [
       "<div>\n",
       "<style scoped>\n",
       "    .dataframe tbody tr th:only-of-type {\n",
       "        vertical-align: middle;\n",
       "    }\n",
       "\n",
       "    .dataframe tbody tr th {\n",
       "        vertical-align: top;\n",
       "    }\n",
       "\n",
       "    .dataframe thead th {\n",
       "        text-align: right;\n",
       "    }\n",
       "</style>\n",
       "<table border=\"1\" class=\"dataframe\">\n",
       "  <thead>\n",
       "    <tr style=\"text-align: right;\">\n",
       "      <th></th>\n",
       "      <th>Country</th>\n",
       "      <th>Population (1000s)</th>\n",
       "    </tr>\n",
       "  </thead>\n",
       "  <tbody>\n",
       "    <tr>\n",
       "      <th>0</th>\n",
       "      <td>Afghanistan</td>\n",
       "      <td>30552</td>\n",
       "    </tr>\n",
       "    <tr>\n",
       "      <th>1</th>\n",
       "      <td>Albania</td>\n",
       "      <td>3173</td>\n",
       "    </tr>\n",
       "    <tr>\n",
       "      <th>2</th>\n",
       "      <td>Algeria</td>\n",
       "      <td>39208</td>\n",
       "    </tr>\n",
       "    <tr>\n",
       "      <th>3</th>\n",
       "      <td>Andorra</td>\n",
       "      <td>79</td>\n",
       "    </tr>\n",
       "    <tr>\n",
       "      <th>4</th>\n",
       "      <td>Angola</td>\n",
       "      <td>21472</td>\n",
       "    </tr>\n",
       "  </tbody>\n",
       "</table>\n",
       "</div>"
      ],
      "text/plain": [
       "       Country  Population (1000s)\n",
       "0  Afghanistan               30552\n",
       "1      Albania                3173\n",
       "2      Algeria               39208\n",
       "3      Andorra                  79\n",
       "4       Angola               21472"
      ]
     },
     "execution_count": 63,
     "metadata": {
      "tags": []
     },
     "output_type": "execute_result"
    }
   ],
   "source": [
    "data[[\"Country\", \"Population (1000s)\"]].head()"
   ]
  },
  {
   "cell_type": "markdown",
   "metadata": {
    "id": "LSWxYNf8_TWn"
   },
   "source": [
    "In the two examples above, it is the second set of `[ ]` (square brackets) that make the difference. The top one returns a series, the bottom one a dataframe."
   ]
  },
  {
   "cell_type": "markdown",
   "metadata": {
    "id": "N1Qt5XK7RDpN"
   },
   "source": [
    "# Worksheet 3"
   ]
  },
  {
   "cell_type": "markdown",
   "metadata": {
    "id": "KXLyN9n8bR1f"
   },
   "source": [
    "## Question 1\n",
    "\n",
    "Write code so that the dataframe names are shown.\n",
    "\n",
    "Create your code below."
   ]
  },
  {
   "cell_type": "code",
   "execution_count": null,
   "metadata": {
    "executionInfo": {
     "elapsed": 2704724,
     "status": "aborted",
     "timestamp": 1608203957013,
     "user": {
      "displayName": "Ian Grant",
      "photoUrl": "",
      "userId": "14746146838898941070"
     },
     "user_tz": 0
    },
    "id": "WCiME2CrbFuq"
   },
   "outputs": [],
   "source": []
  },
  {
   "cell_type": "markdown",
   "metadata": {
    "id": "u5u8fQrKbFur"
   },
   "source": [
    "## Question 2\n",
    "\n",
    "Write code so that the first row of information is shown."
   ]
  },
  {
   "cell_type": "code",
   "execution_count": null,
   "metadata": {
    "executionInfo": {
     "elapsed": 2704721,
     "status": "aborted",
     "timestamp": 1608203957014,
     "user": {
      "displayName": "Ian Grant",
      "photoUrl": "",
      "userId": "14746146838898941070"
     },
     "user_tz": 0
    },
    "id": "D8TrHezrbFuy"
   },
   "outputs": [],
   "source": []
  },
  {
   "cell_type": "markdown",
   "metadata": {
    "id": "gPs2PnfKbFuy"
   },
   "source": [
    "## Question 3\n",
    "\n",
    "Write code so that the fifth row of information is shown.\n"
   ]
  },
  {
   "cell_type": "code",
   "execution_count": null,
   "metadata": {
    "executionInfo": {
     "elapsed": 2704716,
     "status": "aborted",
     "timestamp": 1608203957014,
     "user": {
      "displayName": "Ian Grant",
      "photoUrl": "",
      "userId": "14746146838898941070"
     },
     "user_tz": 0
    },
    "id": "7DrNmjgMbFuy"
   },
   "outputs": [],
   "source": []
  },
  {
   "cell_type": "markdown",
   "metadata": {
    "id": "n-yVKG7rbFu0"
   },
   "source": [
    "## Question 4\n",
    "Write code so that the first five rows of information are shown."
   ]
  },
  {
   "cell_type": "code",
   "execution_count": null,
   "metadata": {
    "executionInfo": {
     "elapsed": 2704714,
     "status": "aborted",
     "timestamp": 1608203957015,
     "user": {
      "displayName": "Ian Grant",
      "photoUrl": "",
      "userId": "14746146838898941070"
     },
     "user_tz": 0
    },
    "id": "fZpytxfxbFu0"
   },
   "outputs": [],
   "source": []
  },
  {
   "cell_type": "markdown",
   "metadata": {
    "id": "HtkNAAf8bFu0"
   },
   "source": [
    "## Question 5\n",
    "\n",
    "Write code so that the first eight rows of information are shown.\n"
   ]
  },
  {
   "cell_type": "code",
   "execution_count": null,
   "metadata": {
    "executionInfo": {
     "elapsed": 2704711,
     "status": "aborted",
     "timestamp": 1608203957015,
     "user": {
      "displayName": "Ian Grant",
      "photoUrl": "",
      "userId": "14746146838898941070"
     },
     "user_tz": 0
    },
    "id": "QUc2vamBbFu0"
   },
   "outputs": [],
   "source": []
  },
  {
   "cell_type": "markdown",
   "metadata": {
    "id": "irG9BhXtbFu1"
   },
   "source": [
    "## Question 6\n",
    "\n",
    "Write code so that the last five rows of information are shown.\n"
   ]
  },
  {
   "cell_type": "code",
   "execution_count": null,
   "metadata": {
    "executionInfo": {
     "elapsed": 2704704,
     "status": "aborted",
     "timestamp": 1608203957015,
     "user": {
      "displayName": "Ian Grant",
      "photoUrl": "",
      "userId": "14746146838898941070"
     },
     "user_tz": 0
    },
    "id": "4yuK4evgbFu1"
   },
   "outputs": [],
   "source": []
  },
  {
   "cell_type": "markdown",
   "metadata": {
    "id": "nxhEvNwjbFu1"
   },
   "source": [
    "## Question 7\n",
    "\n",
    "Write code to get and display the 55th row in the dataframe data.\n"
   ]
  },
  {
   "cell_type": "code",
   "execution_count": null,
   "metadata": {
    "executionInfo": {
     "elapsed": 2704701,
     "status": "aborted",
     "timestamp": 1608203957016,
     "user": {
      "displayName": "Ian Grant",
      "photoUrl": "",
      "userId": "14746146838898941070"
     },
     "user_tz": 0
    },
    "id": "VQPcMx5IbFu1"
   },
   "outputs": [],
   "source": []
  },
  {
   "cell_type": "markdown",
   "metadata": {
    "id": "ofp5VXaLbFu1"
   },
   "source": [
    "## Question 8\n",
    "\n",
    "Write the code to display the first 10 rows of the dataframe data.\n"
   ]
  },
  {
   "cell_type": "code",
   "execution_count": null,
   "metadata": {
    "executionInfo": {
     "elapsed": 2704696,
     "status": "aborted",
     "timestamp": 1608203957016,
     "user": {
      "displayName": "Ian Grant",
      "photoUrl": "",
      "userId": "14746146838898941070"
     },
     "user_tz": 0
    },
    "id": "GzaOctXobFu1"
   },
   "outputs": [],
   "source": []
  },
  {
   "cell_type": "markdown",
   "metadata": {
    "id": "XbAAbrThccJ8"
   },
   "source": [
    "## Question 9\n",
    "\n",
    "Write the code to select and display the first eight rows from the 'Country' and 'TB deaths' columns.\n"
   ]
  },
  {
   "cell_type": "code",
   "execution_count": null,
   "metadata": {
    "executionInfo": {
     "elapsed": 2704693,
     "status": "aborted",
     "timestamp": 1608203957017,
     "user": {
      "displayName": "Ian Grant",
      "photoUrl": "",
      "userId": "14746146838898941070"
     },
     "user_tz": 0
    },
    "id": "adOeAZWuccJ-"
   },
   "outputs": [],
   "source": []
  },
  {
   "cell_type": "markdown",
   "metadata": {
    "id": "sgO8e0GZckKf"
   },
   "source": [
    "## Question 10\n",
    "\n",
    "Watch the tutorial on TK basics. You'll need to manage graphical output of pandas with a window if you follow this course with a standalone installation of python. If you're in the colab notebook version, graphical results of the python pandas scripts are output to the HTML notebook. Nice! But you'll still need to know Tk for other projects. \n",
    "\n",
    "https://www.youtube.com/watch?v=Ccct5D2AyNM\n",
    "\n"
   ]
  },
  {
   "cell_type": "code",
   "execution_count": 71,
   "metadata": {
    "cellView": "form",
    "colab": {
     "base_uri": "https://localhost:8080/",
     "height": 336
    },
    "executionInfo": {
     "elapsed": 609,
     "status": "ok",
     "timestamp": 1608204687274,
     "user": {
      "displayName": "Ian Grant",
      "photoUrl": "",
      "userId": "14746146838898941070"
     },
     "user_tz": 0
    },
    "id": "DDjcMf8edIke",
    "outputId": "fcd24cd8-0669-4fea-b256-ff797687ef4e"
   },
   "outputs": [
    {
     "data": {
      "text/html": [
       "<iframe width=\"560\" height=\"315\" src=\"https://www.youtube-nocookie.com/embed/Ccct5D2AyNM\" frameborder=\"0\" allow=\"accelerometer; autoplay; clipboard-write; encrypted-media; gyroscope; picture-in-picture\" allowfullscreen></iframe>"
      ],
      "text/plain": [
       "<IPython.core.display.HTML object>"
      ]
     },
     "execution_count": 71,
     "metadata": {},
     "output_type": "execute_result"
    }
   ],
   "source": [
    "#@title\n",
    "from IPython.display import HTML, IFrame\n",
    "HTML('<iframe width=\"560\" height=\"315\" src=\"https://www.youtube-nocookie.com/embed/Ccct5D2AyNM\" frameborder=\"0\" allow=\"accelerometer; autoplay; clipboard-write; encrypted-media; gyroscope; picture-in-picture\" allowfullscreen></iframe>')"
   ]
  },
  {
   "cell_type": "code",
   "execution_count": null,
   "metadata": {},
   "outputs": [],
   "source": []
  },
  {
   "cell_type": "markdown",
   "metadata": {
    "id": "cw5inWto7uSp"
   },
   "source": [
    "# Comparison operators"
   ]
  },
  {
   "cell_type": "markdown",
   "metadata": {
    "id": "sCDfHl1S73--"
   },
   "source": [
    "You have learned that Python has arithmetic operators: `+`, `/`, `-` and `*` and that expressions such as `5 + 2` evaluate to a value (in this case the number 7).\n",
    "\n",
    "Python also has what are called *comparison operators*, these are:\n",
    "\n",
    "`==` \tequals\n",
    "\n",
    "`!=` \tnot equal\n",
    "\n",
    "`<` \tless than\n",
    "\n",
    "`>` \tgreater than\n",
    "\n",
    "`<=` \tless than or equal to\n",
    "\n",
    "`>=` \tgreater than or equal to\n",
    "\n",
    "Expressions involving these operators always evaluate to a Boolean value, that is **True** or **False**.\n",
    "\n",
    "Run the code snippets below and see them evaluate. Try to predict: True or False.\n"
   ]
  },
  {
   "cell_type": "code",
   "execution_count": null,
   "metadata": {
    "executionInfo": {
     "elapsed": 2704655,
     "status": "aborted",
     "timestamp": 1608203957018,
     "user": {
      "displayName": "Ian Grant",
      "photoUrl": "",
      "userId": "14746146838898941070"
     },
     "user_tz": 0
    },
    "id": "SEC1YCC-8cWP"
   },
   "outputs": [],
   "source": [
    "2 == 2"
   ]
  },
  {
   "cell_type": "code",
   "execution_count": null,
   "metadata": {
    "executionInfo": {
     "elapsed": 2704651,
     "status": "aborted",
     "timestamp": 1608203957019,
     "user": {
      "displayName": "Ian Grant",
      "photoUrl": "",
      "userId": "14746146838898941070"
     },
     "user_tz": 0
    },
    "id": "-Q3qxQVf8gzT"
   },
   "outputs": [],
   "source": [
    "2 + 2 == 5\t"
   ]
  },
  {
   "cell_type": "code",
   "execution_count": null,
   "metadata": {
    "executionInfo": {
     "elapsed": 2704647,
     "status": "aborted",
     "timestamp": 1608203957019,
     "user": {
      "displayName": "Ian Grant",
      "photoUrl": "",
      "userId": "14746146838898941070"
     },
     "user_tz": 0
    },
    "id": "UX4HmTGP8knD"
   },
   "outputs": [],
   "source": [
    "2 != 1 + 1"
   ]
  },
  {
   "cell_type": "code",
   "execution_count": null,
   "metadata": {
    "executionInfo": {
     "elapsed": 2704640,
     "status": "aborted",
     "timestamp": 1608203957019,
     "user": {
      "displayName": "Ian Grant",
      "photoUrl": "",
      "userId": "14746146838898941070"
     },
     "user_tz": 0
    },
    "id": "KZL7B0lz8msp"
   },
   "outputs": [],
   "source": [
    "45 < 50"
   ]
  },
  {
   "cell_type": "code",
   "execution_count": null,
   "metadata": {
    "executionInfo": {
     "elapsed": 2704635,
     "status": "aborted",
     "timestamp": 1608203957020,
     "user": {
      "displayName": "Ian Grant",
      "photoUrl": "",
      "userId": "14746146838898941070"
     },
     "user_tz": 0
    },
    "id": "B_sBg-vm8sMc"
   },
   "outputs": [],
   "source": [
    "20 > 30"
   ]
  },
  {
   "cell_type": "code",
   "execution_count": null,
   "metadata": {
    "executionInfo": {
     "elapsed": 2704643,
     "status": "aborted",
     "timestamp": 1608203957033,
     "user": {
      "displayName": "Ian Grant",
      "photoUrl": "",
      "userId": "14746146838898941070"
     },
     "user_tz": 0
    },
    "id": "1bmAY48p8tzc"
   },
   "outputs": [],
   "source": [
    "100 <= 100"
   ]
  },
  {
   "cell_type": "code",
   "execution_count": null,
   "metadata": {
    "executionInfo": {
     "elapsed": 2704637,
     "status": "aborted",
     "timestamp": 1608203957034,
     "user": {
      "displayName": "Ian Grant",
      "photoUrl": "",
      "userId": "14746146838898941070"
     },
     "user_tz": 0
    },
    "id": "OuPEraTf8wKD"
   },
   "outputs": [],
   "source": [
    "101 >= 100\t"
   ]
  },
  {
   "cell_type": "code",
   "execution_count": null,
   "metadata": {
    "executionInfo": {
     "elapsed": 2704632,
     "status": "aborted",
     "timestamp": 1608203957034,
     "user": {
      "displayName": "Ian Grant",
      "photoUrl": "",
      "userId": "14746146838898941070"
     },
     "user_tz": 0
    },
    "id": "Z8vUyMbb81cW"
   },
   "outputs": [],
   "source": [
    "\"aardvark\" < \"zebra\""
   ]
  },
  {
   "cell_type": "markdown",
   "metadata": {
    "id": "X7LQoIsA86jD"
   },
   "source": [
    "## Examples"
   ]
  },
  {
   "cell_type": "markdown",
   "metadata": {
    "id": "lxFxFCNF8_0Y"
   },
   "source": [
    "1.\n",
    "\n",
    "In *2. Data Files, Example 4*, you saw that when applied to whole columns, the arithmetic operators did the calculations row by row. Similarly, an expression like `df[\"Country\"] >= \"K\"` will compare the country names, row by row, against the string `\"K\"` and record whether the result is True or False in a series.\n"
   ]
  },
  {
   "cell_type": "code",
   "execution_count": null,
   "metadata": {
    "executionInfo": {
     "elapsed": 2704583,
     "status": "aborted",
     "timestamp": 1608203957035,
     "user": {
      "displayName": "Ian Grant",
      "photoUrl": "",
      "userId": "14746146838898941070"
     },
     "user_tz": 0
    },
    "id": "ebnudKsg85cm"
   },
   "outputs": [],
   "source": [
    "print(data[\"Country\"]>=\"K\")"
   ]
  },
  {
   "cell_type": "markdown",
   "metadata": {
    "id": "95mCOG6D9vWa"
   },
   "source": [
    "If such an expression is put within square brackets immediately after a dataframe\"s name, a new dataframe is obtained with only those rows where the result is True. "
   ]
  },
  {
   "cell_type": "code",
   "execution_count": null,
   "metadata": {
    "executionInfo": {
     "elapsed": 2704525,
     "status": "aborted",
     "timestamp": 1608203957035,
     "user": {
      "displayName": "Ian Grant",
      "photoUrl": "",
      "userId": "14746146838898941070"
     },
     "user_tz": 0
    },
    "id": "-pV0cpSP9zjX"
   },
   "outputs": [],
   "source": [
    "data[data[\"Country\"]>=\"K\"]"
   ]
  },
  {
   "cell_type": "markdown",
   "metadata": {
    "id": "m34sfFfy92AQ"
   },
   "source": [
    "The above returns a new dataframe with all the columns of data but with only the rows corresponding to countries starting with K or a letter later in the alphabet."
   ]
  },
  {
   "cell_type": "markdown",
   "metadata": {
    "id": "erPI_6_V95Yp"
   },
   "source": [
    "2. "
   ]
  },
  {
   "cell_type": "code",
   "execution_count": null,
   "metadata": {
    "executionInfo": {
     "elapsed": 2704484,
     "status": "aborted",
     "timestamp": 1608203957036,
     "user": {
      "displayName": "Ian Grant",
      "photoUrl": "",
      "userId": "14746146838898941070"
     },
     "user_tz": 0
    },
    "id": "XenEcJRw97QM"
   },
   "outputs": [],
   "source": [
    "data[data[\"Population (1000s)\"]>80000]"
   ]
  },
  {
   "cell_type": "markdown",
   "metadata": {
    "id": "wBB_c4vd-HBN"
   },
   "source": [
    "## Bitwise operators\n",
    "\n",
    "To build more complicated expressions involving column comparisons, there are two bitwise operators.\n",
    "\n",
    "The `&` operator means \"and\" and the `|` operator (vertical bar, called a pipe, not uppercase letter \"i\") means \"or\". So, for example the expression will evaluate to a series containing Boolean values where the values are `True` only if the equivalent rows in the dataframe contain the countries \"Latvia\" to \"Sweden\", inclusive. \n"
   ]
  },
  {
   "cell_type": "code",
   "execution_count": null,
   "metadata": {
    "executionInfo": {
     "elapsed": 2704444,
     "status": "aborted",
     "timestamp": 1608203957036,
     "user": {
      "displayName": "Ian Grant",
      "photoUrl": "",
      "userId": "14746146838898941070"
     },
     "user_tz": 0
    },
    "id": "VZVtt6KP-ThV"
   },
   "outputs": [],
   "source": [
    "print((data[\"Country\"] >= \"Latvia\") & (data[\"Country\"] <= \"Sweden\"))"
   ]
  },
  {
   "cell_type": "markdown",
   "metadata": {
    "id": "Nm1IMwt4-SXu"
   },
   "source": [
    "The following expression which uses `|` (or) rather than `&` (and) will evaluate to `True` for all countries, because every country comes alphabetically after \"Latvia\" (e.g. the \"UK\") or before \"Sweden\" (e.g. \"Brazil\")."
   ]
  },
  {
   "cell_type": "code",
   "execution_count": null,
   "metadata": {
    "executionInfo": {
     "elapsed": 2704406,
     "status": "aborted",
     "timestamp": 1608203957036,
     "user": {
      "displayName": "Ian Grant",
      "photoUrl": "",
      "userId": "14746146838898941070"
     },
     "user_tz": 0
    },
    "id": "SWtDDDy3-crF"
   },
   "outputs": [],
   "source": [
    "print((data[\"Country\"] >= \"Latvia\") | (data[\"Country\"] <= \"Sweden\"))"
   ]
  },
  {
   "cell_type": "code",
   "execution_count": null,
   "metadata": {
    "executionInfo": {
     "elapsed": 2704359,
     "status": "aborted",
     "timestamp": 1608203957037,
     "user": {
      "displayName": "Ian Grant",
      "photoUrl": "",
      "userId": "14746146838898941070"
     },
     "user_tz": 0
    },
    "id": "vxQT_mZn-oA6"
   },
   "outputs": [],
   "source": [
    "print(data[(data[\"Population (1000s)\"] > 80000) & (data[\"TB deaths\"] > 10000)])"
   ]
  },
  {
   "cell_type": "markdown",
   "metadata": {
    "id": "WsXA3DTnwqgX"
   },
   "source": [
    "# 4 Preparing Data Sources"
   ]
  },
  {
   "cell_type": "markdown",
   "metadata": {
    "id": "CwemTmUf-s8E"
   },
   "source": [
    "## Removing rogue spaces"
   ]
  },
  {
   "cell_type": "markdown",
   "metadata": {
    "id": "HrJKWeUv-2tb"
   },
   "source": [
    "We'll be using the file called “London_2014.csv”. \n",
    "\n"
   ]
  },
  {
   "cell_type": "markdown",
   "metadata": {
    "id": "Dg5dFpEZKgOS"
   },
   "source": [
    "You may need to upload the CSV file to your Jupyter installation. Find your copy of `London_2014.csv` in the zip archive."
   ]
  },
  {
   "cell_type": "code",
   "execution_count": null,
   "metadata": {
    "executionInfo": {
     "elapsed": 2704317,
     "status": "aborted",
     "timestamp": 1608203957037,
     "user": {
      "displayName": "Ian Grant",
      "photoUrl": "",
      "userId": "14746146838898941070"
     },
     "user_tz": 0
    },
    "id": "8APk3pPqKnMa"
   },
   "outputs": [],
   "source": [
    "import pandas as pd\n",
    "import xlrd"
   ]
  },
  {
   "cell_type": "code",
   "execution_count": 76,
   "metadata": {
    "executionInfo": {
     "elapsed": 2704260,
     "status": "aborted",
     "timestamp": 1608203957038,
     "user": {
      "displayName": "Ian Grant",
      "photoUrl": "",
      "userId": "14746146838898941070"
     },
     "user_tz": 0
    },
    "id": "FpTEeU6h-9ig"
   },
   "outputs": [
    {
     "data": {
      "text/html": [
       "<div>\n",
       "<style scoped>\n",
       "    .dataframe tbody tr th:only-of-type {\n",
       "        vertical-align: middle;\n",
       "    }\n",
       "\n",
       "    .dataframe tbody tr th {\n",
       "        vertical-align: top;\n",
       "    }\n",
       "\n",
       "    .dataframe thead th {\n",
       "        text-align: right;\n",
       "    }\n",
       "</style>\n",
       "<table border=\"1\" class=\"dataframe\">\n",
       "  <thead>\n",
       "    <tr style=\"text-align: right;\">\n",
       "      <th></th>\n",
       "      <th>GMT</th>\n",
       "      <th>Max TemperatureC</th>\n",
       "      <th>Mean TemperatureC</th>\n",
       "      <th>Min TemperatureC</th>\n",
       "      <th>Dew PointC</th>\n",
       "      <th>MeanDew PointC</th>\n",
       "      <th>Min DewpointC</th>\n",
       "      <th>Max Humidity</th>\n",
       "      <th>Mean Humidity</th>\n",
       "      <th>Min Humidity</th>\n",
       "      <th>...</th>\n",
       "      <th>Max VisibilityKm</th>\n",
       "      <th>Mean VisibilityKm</th>\n",
       "      <th>Min VisibilitykM</th>\n",
       "      <th>Max Wind SpeedKm/h</th>\n",
       "      <th>Mean Wind SpeedKm/h</th>\n",
       "      <th>Max Gust SpeedKm/h</th>\n",
       "      <th>Precipitationmm</th>\n",
       "      <th>CloudCover</th>\n",
       "      <th>Events</th>\n",
       "      <th>WindDirDegrees&lt;br /&gt;</th>\n",
       "    </tr>\n",
       "  </thead>\n",
       "  <tbody>\n",
       "    <tr>\n",
       "      <th>0</th>\n",
       "      <td>2014-1-1</td>\n",
       "      <td>11</td>\n",
       "      <td>8</td>\n",
       "      <td>6</td>\n",
       "      <td>9</td>\n",
       "      <td>7</td>\n",
       "      <td>4</td>\n",
       "      <td>94</td>\n",
       "      <td>86</td>\n",
       "      <td>73</td>\n",
       "      <td>...</td>\n",
       "      <td>31</td>\n",
       "      <td>11</td>\n",
       "      <td>2</td>\n",
       "      <td>40</td>\n",
       "      <td>26</td>\n",
       "      <td>66.0</td>\n",
       "      <td>9.91</td>\n",
       "      <td>4.0</td>\n",
       "      <td>Rain</td>\n",
       "      <td>186&lt;br /&gt;</td>\n",
       "    </tr>\n",
       "    <tr>\n",
       "      <th>1</th>\n",
       "      <td>2014-1-2</td>\n",
       "      <td>11</td>\n",
       "      <td>9</td>\n",
       "      <td>6</td>\n",
       "      <td>9</td>\n",
       "      <td>6</td>\n",
       "      <td>4</td>\n",
       "      <td>94</td>\n",
       "      <td>81</td>\n",
       "      <td>60</td>\n",
       "      <td>...</td>\n",
       "      <td>31</td>\n",
       "      <td>15</td>\n",
       "      <td>5</td>\n",
       "      <td>32</td>\n",
       "      <td>21</td>\n",
       "      <td>50.0</td>\n",
       "      <td>1.02</td>\n",
       "      <td>2.0</td>\n",
       "      <td>Rain</td>\n",
       "      <td>214&lt;br /&gt;</td>\n",
       "    </tr>\n",
       "    <tr>\n",
       "      <th>2</th>\n",
       "      <td>2014-1-3</td>\n",
       "      <td>11</td>\n",
       "      <td>8</td>\n",
       "      <td>6</td>\n",
       "      <td>9</td>\n",
       "      <td>5</td>\n",
       "      <td>2</td>\n",
       "      <td>94</td>\n",
       "      <td>76</td>\n",
       "      <td>54</td>\n",
       "      <td>...</td>\n",
       "      <td>31</td>\n",
       "      <td>12</td>\n",
       "      <td>0</td>\n",
       "      <td>50</td>\n",
       "      <td>29</td>\n",
       "      <td>69.0</td>\n",
       "      <td>7.11</td>\n",
       "      <td>2.0</td>\n",
       "      <td>Rain-Thunderstorm</td>\n",
       "      <td>219&lt;br /&gt;</td>\n",
       "    </tr>\n",
       "    <tr>\n",
       "      <th>3</th>\n",
       "      <td>2014-1-4</td>\n",
       "      <td>9</td>\n",
       "      <td>6</td>\n",
       "      <td>3</td>\n",
       "      <td>8</td>\n",
       "      <td>6</td>\n",
       "      <td>2</td>\n",
       "      <td>93</td>\n",
       "      <td>85</td>\n",
       "      <td>65</td>\n",
       "      <td>...</td>\n",
       "      <td>31</td>\n",
       "      <td>12</td>\n",
       "      <td>5</td>\n",
       "      <td>35</td>\n",
       "      <td>21</td>\n",
       "      <td>39.0</td>\n",
       "      <td>9.91</td>\n",
       "      <td>4.0</td>\n",
       "      <td>Rain</td>\n",
       "      <td>211&lt;br /&gt;</td>\n",
       "    </tr>\n",
       "    <tr>\n",
       "      <th>4</th>\n",
       "      <td>2014-1-5</td>\n",
       "      <td>12</td>\n",
       "      <td>7</td>\n",
       "      <td>1</td>\n",
       "      <td>11</td>\n",
       "      <td>4</td>\n",
       "      <td>-1</td>\n",
       "      <td>100</td>\n",
       "      <td>88</td>\n",
       "      <td>77</td>\n",
       "      <td>...</td>\n",
       "      <td>31</td>\n",
       "      <td>14</td>\n",
       "      <td>5</td>\n",
       "      <td>35</td>\n",
       "      <td>16</td>\n",
       "      <td>NaN</td>\n",
       "      <td>0.25</td>\n",
       "      <td>5.0</td>\n",
       "      <td>Rain</td>\n",
       "      <td>199&lt;br /&gt;</td>\n",
       "    </tr>\n",
       "  </tbody>\n",
       "</table>\n",
       "<p>5 rows × 23 columns</p>\n",
       "</div>"
      ],
      "text/plain": [
       "        GMT  Max TemperatureC  Mean TemperatureC  Min TemperatureC  \\\n",
       "0  2014-1-1                11                  8                 6   \n",
       "1  2014-1-2                11                  9                 6   \n",
       "2  2014-1-3                11                  8                 6   \n",
       "3  2014-1-4                 9                  6                 3   \n",
       "4  2014-1-5                12                  7                 1   \n",
       "\n",
       "   Dew PointC  MeanDew PointC  Min DewpointC  Max Humidity   Mean Humidity  \\\n",
       "0           9               7              4            94              86   \n",
       "1           9               6              4            94              81   \n",
       "2           9               5              2            94              76   \n",
       "3           8               6              2            93              85   \n",
       "4          11               4             -1           100              88   \n",
       "\n",
       "    Min Humidity  ...   Max VisibilityKm   Mean VisibilityKm  \\\n",
       "0             73  ...                 31                  11   \n",
       "1             60  ...                 31                  15   \n",
       "2             54  ...                 31                  12   \n",
       "3             65  ...                 31                  12   \n",
       "4             77  ...                 31                  14   \n",
       "\n",
       "    Min VisibilitykM   Max Wind SpeedKm/h   Mean Wind SpeedKm/h  \\\n",
       "0                  2                   40                    26   \n",
       "1                  5                   32                    21   \n",
       "2                  0                   50                    29   \n",
       "3                  5                   35                    21   \n",
       "4                  5                   35                    16   \n",
       "\n",
       "    Max Gust SpeedKm/h  Precipitationmm   CloudCover             Events  \\\n",
       "0                 66.0             9.91          4.0               Rain   \n",
       "1                 50.0             1.02          2.0               Rain   \n",
       "2                 69.0             7.11          2.0  Rain-Thunderstorm   \n",
       "3                 39.0             9.91          4.0               Rain   \n",
       "4                  NaN             0.25          5.0               Rain   \n",
       "\n",
       "   WindDirDegrees<br />  \n",
       "0             186<br />  \n",
       "1             214<br />  \n",
       "2             219<br />  \n",
       "3             211<br />  \n",
       "4             199<br />  \n",
       "\n",
       "[5 rows x 23 columns]"
      ]
     },
     "execution_count": 76,
     "metadata": {},
     "output_type": "execute_result"
    }
   ],
   "source": [
    "london = pd.read_csv(\"London_2014.csv\")\n",
    "\n",
    "#print(london.head())\n",
    "#in Jupyter Notebooks for prettier output you toggle the commented line-or delete the print()\n",
    "london.head()"
   ]
  },
  {
   "cell_type": "markdown",
   "metadata": {
    "id": "3O3C_a9Y_M6o"
   },
   "source": [
    "One of the problems often encountered with CSV files is rogue spaces before or after data values or column names.\n",
    "\n",
    "For example, there is a space after the comma between Max Humidity and Mean Humidity. This means that when read_csv() reads the row of column names it will interpret a space after a comma as part of the next column name. So, for example, the column name after \"Max Humidity\" will be interpreted as \" Mean Humidity\" rather than what was intended, which is \"Mean Humidity\". \n",
    "\n",
    "The ramification of this is that code such as that below gives an ugly error:"
   ]
  },
  {
   "cell_type": "code",
   "execution_count": null,
   "metadata": {
    "executionInfo": {
     "elapsed": 2704218,
     "status": "aborted",
     "timestamp": 1608203957038,
     "user": {
      "displayName": "Ian Grant",
      "photoUrl": "",
      "userId": "14746146838898941070"
     },
     "user_tz": 0
    },
    "id": "d7c1JxEc_MR7"
   },
   "outputs": [],
   "source": [
    "print(london[[\"Mean Humidity\"]])"
   ]
  },
  {
   "cell_type": "markdown",
   "metadata": {
    "id": "IeaA9nP7_bvE"
   },
   "source": [
    "\n",
    "This will cause a key error (see Selecting a column), as the column name is confusingly \" Mean Humidity\". Note the leading space.\n",
    "\n",
    "This can easily be rectified by adding another argument to the read_csv() function:\n",
    "\n",
    "`skipinitialspace=True`\n",
    "\n",
    "which will tell read_csv() to ignore any spaces after a comma:"
   ]
  },
  {
   "cell_type": "code",
   "execution_count": 81,
   "metadata": {
    "executionInfo": {
     "elapsed": 2704210,
     "status": "aborted",
     "timestamp": 1608203957039,
     "user": {
      "displayName": "Ian Grant",
      "photoUrl": "",
      "userId": "14746146838898941070"
     },
     "user_tz": 0
    },
    "id": "4NfX4UPL_lcL"
   },
   "outputs": [],
   "source": [
    "london = pd.read_csv(\"London_2014.csv\", skipinitialspace=True)"
   ]
  },
  {
   "cell_type": "markdown",
   "metadata": {
    "id": "XZbev_IkLwuP"
   },
   "source": [
    "Try running the naughty code from before, again:"
   ]
  },
  {
   "cell_type": "code",
   "execution_count": 82,
   "metadata": {
    "executionInfo": {
     "elapsed": 2704205,
     "status": "aborted",
     "timestamp": 1608203957039,
     "user": {
      "displayName": "Ian Grant",
      "photoUrl": "",
      "userId": "14746146838898941070"
     },
     "user_tz": 0
    },
    "id": "uvvZM_3HLwSP"
   },
   "outputs": [
    {
     "name": "stdout",
     "output_type": "stream",
     "text": [
      "     Mean Humidity\n",
      "0               86\n",
      "1               81\n",
      "2               76\n",
      "3               85\n",
      "4               88\n",
      "..             ...\n",
      "360             83\n",
      "361             76\n",
      "362             87\n",
      "363             90\n",
      "364             89\n",
      "\n",
      "[365 rows x 1 columns]\n"
     ]
    }
   ],
   "source": [
    "print(london[[\"Mean Humidity\"]])"
   ]
  },
  {
   "cell_type": "code",
   "execution_count": 83,
   "metadata": {
    "executionInfo": {
     "elapsed": 2704201,
     "status": "aborted",
     "timestamp": 1608203957040,
     "user": {
      "displayName": "Ian Grant",
      "photoUrl": "",
      "userId": "14746146838898941070"
     },
     "user_tz": 0
    },
    "id": "_F0xJi1pM5kk"
   },
   "outputs": [
    {
     "name": "stdout",
     "output_type": "stream",
     "text": [
      "    WindDirDegrees<br />\n",
      "0              186<br />\n",
      "1              214<br />\n",
      "2              219<br />\n",
      "3              211<br />\n",
      "4              199<br />\n",
      "..                   ...\n",
      "360            330<br />\n",
      "361              5<br />\n",
      "362            289<br />\n",
      "363            258<br />\n",
      "364            201<br />\n",
      "\n",
      "[365 rows x 1 columns]\n"
     ]
    }
   ],
   "source": [
    "print(london[[\"WindDirDegrees<br />\"]])"
   ]
  },
  {
   "cell_type": "markdown",
   "metadata": {
    "id": "fh4gQpbt_-tX"
   },
   "source": [
    "## Removing extra characters (< br/>, \\r, \\n etc.)"
   ]
  },
  {
   "cell_type": "markdown",
   "metadata": {
    "id": "ewtw8eDhALG3"
   },
   "source": [
    "If you opened `London_2014.csv` in a text editor and looked at the last column name you would see that the name is `WindDirDegrees< br />`.\n",
    "\n",
    "What has happened here is that when the dataset was exported from the Weather Underground website an html line break: \n",
    "\n",
    "`<br />` \n",
    "\n",
    "was added after the line of column headers which `read_csv()` has interpreted as the end part of the final column's name.\n",
    "\n",
    "In fact, the problem is worse than this, let's look at some values in the final column:\n"
   ]
  },
  {
   "cell_type": "code",
   "execution_count": 86,
   "metadata": {},
   "outputs": [
    {
     "ename": "KeyError",
     "evalue": "'WindDirDegrees'",
     "output_type": "error",
     "traceback": [
      "\u001b[0;31m---------------------------------------------------------------------------\u001b[0m",
      "\u001b[0;31mKeyError\u001b[0m                                  Traceback (most recent call last)",
      "\u001b[0;32m~/opt/anaconda3/lib/python3.8/site-packages/pandas/core/indexes/base.py\u001b[0m in \u001b[0;36mget_loc\u001b[0;34m(self, key, method, tolerance)\u001b[0m\n\u001b[1;32m   2894\u001b[0m             \u001b[0;32mtry\u001b[0m\u001b[0;34m:\u001b[0m\u001b[0;34m\u001b[0m\u001b[0;34m\u001b[0m\u001b[0m\n\u001b[0;32m-> 2895\u001b[0;31m                 \u001b[0;32mreturn\u001b[0m \u001b[0mself\u001b[0m\u001b[0;34m.\u001b[0m\u001b[0m_engine\u001b[0m\u001b[0;34m.\u001b[0m\u001b[0mget_loc\u001b[0m\u001b[0;34m(\u001b[0m\u001b[0mcasted_key\u001b[0m\u001b[0;34m)\u001b[0m\u001b[0;34m\u001b[0m\u001b[0;34m\u001b[0m\u001b[0m\n\u001b[0m\u001b[1;32m   2896\u001b[0m             \u001b[0;32mexcept\u001b[0m \u001b[0mKeyError\u001b[0m \u001b[0;32mas\u001b[0m \u001b[0merr\u001b[0m\u001b[0;34m:\u001b[0m\u001b[0;34m\u001b[0m\u001b[0;34m\u001b[0m\u001b[0m\n",
      "\u001b[0;32mpandas/_libs/index.pyx\u001b[0m in \u001b[0;36mpandas._libs.index.IndexEngine.get_loc\u001b[0;34m()\u001b[0m\n",
      "\u001b[0;32mpandas/_libs/index.pyx\u001b[0m in \u001b[0;36mpandas._libs.index.IndexEngine.get_loc\u001b[0;34m()\u001b[0m\n",
      "\u001b[0;32mpandas/_libs/hashtable_class_helper.pxi\u001b[0m in \u001b[0;36mpandas._libs.hashtable.PyObjectHashTable.get_item\u001b[0;34m()\u001b[0m\n",
      "\u001b[0;32mpandas/_libs/hashtable_class_helper.pxi\u001b[0m in \u001b[0;36mpandas._libs.hashtable.PyObjectHashTable.get_item\u001b[0;34m()\u001b[0m\n",
      "\u001b[0;31mKeyError\u001b[0m: 'WindDirDegrees'",
      "\nThe above exception was the direct cause of the following exception:\n",
      "\u001b[0;31mKeyError\u001b[0m                                  Traceback (most recent call last)",
      "\u001b[0;32m<ipython-input-86-271fe6f3a79a>\u001b[0m in \u001b[0;36m<module>\u001b[0;34m\u001b[0m\n\u001b[0;32m----> 1\u001b[0;31m \u001b[0mprint\u001b[0m\u001b[0;34m(\u001b[0m\u001b[0mlondon\u001b[0m\u001b[0;34m[\u001b[0m\u001b[0;34m\"WindDirDegrees\"\u001b[0m\u001b[0;34m]\u001b[0m\u001b[0;34m.\u001b[0m\u001b[0mhead\u001b[0m\u001b[0;34m(\u001b[0m\u001b[0;34m)\u001b[0m\u001b[0;34m)\u001b[0m\u001b[0;34m\u001b[0m\u001b[0;34m\u001b[0m\u001b[0m\n\u001b[0m",
      "\u001b[0;32m~/opt/anaconda3/lib/python3.8/site-packages/pandas/core/frame.py\u001b[0m in \u001b[0;36m__getitem__\u001b[0;34m(self, key)\u001b[0m\n\u001b[1;32m   2900\u001b[0m             \u001b[0;32mif\u001b[0m \u001b[0mself\u001b[0m\u001b[0;34m.\u001b[0m\u001b[0mcolumns\u001b[0m\u001b[0;34m.\u001b[0m\u001b[0mnlevels\u001b[0m \u001b[0;34m>\u001b[0m \u001b[0;36m1\u001b[0m\u001b[0;34m:\u001b[0m\u001b[0;34m\u001b[0m\u001b[0;34m\u001b[0m\u001b[0m\n\u001b[1;32m   2901\u001b[0m                 \u001b[0;32mreturn\u001b[0m \u001b[0mself\u001b[0m\u001b[0;34m.\u001b[0m\u001b[0m_getitem_multilevel\u001b[0m\u001b[0;34m(\u001b[0m\u001b[0mkey\u001b[0m\u001b[0;34m)\u001b[0m\u001b[0;34m\u001b[0m\u001b[0;34m\u001b[0m\u001b[0m\n\u001b[0;32m-> 2902\u001b[0;31m             \u001b[0mindexer\u001b[0m \u001b[0;34m=\u001b[0m \u001b[0mself\u001b[0m\u001b[0;34m.\u001b[0m\u001b[0mcolumns\u001b[0m\u001b[0;34m.\u001b[0m\u001b[0mget_loc\u001b[0m\u001b[0;34m(\u001b[0m\u001b[0mkey\u001b[0m\u001b[0;34m)\u001b[0m\u001b[0;34m\u001b[0m\u001b[0;34m\u001b[0m\u001b[0m\n\u001b[0m\u001b[1;32m   2903\u001b[0m             \u001b[0;32mif\u001b[0m \u001b[0mis_integer\u001b[0m\u001b[0;34m(\u001b[0m\u001b[0mindexer\u001b[0m\u001b[0;34m)\u001b[0m\u001b[0;34m:\u001b[0m\u001b[0;34m\u001b[0m\u001b[0;34m\u001b[0m\u001b[0m\n\u001b[1;32m   2904\u001b[0m                 \u001b[0mindexer\u001b[0m \u001b[0;34m=\u001b[0m \u001b[0;34m[\u001b[0m\u001b[0mindexer\u001b[0m\u001b[0;34m]\u001b[0m\u001b[0;34m\u001b[0m\u001b[0;34m\u001b[0m\u001b[0m\n",
      "\u001b[0;32m~/opt/anaconda3/lib/python3.8/site-packages/pandas/core/indexes/base.py\u001b[0m in \u001b[0;36mget_loc\u001b[0;34m(self, key, method, tolerance)\u001b[0m\n\u001b[1;32m   2895\u001b[0m                 \u001b[0;32mreturn\u001b[0m \u001b[0mself\u001b[0m\u001b[0;34m.\u001b[0m\u001b[0m_engine\u001b[0m\u001b[0;34m.\u001b[0m\u001b[0mget_loc\u001b[0m\u001b[0;34m(\u001b[0m\u001b[0mcasted_key\u001b[0m\u001b[0;34m)\u001b[0m\u001b[0;34m\u001b[0m\u001b[0;34m\u001b[0m\u001b[0m\n\u001b[1;32m   2896\u001b[0m             \u001b[0;32mexcept\u001b[0m \u001b[0mKeyError\u001b[0m \u001b[0;32mas\u001b[0m \u001b[0merr\u001b[0m\u001b[0;34m:\u001b[0m\u001b[0;34m\u001b[0m\u001b[0;34m\u001b[0m\u001b[0m\n\u001b[0;32m-> 2897\u001b[0;31m                 \u001b[0;32mraise\u001b[0m \u001b[0mKeyError\u001b[0m\u001b[0;34m(\u001b[0m\u001b[0mkey\u001b[0m\u001b[0;34m)\u001b[0m \u001b[0;32mfrom\u001b[0m \u001b[0merr\u001b[0m\u001b[0;34m\u001b[0m\u001b[0;34m\u001b[0m\u001b[0m\n\u001b[0m\u001b[1;32m   2898\u001b[0m \u001b[0;34m\u001b[0m\u001b[0m\n\u001b[1;32m   2899\u001b[0m         \u001b[0;32mif\u001b[0m \u001b[0mtolerance\u001b[0m \u001b[0;32mis\u001b[0m \u001b[0;32mnot\u001b[0m \u001b[0;32mNone\u001b[0m\u001b[0;34m:\u001b[0m\u001b[0;34m\u001b[0m\u001b[0;34m\u001b[0m\u001b[0m\n",
      "\u001b[0;31mKeyError\u001b[0m: 'WindDirDegrees'"
     ]
    }
   ],
   "source": [
    "print(london[\"WindDirDegrees\"].head())"
   ]
  },
  {
   "cell_type": "markdown",
   "metadata": {},
   "source": [
    "You should have a big error message. Read it and see if you get directed to the cause of the error. In short: we have a trailing invisible character - a naughty line-break."
   ]
  },
  {
   "cell_type": "code",
   "execution_count": 85,
   "metadata": {
    "executionInfo": {
     "elapsed": 2704161,
     "status": "aborted",
     "timestamp": 1608203957040,
     "user": {
      "displayName": "Ian Grant",
      "photoUrl": "",
      "userId": "14746146838898941070"
     },
     "user_tz": 0
    },
    "id": "gHlh_QEP_ANU"
   },
   "outputs": [
    {
     "name": "stdout",
     "output_type": "stream",
     "text": [
      "0    186<br />\n",
      "1    214<br />\n",
      "2    219<br />\n",
      "3    211<br />\n",
      "4    199<br />\n",
      "Name: WindDirDegrees<br />, dtype: object\n"
     ]
    }
   ],
   "source": [
    "print(london[\"WindDirDegrees<br />\"].head())"
   ]
  },
  {
   "cell_type": "markdown",
   "metadata": {
    "id": "35GQzGO4AglF"
   },
   "source": [
    "It's seems there is an html line break at the end of each line. If I opened `London_2014.csv` in a text editor and looked at the ends of all lines in the file this would be confirmed.\n",
    "\n",
    "To change `WindDirDegrees< br />` to `WindDirDegrees` all I have to do is use the `rename()` method as follows:\n"
   ]
  },
  {
   "cell_type": "code",
   "execution_count": 87,
   "metadata": {
    "executionInfo": {
     "elapsed": 2704148,
     "status": "aborted",
     "timestamp": 1608203957040,
     "user": {
      "displayName": "Ian Grant",
      "photoUrl": "",
      "userId": "14746146838898941070"
     },
     "user_tz": 0
    },
    "id": "RAXQAa_SAqLG"
   },
   "outputs": [],
   "source": [
    "london = london.rename(columns={\"WindDirDegrees<br />\":\"WindDirDegrees\"})"
   ]
  },
  {
   "cell_type": "markdown",
   "metadata": {
    "id": "ATljhIPZArif"
   },
   "source": [
    "I can do that using the string method `rstrip()` which is used to remove characters from the end or \"rear\" of a string, just like this:"
   ]
  },
  {
   "cell_type": "code",
   "execution_count": 88,
   "metadata": {
    "executionInfo": {
     "elapsed": 2704143,
     "status": "aborted",
     "timestamp": 1608203957041,
     "user": {
      "displayName": "Ian Grant",
      "photoUrl": "",
      "userId": "14746146838898941070"
     },
     "user_tz": 0
    },
    "id": "4-eZOKkVA2GV"
   },
   "outputs": [],
   "source": [
    "london[\"WindDirDegrees\"] = london[\"WindDirDegrees\"].str.rstrip(\"<br />\")"
   ]
  },
  {
   "cell_type": "markdown",
   "metadata": {
    "id": "ns0w6RmCN15-"
   },
   "source": [
    "Run the code again, with the correctly renamed column, we'll see the column data cleaned of invisible break characters."
   ]
  },
  {
   "cell_type": "code",
   "execution_count": 89,
   "metadata": {
    "executionInfo": {
     "elapsed": 2704088,
     "status": "aborted",
     "timestamp": 1608203957041,
     "user": {
      "displayName": "Ian Grant",
      "photoUrl": "",
      "userId": "14746146838898941070"
     },
     "user_tz": 0
    },
    "id": "AqCso5HBNhC_"
   },
   "outputs": [
    {
     "name": "stdout",
     "output_type": "stream",
     "text": [
      "    WindDirDegrees\n",
      "0              186\n",
      "1              214\n",
      "2              219\n",
      "3              211\n",
      "4              199\n",
      "..             ...\n",
      "360            330\n",
      "361              5\n",
      "362            289\n",
      "363            258\n",
      "364            201\n",
      "\n",
      "[365 rows x 1 columns]\n"
     ]
    }
   ],
   "source": [
    "print(london[[\"WindDirDegrees\"]])"
   ]
  },
  {
   "cell_type": "markdown",
   "metadata": {
    "id": "kZaSmsdGA-eR"
   },
   "source": [
    "## Missing values\n",
    "\n",
    "Finding missing values in a particular column can be done with the column method `isnull()`, like this:\n",
    "\n"
   ]
  },
  {
   "cell_type": "code",
   "execution_count": 90,
   "metadata": {
    "executionInfo": {
     "elapsed": 2704055,
     "status": "aborted",
     "timestamp": 1608203957041,
     "user": {
      "displayName": "Ian Grant",
      "photoUrl": "",
      "userId": "14746146838898941070"
     },
     "user_tz": 0
    },
    "id": "j_fqloRUBEzy"
   },
   "outputs": [
    {
     "data": {
      "text/plain": [
       "0      False\n",
       "1      False\n",
       "2      False\n",
       "3      False\n",
       "4      False\n",
       "       ...  \n",
       "360    False\n",
       "361     True\n",
       "362     True\n",
       "363     True\n",
       "364    False\n",
       "Name: Events, Length: 365, dtype: bool"
      ]
     },
     "execution_count": 90,
     "metadata": {},
     "output_type": "execute_result"
    }
   ],
   "source": [
    "london[\"Events\"].isnull()"
   ]
  },
  {
   "cell_type": "markdown",
   "metadata": {
    "id": "nqRaBMVtBNiR"
   },
   "source": [
    "If, as you did with the comparison expressions, you put this code within square brackets after the dataframe's name, it will return a new dataframe consisting of all the rows without recorded events (rain, fog, thunderstorm, etc.):"
   ]
  },
  {
   "cell_type": "code",
   "execution_count": 91,
   "metadata": {
    "executionInfo": {
     "elapsed": 2704027,
     "status": "aborted",
     "timestamp": 1608203957043,
     "user": {
      "displayName": "Ian Grant",
      "photoUrl": "",
      "userId": "14746146838898941070"
     },
     "user_tz": 0
    },
    "id": "tNq0FbhjBP0R"
   },
   "outputs": [
    {
     "data": {
      "text/html": [
       "<div>\n",
       "<style scoped>\n",
       "    .dataframe tbody tr th:only-of-type {\n",
       "        vertical-align: middle;\n",
       "    }\n",
       "\n",
       "    .dataframe tbody tr th {\n",
       "        vertical-align: top;\n",
       "    }\n",
       "\n",
       "    .dataframe thead th {\n",
       "        text-align: right;\n",
       "    }\n",
       "</style>\n",
       "<table border=\"1\" class=\"dataframe\">\n",
       "  <thead>\n",
       "    <tr style=\"text-align: right;\">\n",
       "      <th></th>\n",
       "      <th>GMT</th>\n",
       "      <th>Max TemperatureC</th>\n",
       "      <th>Mean TemperatureC</th>\n",
       "      <th>Min TemperatureC</th>\n",
       "      <th>Dew PointC</th>\n",
       "      <th>MeanDew PointC</th>\n",
       "      <th>Min DewpointC</th>\n",
       "      <th>Max Humidity</th>\n",
       "      <th>Mean Humidity</th>\n",
       "      <th>Min Humidity</th>\n",
       "      <th>...</th>\n",
       "      <th>Max VisibilityKm</th>\n",
       "      <th>Mean VisibilityKm</th>\n",
       "      <th>Min VisibilitykM</th>\n",
       "      <th>Max Wind SpeedKm/h</th>\n",
       "      <th>Mean Wind SpeedKm/h</th>\n",
       "      <th>Max Gust SpeedKm/h</th>\n",
       "      <th>Precipitationmm</th>\n",
       "      <th>CloudCover</th>\n",
       "      <th>Events</th>\n",
       "      <th>WindDirDegrees</th>\n",
       "    </tr>\n",
       "  </thead>\n",
       "  <tbody>\n",
       "    <tr>\n",
       "      <th>32</th>\n",
       "      <td>2014-2-2</td>\n",
       "      <td>10</td>\n",
       "      <td>8</td>\n",
       "      <td>5</td>\n",
       "      <td>4</td>\n",
       "      <td>3</td>\n",
       "      <td>1</td>\n",
       "      <td>93</td>\n",
       "      <td>71</td>\n",
       "      <td>43</td>\n",
       "      <td>...</td>\n",
       "      <td>31</td>\n",
       "      <td>16</td>\n",
       "      <td>10</td>\n",
       "      <td>37</td>\n",
       "      <td>24</td>\n",
       "      <td>47.0</td>\n",
       "      <td>0.00</td>\n",
       "      <td>2.0</td>\n",
       "      <td>NaN</td>\n",
       "      <td>216</td>\n",
       "    </tr>\n",
       "    <tr>\n",
       "      <th>33</th>\n",
       "      <td>2014-2-3</td>\n",
       "      <td>8</td>\n",
       "      <td>6</td>\n",
       "      <td>3</td>\n",
       "      <td>5</td>\n",
       "      <td>3</td>\n",
       "      <td>2</td>\n",
       "      <td>93</td>\n",
       "      <td>79</td>\n",
       "      <td>55</td>\n",
       "      <td>...</td>\n",
       "      <td>31</td>\n",
       "      <td>15</td>\n",
       "      <td>10</td>\n",
       "      <td>32</td>\n",
       "      <td>18</td>\n",
       "      <td>NaN</td>\n",
       "      <td>0.00</td>\n",
       "      <td>4.0</td>\n",
       "      <td>NaN</td>\n",
       "      <td>133</td>\n",
       "    </tr>\n",
       "    <tr>\n",
       "      <th>43</th>\n",
       "      <td>2014-2-13</td>\n",
       "      <td>8</td>\n",
       "      <td>6</td>\n",
       "      <td>3</td>\n",
       "      <td>2</td>\n",
       "      <td>1</td>\n",
       "      <td>-1</td>\n",
       "      <td>81</td>\n",
       "      <td>66</td>\n",
       "      <td>45</td>\n",
       "      <td>...</td>\n",
       "      <td>31</td>\n",
       "      <td>15</td>\n",
       "      <td>10</td>\n",
       "      <td>42</td>\n",
       "      <td>27</td>\n",
       "      <td>48.0</td>\n",
       "      <td>0.00</td>\n",
       "      <td>2.0</td>\n",
       "      <td>NaN</td>\n",
       "      <td>236</td>\n",
       "    </tr>\n",
       "    <tr>\n",
       "      <th>52</th>\n",
       "      <td>2014-2-22</td>\n",
       "      <td>12</td>\n",
       "      <td>8</td>\n",
       "      <td>4</td>\n",
       "      <td>5</td>\n",
       "      <td>3</td>\n",
       "      <td>1</td>\n",
       "      <td>87</td>\n",
       "      <td>68</td>\n",
       "      <td>38</td>\n",
       "      <td>...</td>\n",
       "      <td>31</td>\n",
       "      <td>16</td>\n",
       "      <td>10</td>\n",
       "      <td>29</td>\n",
       "      <td>21</td>\n",
       "      <td>NaN</td>\n",
       "      <td>0.00</td>\n",
       "      <td>2.0</td>\n",
       "      <td>NaN</td>\n",
       "      <td>228</td>\n",
       "    </tr>\n",
       "    <tr>\n",
       "      <th>63</th>\n",
       "      <td>2014-3-5</td>\n",
       "      <td>13</td>\n",
       "      <td>7</td>\n",
       "      <td>0</td>\n",
       "      <td>4</td>\n",
       "      <td>2</td>\n",
       "      <td>-1</td>\n",
       "      <td>100</td>\n",
       "      <td>72</td>\n",
       "      <td>40</td>\n",
       "      <td>...</td>\n",
       "      <td>31</td>\n",
       "      <td>15</td>\n",
       "      <td>8</td>\n",
       "      <td>21</td>\n",
       "      <td>6</td>\n",
       "      <td>NaN</td>\n",
       "      <td>0.25</td>\n",
       "      <td>1.0</td>\n",
       "      <td>NaN</td>\n",
       "      <td>248</td>\n",
       "    </tr>\n",
       "    <tr>\n",
       "      <th>...</th>\n",
       "      <td>...</td>\n",
       "      <td>...</td>\n",
       "      <td>...</td>\n",
       "      <td>...</td>\n",
       "      <td>...</td>\n",
       "      <td>...</td>\n",
       "      <td>...</td>\n",
       "      <td>...</td>\n",
       "      <td>...</td>\n",
       "      <td>...</td>\n",
       "      <td>...</td>\n",
       "      <td>...</td>\n",
       "      <td>...</td>\n",
       "      <td>...</td>\n",
       "      <td>...</td>\n",
       "      <td>...</td>\n",
       "      <td>...</td>\n",
       "      <td>...</td>\n",
       "      <td>...</td>\n",
       "      <td>...</td>\n",
       "      <td>...</td>\n",
       "    </tr>\n",
       "    <tr>\n",
       "      <th>351</th>\n",
       "      <td>2014-12-18</td>\n",
       "      <td>13</td>\n",
       "      <td>12</td>\n",
       "      <td>11</td>\n",
       "      <td>11</td>\n",
       "      <td>11</td>\n",
       "      <td>10</td>\n",
       "      <td>94</td>\n",
       "      <td>85</td>\n",
       "      <td>74</td>\n",
       "      <td>...</td>\n",
       "      <td>31</td>\n",
       "      <td>12</td>\n",
       "      <td>10</td>\n",
       "      <td>37</td>\n",
       "      <td>29</td>\n",
       "      <td>60.0</td>\n",
       "      <td>0.00</td>\n",
       "      <td>6.0</td>\n",
       "      <td>NaN</td>\n",
       "      <td>245</td>\n",
       "    </tr>\n",
       "    <tr>\n",
       "      <th>358</th>\n",
       "      <td>2014-12-25</td>\n",
       "      <td>8</td>\n",
       "      <td>6</td>\n",
       "      <td>2</td>\n",
       "      <td>3</td>\n",
       "      <td>2</td>\n",
       "      <td>1</td>\n",
       "      <td>93</td>\n",
       "      <td>79</td>\n",
       "      <td>51</td>\n",
       "      <td>...</td>\n",
       "      <td>31</td>\n",
       "      <td>19</td>\n",
       "      <td>10</td>\n",
       "      <td>24</td>\n",
       "      <td>16</td>\n",
       "      <td>NaN</td>\n",
       "      <td>0.00</td>\n",
       "      <td>1.0</td>\n",
       "      <td>NaN</td>\n",
       "      <td>275</td>\n",
       "    </tr>\n",
       "    <tr>\n",
       "      <th>361</th>\n",
       "      <td>2014-12-28</td>\n",
       "      <td>6</td>\n",
       "      <td>2</td>\n",
       "      <td>-2</td>\n",
       "      <td>1</td>\n",
       "      <td>-2</td>\n",
       "      <td>-3</td>\n",
       "      <td>100</td>\n",
       "      <td>76</td>\n",
       "      <td>45</td>\n",
       "      <td>...</td>\n",
       "      <td>31</td>\n",
       "      <td>17</td>\n",
       "      <td>8</td>\n",
       "      <td>16</td>\n",
       "      <td>11</td>\n",
       "      <td>NaN</td>\n",
       "      <td>0.00</td>\n",
       "      <td>1.0</td>\n",
       "      <td>NaN</td>\n",
       "      <td>5</td>\n",
       "    </tr>\n",
       "    <tr>\n",
       "      <th>362</th>\n",
       "      <td>2014-12-29</td>\n",
       "      <td>6</td>\n",
       "      <td>1</td>\n",
       "      <td>-4</td>\n",
       "      <td>2</td>\n",
       "      <td>-1</td>\n",
       "      <td>-4</td>\n",
       "      <td>100</td>\n",
       "      <td>87</td>\n",
       "      <td>62</td>\n",
       "      <td>...</td>\n",
       "      <td>24</td>\n",
       "      <td>10</td>\n",
       "      <td>5</td>\n",
       "      <td>13</td>\n",
       "      <td>8</td>\n",
       "      <td>NaN</td>\n",
       "      <td>0.25</td>\n",
       "      <td>1.0</td>\n",
       "      <td>NaN</td>\n",
       "      <td>289</td>\n",
       "    </tr>\n",
       "    <tr>\n",
       "      <th>363</th>\n",
       "      <td>2014-12-30</td>\n",
       "      <td>6</td>\n",
       "      <td>1</td>\n",
       "      <td>-4</td>\n",
       "      <td>2</td>\n",
       "      <td>-1</td>\n",
       "      <td>-4</td>\n",
       "      <td>100</td>\n",
       "      <td>90</td>\n",
       "      <td>68</td>\n",
       "      <td>...</td>\n",
       "      <td>27</td>\n",
       "      <td>9</td>\n",
       "      <td>3</td>\n",
       "      <td>14</td>\n",
       "      <td>6</td>\n",
       "      <td>NaN</td>\n",
       "      <td>0.25</td>\n",
       "      <td>3.0</td>\n",
       "      <td>NaN</td>\n",
       "      <td>258</td>\n",
       "    </tr>\n",
       "  </tbody>\n",
       "</table>\n",
       "<p>114 rows × 23 columns</p>\n",
       "</div>"
      ],
      "text/plain": [
       "            GMT  Max TemperatureC  Mean TemperatureC  Min TemperatureC  \\\n",
       "32     2014-2-2                10                  8                 5   \n",
       "33     2014-2-3                 8                  6                 3   \n",
       "43    2014-2-13                 8                  6                 3   \n",
       "52    2014-2-22                12                  8                 4   \n",
       "63     2014-3-5                13                  7                 0   \n",
       "..          ...               ...                ...               ...   \n",
       "351  2014-12-18                13                 12                11   \n",
       "358  2014-12-25                 8                  6                 2   \n",
       "361  2014-12-28                 6                  2                -2   \n",
       "362  2014-12-29                 6                  1                -4   \n",
       "363  2014-12-30                 6                  1                -4   \n",
       "\n",
       "     Dew PointC  MeanDew PointC  Min DewpointC  Max Humidity  Mean Humidity  \\\n",
       "32            4               3              1            93             71   \n",
       "33            5               3              2            93             79   \n",
       "43            2               1             -1            81             66   \n",
       "52            5               3              1            87             68   \n",
       "63            4               2             -1           100             72   \n",
       "..          ...             ...            ...           ...            ...   \n",
       "351          11              11             10            94             85   \n",
       "358           3               2              1            93             79   \n",
       "361           1              -2             -3           100             76   \n",
       "362           2              -1             -4           100             87   \n",
       "363           2              -1             -4           100             90   \n",
       "\n",
       "     Min Humidity  ...  Max VisibilityKm  Mean VisibilityKm  Min VisibilitykM  \\\n",
       "32             43  ...                31                 16                10   \n",
       "33             55  ...                31                 15                10   \n",
       "43             45  ...                31                 15                10   \n",
       "52             38  ...                31                 16                10   \n",
       "63             40  ...                31                 15                 8   \n",
       "..            ...  ...               ...                ...               ...   \n",
       "351            74  ...                31                 12                10   \n",
       "358            51  ...                31                 19                10   \n",
       "361            45  ...                31                 17                 8   \n",
       "362            62  ...                24                 10                 5   \n",
       "363            68  ...                27                  9                 3   \n",
       "\n",
       "     Max Wind SpeedKm/h  Mean Wind SpeedKm/h  Max Gust SpeedKm/h  \\\n",
       "32                   37                   24                47.0   \n",
       "33                   32                   18                 NaN   \n",
       "43                   42                   27                48.0   \n",
       "52                   29                   21                 NaN   \n",
       "63                   21                    6                 NaN   \n",
       "..                  ...                  ...                 ...   \n",
       "351                  37                   29                60.0   \n",
       "358                  24                   16                 NaN   \n",
       "361                  16                   11                 NaN   \n",
       "362                  13                    8                 NaN   \n",
       "363                  14                    6                 NaN   \n",
       "\n",
       "     Precipitationmm  CloudCover  Events  WindDirDegrees  \n",
       "32              0.00         2.0     NaN             216  \n",
       "33              0.00         4.0     NaN             133  \n",
       "43              0.00         2.0     NaN             236  \n",
       "52              0.00         2.0     NaN             228  \n",
       "63              0.25         1.0     NaN             248  \n",
       "..               ...         ...     ...             ...  \n",
       "351             0.00         6.0     NaN             245  \n",
       "358             0.00         1.0     NaN             275  \n",
       "361             0.00         1.0     NaN               5  \n",
       "362             0.25         1.0     NaN             289  \n",
       "363             0.25         3.0     NaN             258  \n",
       "\n",
       "[114 rows x 23 columns]"
      ]
     },
     "execution_count": 91,
     "metadata": {},
     "output_type": "execute_result"
    }
   ],
   "source": [
    "london[london[\"Events\"].isnull()]"
   ]
  },
  {
   "cell_type": "markdown",
   "metadata": {
    "id": "HXAPfFm-BXJQ"
   },
   "source": [
    "This will return a new dataframe with 114 rows, showing that more than one in three days had no particular event recorded. \n",
    "\n",
    "If you scroll the table to the right, you will see that all values in the \"Events\" column are marked `NaN`, which stands for \"Not a Number\", but is also used to mark non-numeric missing values, like in this case (events are strings, not numbers).\n",
    "\n",
    "Once you know how much and where data is missing, you have to decide what to do: ignore those rows? Replace with a fixed value? Replace with a computed value, like the mean?\n",
    "\n",
    "In this case, only the first two options are possible. The method call `london.dropna()` will drop (remove) all rows that have a missing (non-available) value somewhere, returning a new dataframe. This will therefore also remove rows that have missing values in other columns.\n"
   ]
  },
  {
   "cell_type": "code",
   "execution_count": 92,
   "metadata": {
    "executionInfo": {
     "elapsed": 2704007,
     "status": "aborted",
     "timestamp": 1608203957044,
     "user": {
      "displayName": "Ian Grant",
      "photoUrl": "",
      "userId": "14746146838898941070"
     },
     "user_tz": 0
    },
    "id": "X2yg5oX7PMWn"
   },
   "outputs": [
    {
     "data": {
      "text/html": [
       "<div>\n",
       "<style scoped>\n",
       "    .dataframe tbody tr th:only-of-type {\n",
       "        vertical-align: middle;\n",
       "    }\n",
       "\n",
       "    .dataframe tbody tr th {\n",
       "        vertical-align: top;\n",
       "    }\n",
       "\n",
       "    .dataframe thead th {\n",
       "        text-align: right;\n",
       "    }\n",
       "</style>\n",
       "<table border=\"1\" class=\"dataframe\">\n",
       "  <thead>\n",
       "    <tr style=\"text-align: right;\">\n",
       "      <th></th>\n",
       "      <th>GMT</th>\n",
       "      <th>Max TemperatureC</th>\n",
       "      <th>Mean TemperatureC</th>\n",
       "      <th>Min TemperatureC</th>\n",
       "      <th>Dew PointC</th>\n",
       "      <th>MeanDew PointC</th>\n",
       "      <th>Min DewpointC</th>\n",
       "      <th>Max Humidity</th>\n",
       "      <th>Mean Humidity</th>\n",
       "      <th>Min Humidity</th>\n",
       "      <th>...</th>\n",
       "      <th>Max VisibilityKm</th>\n",
       "      <th>Mean VisibilityKm</th>\n",
       "      <th>Min VisibilitykM</th>\n",
       "      <th>Max Wind SpeedKm/h</th>\n",
       "      <th>Mean Wind SpeedKm/h</th>\n",
       "      <th>Max Gust SpeedKm/h</th>\n",
       "      <th>Precipitationmm</th>\n",
       "      <th>CloudCover</th>\n",
       "      <th>Events</th>\n",
       "      <th>WindDirDegrees</th>\n",
       "    </tr>\n",
       "  </thead>\n",
       "  <tbody>\n",
       "    <tr>\n",
       "      <th>0</th>\n",
       "      <td>2014-1-1</td>\n",
       "      <td>11</td>\n",
       "      <td>8</td>\n",
       "      <td>6</td>\n",
       "      <td>9</td>\n",
       "      <td>7</td>\n",
       "      <td>4</td>\n",
       "      <td>94</td>\n",
       "      <td>86</td>\n",
       "      <td>73</td>\n",
       "      <td>...</td>\n",
       "      <td>31</td>\n",
       "      <td>11</td>\n",
       "      <td>2</td>\n",
       "      <td>40</td>\n",
       "      <td>26</td>\n",
       "      <td>66.0</td>\n",
       "      <td>9.91</td>\n",
       "      <td>4.0</td>\n",
       "      <td>Rain</td>\n",
       "      <td>186</td>\n",
       "    </tr>\n",
       "    <tr>\n",
       "      <th>1</th>\n",
       "      <td>2014-1-2</td>\n",
       "      <td>11</td>\n",
       "      <td>9</td>\n",
       "      <td>6</td>\n",
       "      <td>9</td>\n",
       "      <td>6</td>\n",
       "      <td>4</td>\n",
       "      <td>94</td>\n",
       "      <td>81</td>\n",
       "      <td>60</td>\n",
       "      <td>...</td>\n",
       "      <td>31</td>\n",
       "      <td>15</td>\n",
       "      <td>5</td>\n",
       "      <td>32</td>\n",
       "      <td>21</td>\n",
       "      <td>50.0</td>\n",
       "      <td>1.02</td>\n",
       "      <td>2.0</td>\n",
       "      <td>Rain</td>\n",
       "      <td>214</td>\n",
       "    </tr>\n",
       "    <tr>\n",
       "      <th>2</th>\n",
       "      <td>2014-1-3</td>\n",
       "      <td>11</td>\n",
       "      <td>8</td>\n",
       "      <td>6</td>\n",
       "      <td>9</td>\n",
       "      <td>5</td>\n",
       "      <td>2</td>\n",
       "      <td>94</td>\n",
       "      <td>76</td>\n",
       "      <td>54</td>\n",
       "      <td>...</td>\n",
       "      <td>31</td>\n",
       "      <td>12</td>\n",
       "      <td>0</td>\n",
       "      <td>50</td>\n",
       "      <td>29</td>\n",
       "      <td>69.0</td>\n",
       "      <td>7.11</td>\n",
       "      <td>2.0</td>\n",
       "      <td>Rain-Thunderstorm</td>\n",
       "      <td>219</td>\n",
       "    </tr>\n",
       "    <tr>\n",
       "      <th>3</th>\n",
       "      <td>2014-1-4</td>\n",
       "      <td>9</td>\n",
       "      <td>6</td>\n",
       "      <td>3</td>\n",
       "      <td>8</td>\n",
       "      <td>6</td>\n",
       "      <td>2</td>\n",
       "      <td>93</td>\n",
       "      <td>85</td>\n",
       "      <td>65</td>\n",
       "      <td>...</td>\n",
       "      <td>31</td>\n",
       "      <td>12</td>\n",
       "      <td>5</td>\n",
       "      <td>35</td>\n",
       "      <td>21</td>\n",
       "      <td>39.0</td>\n",
       "      <td>9.91</td>\n",
       "      <td>4.0</td>\n",
       "      <td>Rain</td>\n",
       "      <td>211</td>\n",
       "    </tr>\n",
       "    <tr>\n",
       "      <th>5</th>\n",
       "      <td>2014-1-6</td>\n",
       "      <td>12</td>\n",
       "      <td>10</td>\n",
       "      <td>8</td>\n",
       "      <td>11</td>\n",
       "      <td>8</td>\n",
       "      <td>6</td>\n",
       "      <td>94</td>\n",
       "      <td>78</td>\n",
       "      <td>60</td>\n",
       "      <td>...</td>\n",
       "      <td>31</td>\n",
       "      <td>12</td>\n",
       "      <td>5</td>\n",
       "      <td>50</td>\n",
       "      <td>29</td>\n",
       "      <td>61.0</td>\n",
       "      <td>2.03</td>\n",
       "      <td>4.0</td>\n",
       "      <td>Rain</td>\n",
       "      <td>219</td>\n",
       "    </tr>\n",
       "    <tr>\n",
       "      <th>...</th>\n",
       "      <td>...</td>\n",
       "      <td>...</td>\n",
       "      <td>...</td>\n",
       "      <td>...</td>\n",
       "      <td>...</td>\n",
       "      <td>...</td>\n",
       "      <td>...</td>\n",
       "      <td>...</td>\n",
       "      <td>...</td>\n",
       "      <td>...</td>\n",
       "      <td>...</td>\n",
       "      <td>...</td>\n",
       "      <td>...</td>\n",
       "      <td>...</td>\n",
       "      <td>...</td>\n",
       "      <td>...</td>\n",
       "      <td>...</td>\n",
       "      <td>...</td>\n",
       "      <td>...</td>\n",
       "      <td>...</td>\n",
       "      <td>...</td>\n",
       "    </tr>\n",
       "    <tr>\n",
       "      <th>355</th>\n",
       "      <td>2014-12-22</td>\n",
       "      <td>13</td>\n",
       "      <td>12</td>\n",
       "      <td>10</td>\n",
       "      <td>11</td>\n",
       "      <td>9</td>\n",
       "      <td>7</td>\n",
       "      <td>94</td>\n",
       "      <td>77</td>\n",
       "      <td>63</td>\n",
       "      <td>...</td>\n",
       "      <td>31</td>\n",
       "      <td>14</td>\n",
       "      <td>8</td>\n",
       "      <td>40</td>\n",
       "      <td>32</td>\n",
       "      <td>55.0</td>\n",
       "      <td>0.00</td>\n",
       "      <td>5.0</td>\n",
       "      <td>Rain</td>\n",
       "      <td>240</td>\n",
       "    </tr>\n",
       "    <tr>\n",
       "      <th>356</th>\n",
       "      <td>2014-12-23</td>\n",
       "      <td>13</td>\n",
       "      <td>11</td>\n",
       "      <td>10</td>\n",
       "      <td>9</td>\n",
       "      <td>7</td>\n",
       "      <td>5</td>\n",
       "      <td>82</td>\n",
       "      <td>72</td>\n",
       "      <td>58</td>\n",
       "      <td>...</td>\n",
       "      <td>31</td>\n",
       "      <td>12</td>\n",
       "      <td>10</td>\n",
       "      <td>42</td>\n",
       "      <td>32</td>\n",
       "      <td>61.0</td>\n",
       "      <td>0.00</td>\n",
       "      <td>4.0</td>\n",
       "      <td>Rain</td>\n",
       "      <td>238</td>\n",
       "    </tr>\n",
       "    <tr>\n",
       "      <th>357</th>\n",
       "      <td>2014-12-24</td>\n",
       "      <td>12</td>\n",
       "      <td>8</td>\n",
       "      <td>4</td>\n",
       "      <td>10</td>\n",
       "      <td>4</td>\n",
       "      <td>-2</td>\n",
       "      <td>94</td>\n",
       "      <td>71</td>\n",
       "      <td>38</td>\n",
       "      <td>...</td>\n",
       "      <td>31</td>\n",
       "      <td>13</td>\n",
       "      <td>10</td>\n",
       "      <td>34</td>\n",
       "      <td>26</td>\n",
       "      <td>45.0</td>\n",
       "      <td>0.25</td>\n",
       "      <td>5.0</td>\n",
       "      <td>Rain</td>\n",
       "      <td>262</td>\n",
       "    </tr>\n",
       "    <tr>\n",
       "      <th>360</th>\n",
       "      <td>2014-12-27</td>\n",
       "      <td>4</td>\n",
       "      <td>3</td>\n",
       "      <td>2</td>\n",
       "      <td>8</td>\n",
       "      <td>1</td>\n",
       "      <td>-1</td>\n",
       "      <td>93</td>\n",
       "      <td>83</td>\n",
       "      <td>64</td>\n",
       "      <td>...</td>\n",
       "      <td>31</td>\n",
       "      <td>13</td>\n",
       "      <td>9</td>\n",
       "      <td>42</td>\n",
       "      <td>26</td>\n",
       "      <td>61.0</td>\n",
       "      <td>0.00</td>\n",
       "      <td>4.0</td>\n",
       "      <td>Rain</td>\n",
       "      <td>330</td>\n",
       "    </tr>\n",
       "    <tr>\n",
       "      <th>364</th>\n",
       "      <td>2014-12-31</td>\n",
       "      <td>8</td>\n",
       "      <td>2</td>\n",
       "      <td>-4</td>\n",
       "      <td>5</td>\n",
       "      <td>2</td>\n",
       "      <td>-4</td>\n",
       "      <td>100</td>\n",
       "      <td>89</td>\n",
       "      <td>70</td>\n",
       "      <td>...</td>\n",
       "      <td>19</td>\n",
       "      <td>9</td>\n",
       "      <td>0</td>\n",
       "      <td>23</td>\n",
       "      <td>8</td>\n",
       "      <td>37.0</td>\n",
       "      <td>0.25</td>\n",
       "      <td>4.0</td>\n",
       "      <td>Fog</td>\n",
       "      <td>201</td>\n",
       "    </tr>\n",
       "  </tbody>\n",
       "</table>\n",
       "<p>103 rows × 23 columns</p>\n",
       "</div>"
      ],
      "text/plain": [
       "            GMT  Max TemperatureC  Mean TemperatureC  Min TemperatureC  \\\n",
       "0      2014-1-1                11                  8                 6   \n",
       "1      2014-1-2                11                  9                 6   \n",
       "2      2014-1-3                11                  8                 6   \n",
       "3      2014-1-4                 9                  6                 3   \n",
       "5      2014-1-6                12                 10                 8   \n",
       "..          ...               ...                ...               ...   \n",
       "355  2014-12-22                13                 12                10   \n",
       "356  2014-12-23                13                 11                10   \n",
       "357  2014-12-24                12                  8                 4   \n",
       "360  2014-12-27                 4                  3                 2   \n",
       "364  2014-12-31                 8                  2                -4   \n",
       "\n",
       "     Dew PointC  MeanDew PointC  Min DewpointC  Max Humidity  Mean Humidity  \\\n",
       "0             9               7              4            94             86   \n",
       "1             9               6              4            94             81   \n",
       "2             9               5              2            94             76   \n",
       "3             8               6              2            93             85   \n",
       "5            11               8              6            94             78   \n",
       "..          ...             ...            ...           ...            ...   \n",
       "355          11               9              7            94             77   \n",
       "356           9               7              5            82             72   \n",
       "357          10               4             -2            94             71   \n",
       "360           8               1             -1            93             83   \n",
       "364           5               2             -4           100             89   \n",
       "\n",
       "     Min Humidity  ...  Max VisibilityKm  Mean VisibilityKm  Min VisibilitykM  \\\n",
       "0              73  ...                31                 11                 2   \n",
       "1              60  ...                31                 15                 5   \n",
       "2              54  ...                31                 12                 0   \n",
       "3              65  ...                31                 12                 5   \n",
       "5              60  ...                31                 12                 5   \n",
       "..            ...  ...               ...                ...               ...   \n",
       "355            63  ...                31                 14                 8   \n",
       "356            58  ...                31                 12                10   \n",
       "357            38  ...                31                 13                10   \n",
       "360            64  ...                31                 13                 9   \n",
       "364            70  ...                19                  9                 0   \n",
       "\n",
       "     Max Wind SpeedKm/h  Mean Wind SpeedKm/h  Max Gust SpeedKm/h  \\\n",
       "0                    40                   26                66.0   \n",
       "1                    32                   21                50.0   \n",
       "2                    50                   29                69.0   \n",
       "3                    35                   21                39.0   \n",
       "5                    50                   29                61.0   \n",
       "..                  ...                  ...                 ...   \n",
       "355                  40                   32                55.0   \n",
       "356                  42                   32                61.0   \n",
       "357                  34                   26                45.0   \n",
       "360                  42                   26                61.0   \n",
       "364                  23                    8                37.0   \n",
       "\n",
       "     Precipitationmm  CloudCover             Events  WindDirDegrees  \n",
       "0               9.91         4.0               Rain             186  \n",
       "1               1.02         2.0               Rain             214  \n",
       "2               7.11         2.0  Rain-Thunderstorm             219  \n",
       "3               9.91         4.0               Rain             211  \n",
       "5               2.03         4.0               Rain             219  \n",
       "..               ...         ...                ...             ...  \n",
       "355             0.00         5.0               Rain             240  \n",
       "356             0.00         4.0               Rain             238  \n",
       "357             0.25         5.0               Rain             262  \n",
       "360             0.00         4.0               Rain             330  \n",
       "364             0.25         4.0                Fog             201  \n",
       "\n",
       "[103 rows x 23 columns]"
      ]
     },
     "execution_count": 92,
     "metadata": {},
     "output_type": "execute_result"
    }
   ],
   "source": [
    "london.dropna()"
   ]
  },
  {
   "cell_type": "markdown",
   "metadata": {
    "id": "EqXqTMAMPLUE"
   },
   "source": [
    "\n",
    "The column method `london.fillna()` will replace all non-available values with the value given as argument. For this case, each `NaN` could be replaced by the empty string.\n"
   ]
  },
  {
   "cell_type": "code",
   "execution_count": 93,
   "metadata": {
    "executionInfo": {
     "elapsed": 2703987,
     "status": "aborted",
     "timestamp": 1608203957044,
     "user": {
      "displayName": "Ian Grant",
      "photoUrl": "",
      "userId": "14746146838898941070"
     },
     "user_tz": 0
    },
    "id": "9xPAtxAWQPAs"
   },
   "outputs": [
    {
     "data": {
      "text/html": [
       "<div>\n",
       "<style scoped>\n",
       "    .dataframe tbody tr th:only-of-type {\n",
       "        vertical-align: middle;\n",
       "    }\n",
       "\n",
       "    .dataframe tbody tr th {\n",
       "        vertical-align: top;\n",
       "    }\n",
       "\n",
       "    .dataframe thead th {\n",
       "        text-align: right;\n",
       "    }\n",
       "</style>\n",
       "<table border=\"1\" class=\"dataframe\">\n",
       "  <thead>\n",
       "    <tr style=\"text-align: right;\">\n",
       "      <th></th>\n",
       "      <th>GMT</th>\n",
       "      <th>Max TemperatureC</th>\n",
       "      <th>Mean TemperatureC</th>\n",
       "      <th>Min TemperatureC</th>\n",
       "      <th>Dew PointC</th>\n",
       "      <th>MeanDew PointC</th>\n",
       "      <th>Min DewpointC</th>\n",
       "      <th>Max Humidity</th>\n",
       "      <th>Mean Humidity</th>\n",
       "      <th>Min Humidity</th>\n",
       "      <th>...</th>\n",
       "      <th>Max VisibilityKm</th>\n",
       "      <th>Mean VisibilityKm</th>\n",
       "      <th>Min VisibilitykM</th>\n",
       "      <th>Max Wind SpeedKm/h</th>\n",
       "      <th>Mean Wind SpeedKm/h</th>\n",
       "      <th>Max Gust SpeedKm/h</th>\n",
       "      <th>Precipitationmm</th>\n",
       "      <th>CloudCover</th>\n",
       "      <th>Events</th>\n",
       "      <th>WindDirDegrees</th>\n",
       "    </tr>\n",
       "  </thead>\n",
       "  <tbody>\n",
       "    <tr>\n",
       "      <th>0</th>\n",
       "      <td>2014-1-1</td>\n",
       "      <td>11</td>\n",
       "      <td>8</td>\n",
       "      <td>6</td>\n",
       "      <td>9</td>\n",
       "      <td>7</td>\n",
       "      <td>4</td>\n",
       "      <td>94</td>\n",
       "      <td>86</td>\n",
       "      <td>73</td>\n",
       "      <td>...</td>\n",
       "      <td>31</td>\n",
       "      <td>11</td>\n",
       "      <td>2</td>\n",
       "      <td>40</td>\n",
       "      <td>26</td>\n",
       "      <td>66</td>\n",
       "      <td>9.91</td>\n",
       "      <td>4</td>\n",
       "      <td>Rain</td>\n",
       "      <td>186</td>\n",
       "    </tr>\n",
       "    <tr>\n",
       "      <th>1</th>\n",
       "      <td>2014-1-2</td>\n",
       "      <td>11</td>\n",
       "      <td>9</td>\n",
       "      <td>6</td>\n",
       "      <td>9</td>\n",
       "      <td>6</td>\n",
       "      <td>4</td>\n",
       "      <td>94</td>\n",
       "      <td>81</td>\n",
       "      <td>60</td>\n",
       "      <td>...</td>\n",
       "      <td>31</td>\n",
       "      <td>15</td>\n",
       "      <td>5</td>\n",
       "      <td>32</td>\n",
       "      <td>21</td>\n",
       "      <td>50</td>\n",
       "      <td>1.02</td>\n",
       "      <td>2</td>\n",
       "      <td>Rain</td>\n",
       "      <td>214</td>\n",
       "    </tr>\n",
       "    <tr>\n",
       "      <th>2</th>\n",
       "      <td>2014-1-3</td>\n",
       "      <td>11</td>\n",
       "      <td>8</td>\n",
       "      <td>6</td>\n",
       "      <td>9</td>\n",
       "      <td>5</td>\n",
       "      <td>2</td>\n",
       "      <td>94</td>\n",
       "      <td>76</td>\n",
       "      <td>54</td>\n",
       "      <td>...</td>\n",
       "      <td>31</td>\n",
       "      <td>12</td>\n",
       "      <td>0</td>\n",
       "      <td>50</td>\n",
       "      <td>29</td>\n",
       "      <td>69</td>\n",
       "      <td>7.11</td>\n",
       "      <td>2</td>\n",
       "      <td>Rain-Thunderstorm</td>\n",
       "      <td>219</td>\n",
       "    </tr>\n",
       "    <tr>\n",
       "      <th>3</th>\n",
       "      <td>2014-1-4</td>\n",
       "      <td>9</td>\n",
       "      <td>6</td>\n",
       "      <td>3</td>\n",
       "      <td>8</td>\n",
       "      <td>6</td>\n",
       "      <td>2</td>\n",
       "      <td>93</td>\n",
       "      <td>85</td>\n",
       "      <td>65</td>\n",
       "      <td>...</td>\n",
       "      <td>31</td>\n",
       "      <td>12</td>\n",
       "      <td>5</td>\n",
       "      <td>35</td>\n",
       "      <td>21</td>\n",
       "      <td>39</td>\n",
       "      <td>9.91</td>\n",
       "      <td>4</td>\n",
       "      <td>Rain</td>\n",
       "      <td>211</td>\n",
       "    </tr>\n",
       "    <tr>\n",
       "      <th>4</th>\n",
       "      <td>2014-1-5</td>\n",
       "      <td>12</td>\n",
       "      <td>7</td>\n",
       "      <td>1</td>\n",
       "      <td>11</td>\n",
       "      <td>4</td>\n",
       "      <td>-1</td>\n",
       "      <td>100</td>\n",
       "      <td>88</td>\n",
       "      <td>77</td>\n",
       "      <td>...</td>\n",
       "      <td>31</td>\n",
       "      <td>14</td>\n",
       "      <td>5</td>\n",
       "      <td>35</td>\n",
       "      <td>16</td>\n",
       "      <td></td>\n",
       "      <td>0.25</td>\n",
       "      <td>5</td>\n",
       "      <td>Rain</td>\n",
       "      <td>199</td>\n",
       "    </tr>\n",
       "    <tr>\n",
       "      <th>...</th>\n",
       "      <td>...</td>\n",
       "      <td>...</td>\n",
       "      <td>...</td>\n",
       "      <td>...</td>\n",
       "      <td>...</td>\n",
       "      <td>...</td>\n",
       "      <td>...</td>\n",
       "      <td>...</td>\n",
       "      <td>...</td>\n",
       "      <td>...</td>\n",
       "      <td>...</td>\n",
       "      <td>...</td>\n",
       "      <td>...</td>\n",
       "      <td>...</td>\n",
       "      <td>...</td>\n",
       "      <td>...</td>\n",
       "      <td>...</td>\n",
       "      <td>...</td>\n",
       "      <td>...</td>\n",
       "      <td>...</td>\n",
       "      <td>...</td>\n",
       "    </tr>\n",
       "    <tr>\n",
       "      <th>360</th>\n",
       "      <td>2014-12-27</td>\n",
       "      <td>4</td>\n",
       "      <td>3</td>\n",
       "      <td>2</td>\n",
       "      <td>8</td>\n",
       "      <td>1</td>\n",
       "      <td>-1</td>\n",
       "      <td>93</td>\n",
       "      <td>83</td>\n",
       "      <td>64</td>\n",
       "      <td>...</td>\n",
       "      <td>31</td>\n",
       "      <td>13</td>\n",
       "      <td>9</td>\n",
       "      <td>42</td>\n",
       "      <td>26</td>\n",
       "      <td>61</td>\n",
       "      <td>0.00</td>\n",
       "      <td>4</td>\n",
       "      <td>Rain</td>\n",
       "      <td>330</td>\n",
       "    </tr>\n",
       "    <tr>\n",
       "      <th>361</th>\n",
       "      <td>2014-12-28</td>\n",
       "      <td>6</td>\n",
       "      <td>2</td>\n",
       "      <td>-2</td>\n",
       "      <td>1</td>\n",
       "      <td>-2</td>\n",
       "      <td>-3</td>\n",
       "      <td>100</td>\n",
       "      <td>76</td>\n",
       "      <td>45</td>\n",
       "      <td>...</td>\n",
       "      <td>31</td>\n",
       "      <td>17</td>\n",
       "      <td>8</td>\n",
       "      <td>16</td>\n",
       "      <td>11</td>\n",
       "      <td></td>\n",
       "      <td>0.00</td>\n",
       "      <td>1</td>\n",
       "      <td></td>\n",
       "      <td>5</td>\n",
       "    </tr>\n",
       "    <tr>\n",
       "      <th>362</th>\n",
       "      <td>2014-12-29</td>\n",
       "      <td>6</td>\n",
       "      <td>1</td>\n",
       "      <td>-4</td>\n",
       "      <td>2</td>\n",
       "      <td>-1</td>\n",
       "      <td>-4</td>\n",
       "      <td>100</td>\n",
       "      <td>87</td>\n",
       "      <td>62</td>\n",
       "      <td>...</td>\n",
       "      <td>24</td>\n",
       "      <td>10</td>\n",
       "      <td>5</td>\n",
       "      <td>13</td>\n",
       "      <td>8</td>\n",
       "      <td></td>\n",
       "      <td>0.25</td>\n",
       "      <td>1</td>\n",
       "      <td></td>\n",
       "      <td>289</td>\n",
       "    </tr>\n",
       "    <tr>\n",
       "      <th>363</th>\n",
       "      <td>2014-12-30</td>\n",
       "      <td>6</td>\n",
       "      <td>1</td>\n",
       "      <td>-4</td>\n",
       "      <td>2</td>\n",
       "      <td>-1</td>\n",
       "      <td>-4</td>\n",
       "      <td>100</td>\n",
       "      <td>90</td>\n",
       "      <td>68</td>\n",
       "      <td>...</td>\n",
       "      <td>27</td>\n",
       "      <td>9</td>\n",
       "      <td>3</td>\n",
       "      <td>14</td>\n",
       "      <td>6</td>\n",
       "      <td></td>\n",
       "      <td>0.25</td>\n",
       "      <td>3</td>\n",
       "      <td></td>\n",
       "      <td>258</td>\n",
       "    </tr>\n",
       "    <tr>\n",
       "      <th>364</th>\n",
       "      <td>2014-12-31</td>\n",
       "      <td>8</td>\n",
       "      <td>2</td>\n",
       "      <td>-4</td>\n",
       "      <td>5</td>\n",
       "      <td>2</td>\n",
       "      <td>-4</td>\n",
       "      <td>100</td>\n",
       "      <td>89</td>\n",
       "      <td>70</td>\n",
       "      <td>...</td>\n",
       "      <td>19</td>\n",
       "      <td>9</td>\n",
       "      <td>0</td>\n",
       "      <td>23</td>\n",
       "      <td>8</td>\n",
       "      <td>37</td>\n",
       "      <td>0.25</td>\n",
       "      <td>4</td>\n",
       "      <td>Fog</td>\n",
       "      <td>201</td>\n",
       "    </tr>\n",
       "  </tbody>\n",
       "</table>\n",
       "<p>365 rows × 23 columns</p>\n",
       "</div>"
      ],
      "text/plain": [
       "            GMT  Max TemperatureC  Mean TemperatureC  Min TemperatureC  \\\n",
       "0      2014-1-1                11                  8                 6   \n",
       "1      2014-1-2                11                  9                 6   \n",
       "2      2014-1-3                11                  8                 6   \n",
       "3      2014-1-4                 9                  6                 3   \n",
       "4      2014-1-5                12                  7                 1   \n",
       "..          ...               ...                ...               ...   \n",
       "360  2014-12-27                 4                  3                 2   \n",
       "361  2014-12-28                 6                  2                -2   \n",
       "362  2014-12-29                 6                  1                -4   \n",
       "363  2014-12-30                 6                  1                -4   \n",
       "364  2014-12-31                 8                  2                -4   \n",
       "\n",
       "     Dew PointC  MeanDew PointC  Min DewpointC  Max Humidity  Mean Humidity  \\\n",
       "0             9               7              4            94             86   \n",
       "1             9               6              4            94             81   \n",
       "2             9               5              2            94             76   \n",
       "3             8               6              2            93             85   \n",
       "4            11               4             -1           100             88   \n",
       "..          ...             ...            ...           ...            ...   \n",
       "360           8               1             -1            93             83   \n",
       "361           1              -2             -3           100             76   \n",
       "362           2              -1             -4           100             87   \n",
       "363           2              -1             -4           100             90   \n",
       "364           5               2             -4           100             89   \n",
       "\n",
       "     Min Humidity  ...  Max VisibilityKm  Mean VisibilityKm  Min VisibilitykM  \\\n",
       "0              73  ...                31                 11                 2   \n",
       "1              60  ...                31                 15                 5   \n",
       "2              54  ...                31                 12                 0   \n",
       "3              65  ...                31                 12                 5   \n",
       "4              77  ...                31                 14                 5   \n",
       "..            ...  ...               ...                ...               ...   \n",
       "360            64  ...                31                 13                 9   \n",
       "361            45  ...                31                 17                 8   \n",
       "362            62  ...                24                 10                 5   \n",
       "363            68  ...                27                  9                 3   \n",
       "364            70  ...                19                  9                 0   \n",
       "\n",
       "     Max Wind SpeedKm/h  Mean Wind SpeedKm/h  Max Gust SpeedKm/h  \\\n",
       "0                    40                   26                  66   \n",
       "1                    32                   21                  50   \n",
       "2                    50                   29                  69   \n",
       "3                    35                   21                  39   \n",
       "4                    35                   16                       \n",
       "..                  ...                  ...                 ...   \n",
       "360                  42                   26                  61   \n",
       "361                  16                   11                       \n",
       "362                  13                    8                       \n",
       "363                  14                    6                       \n",
       "364                  23                    8                  37   \n",
       "\n",
       "     Precipitationmm  CloudCover             Events  WindDirDegrees  \n",
       "0               9.91           4               Rain             186  \n",
       "1               1.02           2               Rain             214  \n",
       "2               7.11           2  Rain-Thunderstorm             219  \n",
       "3               9.91           4               Rain             211  \n",
       "4               0.25           5               Rain             199  \n",
       "..               ...         ...                ...             ...  \n",
       "360             0.00           4               Rain             330  \n",
       "361             0.00           1                                  5  \n",
       "362             0.25           1                                289  \n",
       "363             0.25           3                                258  \n",
       "364             0.25           4                Fog             201  \n",
       "\n",
       "[365 rows x 23 columns]"
      ]
     },
     "execution_count": 93,
     "metadata": {},
     "output_type": "execute_result"
    }
   ],
   "source": [
    "london.fillna(\"\")"
   ]
  },
  {
   "cell_type": "markdown",
   "metadata": {
    "id": "v5dTPU6TBrlB"
   },
   "source": [
    "The second line above will now show an empty dataframe, because there are no longer missing values in the events column."
   ]
  },
  {
   "cell_type": "markdown",
   "metadata": {
    "id": "hESKxQPnBvdc"
   },
   "source": [
    "## Changing the data types of columns\n",
    "\n",
    "The function `read_csv()` may, for many reasons, wrongly interpret the data type of the values in a column, so when cleaning data it's important to check the data types of each column are what is expected, and if necessary change them.\n",
    "\n",
    "The data type of every column in a dataframe can be determined by looking at the dataframe's dtypes attribute, like this:\n"
   ]
  },
  {
   "cell_type": "code",
   "execution_count": 94,
   "metadata": {
    "executionInfo": {
     "elapsed": 2703968,
     "status": "aborted",
     "timestamp": 1608203957045,
     "user": {
      "displayName": "Ian Grant",
      "photoUrl": "",
      "userId": "14746146838898941070"
     },
     "user_tz": 0
    },
    "id": "bHOY9ppeB29P"
   },
   "outputs": [
    {
     "name": "stdout",
     "output_type": "stream",
     "text": [
      "GMT                            object\n",
      "Max TemperatureC                int64\n",
      "Mean TemperatureC               int64\n",
      "Min TemperatureC                int64\n",
      "Dew PointC                      int64\n",
      "MeanDew PointC                  int64\n",
      "Min DewpointC                   int64\n",
      "Max Humidity                    int64\n",
      "Mean Humidity                   int64\n",
      "Min Humidity                    int64\n",
      "Max Sea Level PressurehPa       int64\n",
      "Mean Sea Level PressurehPa      int64\n",
      "Min Sea Level PressurehPa       int64\n",
      "Max VisibilityKm                int64\n",
      "Mean VisibilityKm               int64\n",
      "Min VisibilitykM                int64\n",
      "Max Wind SpeedKm/h              int64\n",
      "Mean Wind SpeedKm/h             int64\n",
      "Max Gust SpeedKm/h            float64\n",
      "Precipitationmm               float64\n",
      "CloudCover                    float64\n",
      "Events                         object\n",
      "WindDirDegrees                 object\n",
      "dtype: object\n"
     ]
    }
   ],
   "source": [
    "print(london.dtypes)"
   ]
  },
  {
   "cell_type": "markdown",
   "metadata": {
    "id": "YrqmhDdAB1tm"
   },
   "source": [
    "You can see the column names to the left and to the right the data types of the values in those columns.\n",
    "\n",
    "  * `int64` is the pandas data type for whole numbers such as 55 or 2356\n",
    "\n",
    "  * `float64` is the pandas data type for decimal numbers such as 55.25 or 2356.00\n",
    "\n",
    "  * `object` is the pandas data type for strings such as \"hello world\" or \"rain\"\n",
    "\n",
    "Most of the column data types seem fine, however two are of concern, `GMT` and `WindDirDegrees`, both of which are of type object. Let's take a look at `WindDirDegrees` first.\n",
    "\n",
    "The `read_csv()` method has interpreted the values in the `WindDirDegrees` column as strings (type `object`). This is because in the CSV file the values in that column had all been suffixed with that html line break string `<br />` so `read_csv()` had no alternative but to interpret the values as strings.\n",
    "\n",
    "The values in the `WindDirDegrees` column are meant to represent wind direction in terms of degrees from true north (360) and meteorologists always define the wind direction as the direction the wind is coming from. So if you stand so that the wind is blowing directly into your face, the direction you are facing names the wind, so a westerly wind is reported as 270 degrees. \n",
    "\n",
    "The compass rose shown below should make this clearer:\n",
    "\n",
    "\n",
    "\n",
    "\n",
    "<div>\n",
    "<img src=\"data:image/png;base64,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\" width=\"350\"/>\n",
    "</div>\n",
    "\n",
    "\n"
   ]
  },
  {
   "cell_type": "markdown",
   "metadata": {
    "id": "lOazmNExHqEn"
   },
   "source": [
    "We need to be able to make queries such as *Get and display the rows where the wind direction is greater than 350 degrees.* \n",
    "\n",
    "To do this we need to change the data type of the `WindDirDegrees` column from `object` to type `int64`. We can do that by using the `astype()` method like this:\n"
   ]
  },
  {
   "cell_type": "code",
   "execution_count": 95,
   "metadata": {
    "executionInfo": {
     "elapsed": 2703961,
     "status": "aborted",
     "timestamp": 1608203957045,
     "user": {
      "displayName": "Ian Grant",
      "photoUrl": "",
      "userId": "14746146838898941070"
     },
     "user_tz": 0
    },
    "id": "FCWVB0TPDx7G"
   },
   "outputs": [],
   "source": [
    "london[\"WindDirDegrees\"] = london[\"WindDirDegrees\"].astype(\"int64\")"
   ]
  },
  {
   "cell_type": "markdown",
   "metadata": {
    "id": "hCmZYqTTIAWc"
   },
   "source": [
    "Now all the values in the `WindDirDegrees` column are of type `int64` and we can make our query:"
   ]
  },
  {
   "cell_type": "code",
   "execution_count": 96,
   "metadata": {
    "executionInfo": {
     "elapsed": 2703946,
     "status": "aborted",
     "timestamp": 1608203957046,
     "user": {
      "displayName": "Ian Grant",
      "photoUrl": "",
      "userId": "14746146838898941070"
     },
     "user_tz": 0
    },
    "id": "Wtw6EOdbH1UN"
   },
   "outputs": [
    {
     "data": {
      "text/html": [
       "<div>\n",
       "<style scoped>\n",
       "    .dataframe tbody tr th:only-of-type {\n",
       "        vertical-align: middle;\n",
       "    }\n",
       "\n",
       "    .dataframe tbody tr th {\n",
       "        vertical-align: top;\n",
       "    }\n",
       "\n",
       "    .dataframe thead th {\n",
       "        text-align: right;\n",
       "    }\n",
       "</style>\n",
       "<table border=\"1\" class=\"dataframe\">\n",
       "  <thead>\n",
       "    <tr style=\"text-align: right;\">\n",
       "      <th></th>\n",
       "      <th>GMT</th>\n",
       "      <th>Max TemperatureC</th>\n",
       "      <th>Mean TemperatureC</th>\n",
       "      <th>Min TemperatureC</th>\n",
       "      <th>Dew PointC</th>\n",
       "      <th>MeanDew PointC</th>\n",
       "      <th>Min DewpointC</th>\n",
       "      <th>Max Humidity</th>\n",
       "      <th>Mean Humidity</th>\n",
       "      <th>Min Humidity</th>\n",
       "      <th>...</th>\n",
       "      <th>Max VisibilityKm</th>\n",
       "      <th>Mean VisibilityKm</th>\n",
       "      <th>Min VisibilitykM</th>\n",
       "      <th>Max Wind SpeedKm/h</th>\n",
       "      <th>Mean Wind SpeedKm/h</th>\n",
       "      <th>Max Gust SpeedKm/h</th>\n",
       "      <th>Precipitationmm</th>\n",
       "      <th>CloudCover</th>\n",
       "      <th>Events</th>\n",
       "      <th>WindDirDegrees</th>\n",
       "    </tr>\n",
       "  </thead>\n",
       "  <tbody>\n",
       "    <tr>\n",
       "      <th>100</th>\n",
       "      <td>2014-4-11</td>\n",
       "      <td>16</td>\n",
       "      <td>12</td>\n",
       "      <td>9</td>\n",
       "      <td>5</td>\n",
       "      <td>4</td>\n",
       "      <td>2</td>\n",
       "      <td>71</td>\n",
       "      <td>53</td>\n",
       "      <td>28</td>\n",
       "      <td>...</td>\n",
       "      <td>31</td>\n",
       "      <td>18</td>\n",
       "      <td>10</td>\n",
       "      <td>13</td>\n",
       "      <td>8</td>\n",
       "      <td>NaN</td>\n",
       "      <td>0.00</td>\n",
       "      <td>1.0</td>\n",
       "      <td>NaN</td>\n",
       "      <td>351</td>\n",
       "    </tr>\n",
       "    <tr>\n",
       "      <th>110</th>\n",
       "      <td>2014-4-21</td>\n",
       "      <td>19</td>\n",
       "      <td>12</td>\n",
       "      <td>5</td>\n",
       "      <td>11</td>\n",
       "      <td>8</td>\n",
       "      <td>4</td>\n",
       "      <td>100</td>\n",
       "      <td>78</td>\n",
       "      <td>31</td>\n",
       "      <td>...</td>\n",
       "      <td>26</td>\n",
       "      <td>7</td>\n",
       "      <td>0</td>\n",
       "      <td>14</td>\n",
       "      <td>6</td>\n",
       "      <td>NaN</td>\n",
       "      <td>9.91</td>\n",
       "      <td>3.0</td>\n",
       "      <td>Fog-Rain-Thunderstorm</td>\n",
       "      <td>356</td>\n",
       "    </tr>\n",
       "    <tr>\n",
       "      <th>249</th>\n",
       "      <td>2014-9-7</td>\n",
       "      <td>21</td>\n",
       "      <td>17</td>\n",
       "      <td>13</td>\n",
       "      <td>14</td>\n",
       "      <td>12</td>\n",
       "      <td>8</td>\n",
       "      <td>94</td>\n",
       "      <td>71</td>\n",
       "      <td>41</td>\n",
       "      <td>...</td>\n",
       "      <td>23</td>\n",
       "      <td>10</td>\n",
       "      <td>2</td>\n",
       "      <td>11</td>\n",
       "      <td>6</td>\n",
       "      <td>NaN</td>\n",
       "      <td>0.00</td>\n",
       "      <td>4.0</td>\n",
       "      <td>NaN</td>\n",
       "      <td>354</td>\n",
       "    </tr>\n",
       "    <tr>\n",
       "      <th>250</th>\n",
       "      <td>2014-9-8</td>\n",
       "      <td>22</td>\n",
       "      <td>16</td>\n",
       "      <td>10</td>\n",
       "      <td>13</td>\n",
       "      <td>9</td>\n",
       "      <td>7</td>\n",
       "      <td>94</td>\n",
       "      <td>64</td>\n",
       "      <td>28</td>\n",
       "      <td>...</td>\n",
       "      <td>27</td>\n",
       "      <td>12</td>\n",
       "      <td>5</td>\n",
       "      <td>11</td>\n",
       "      <td>6</td>\n",
       "      <td>NaN</td>\n",
       "      <td>0.00</td>\n",
       "      <td>1.0</td>\n",
       "      <td>NaN</td>\n",
       "      <td>351</td>\n",
       "    </tr>\n",
       "    <tr>\n",
       "      <th>335</th>\n",
       "      <td>2014-12-2</td>\n",
       "      <td>8</td>\n",
       "      <td>7</td>\n",
       "      <td>6</td>\n",
       "      <td>7</td>\n",
       "      <td>4</td>\n",
       "      <td>2</td>\n",
       "      <td>100</td>\n",
       "      <td>80</td>\n",
       "      <td>62</td>\n",
       "      <td>...</td>\n",
       "      <td>31</td>\n",
       "      <td>11</td>\n",
       "      <td>1</td>\n",
       "      <td>27</td>\n",
       "      <td>13</td>\n",
       "      <td>NaN</td>\n",
       "      <td>1.02</td>\n",
       "      <td>5.0</td>\n",
       "      <td>Rain</td>\n",
       "      <td>359</td>\n",
       "    </tr>\n",
       "  </tbody>\n",
       "</table>\n",
       "<p>5 rows × 23 columns</p>\n",
       "</div>"
      ],
      "text/plain": [
       "           GMT  Max TemperatureC  Mean TemperatureC  Min TemperatureC  \\\n",
       "100  2014-4-11                16                 12                 9   \n",
       "110  2014-4-21                19                 12                 5   \n",
       "249   2014-9-7                21                 17                13   \n",
       "250   2014-9-8                22                 16                10   \n",
       "335  2014-12-2                 8                  7                 6   \n",
       "\n",
       "     Dew PointC  MeanDew PointC  Min DewpointC  Max Humidity  Mean Humidity  \\\n",
       "100           5               4              2            71             53   \n",
       "110          11               8              4           100             78   \n",
       "249          14              12              8            94             71   \n",
       "250          13               9              7            94             64   \n",
       "335           7               4              2           100             80   \n",
       "\n",
       "     Min Humidity  ...  Max VisibilityKm  Mean VisibilityKm  Min VisibilitykM  \\\n",
       "100            28  ...                31                 18                10   \n",
       "110            31  ...                26                  7                 0   \n",
       "249            41  ...                23                 10                 2   \n",
       "250            28  ...                27                 12                 5   \n",
       "335            62  ...                31                 11                 1   \n",
       "\n",
       "     Max Wind SpeedKm/h  Mean Wind SpeedKm/h  Max Gust SpeedKm/h  \\\n",
       "100                  13                    8                 NaN   \n",
       "110                  14                    6                 NaN   \n",
       "249                  11                    6                 NaN   \n",
       "250                  11                    6                 NaN   \n",
       "335                  27                   13                 NaN   \n",
       "\n",
       "     Precipitationmm  CloudCover                 Events  WindDirDegrees  \n",
       "100             0.00         1.0                    NaN             351  \n",
       "110             9.91         3.0  Fog-Rain-Thunderstorm             356  \n",
       "249             0.00         4.0                    NaN             354  \n",
       "250             0.00         1.0                    NaN             351  \n",
       "335             1.02         5.0                   Rain             359  \n",
       "\n",
       "[5 rows x 23 columns]"
      ]
     },
     "execution_count": 96,
     "metadata": {},
     "output_type": "execute_result"
    }
   ],
   "source": [
    "london[london[\"WindDirDegrees\"] > 350]"
   ]
  },
  {
   "cell_type": "markdown",
   "metadata": {
    "id": "y15HQrA4IMuu"
   },
   "source": [
    "Recall that I noted that the `GMT` column was of type object, the type pandas uses for strings.\n",
    "\n",
    "The `GMT` column is supposed to represent dates. It would be helpful for the date values not to be strings to make it possible to make queries of the data such as *Return the row where the date is 4 June 2014*.\n",
    "\n",
    "Pandas has a function called `to_datetime()` which can convert a column of object (string) values such as those in the `GMT` column into values of a proper date type called `datetime64`, just like this:\n"
   ]
  },
  {
   "cell_type": "code",
   "execution_count": 97,
   "metadata": {
    "executionInfo": {
     "elapsed": 2703939,
     "status": "aborted",
     "timestamp": 1608203957046,
     "user": {
      "displayName": "Ian Grant",
      "photoUrl": "",
      "userId": "14746146838898941070"
     },
     "user_tz": 0
    },
    "id": "ucX7WY1zILzM"
   },
   "outputs": [],
   "source": [
    "import datetime\n",
    "london[\"GMT\"] = to_datetime(london[\"GMT\"])"
   ]
  },
  {
   "cell_type": "markdown",
   "metadata": {
    "id": "sfhmslvaSISj"
   },
   "source": [
    "Check the datatypes again, and note what's happened to column GMT."
   ]
  },
  {
   "cell_type": "code",
   "execution_count": 98,
   "metadata": {
    "executionInfo": {
     "elapsed": 2703919,
     "status": "aborted",
     "timestamp": 1608203957047,
     "user": {
      "displayName": "Ian Grant",
      "photoUrl": "",
      "userId": "14746146838898941070"
     },
     "user_tz": 0
    },
    "id": "VnM7ipY5SGQn"
   },
   "outputs": [
    {
     "name": "stdout",
     "output_type": "stream",
     "text": [
      "GMT                           datetime64[ns]\n",
      "Max TemperatureC                       int64\n",
      "Mean TemperatureC                      int64\n",
      "Min TemperatureC                       int64\n",
      "Dew PointC                             int64\n",
      "MeanDew PointC                         int64\n",
      "Min DewpointC                          int64\n",
      "Max Humidity                           int64\n",
      "Mean Humidity                          int64\n",
      "Min Humidity                           int64\n",
      "Max Sea Level PressurehPa              int64\n",
      "Mean Sea Level PressurehPa             int64\n",
      "Min Sea Level PressurehPa              int64\n",
      "Max VisibilityKm                       int64\n",
      "Mean VisibilityKm                      int64\n",
      "Min VisibilitykM                       int64\n",
      "Max Wind SpeedKm/h                     int64\n",
      "Mean Wind SpeedKm/h                    int64\n",
      "Max Gust SpeedKm/h                   float64\n",
      "Precipitationmm                      float64\n",
      "CloudCover                           float64\n",
      "Events                                object\n",
      "WindDirDegrees                         int64\n",
      "dtype: object\n"
     ]
    }
   ],
   "source": [
    "print(london.dtypes)"
   ]
  },
  {
   "cell_type": "markdown",
   "metadata": {
    "id": "YluE_ouVKpKz"
   },
   "source": [
    "To make queries such as *Return the row where the date is 4 June 2014* you\"ll need to be able to create a `datetime64` value to represent *June 4 2014*. \n",
    "\n",
    "It cannot be:\n",
    "\n",
    "`london[london[\"GMT\"] == \"2014-1-4\"]`\n",
    "\n",
    "because “2014-1-4” is a string and the values in the `GMT` column are of type `datetime64`. \n",
    "Instead you must create a `datetime64` value using the `datetime()` function like this:\n",
    "\n",
    "`datetime(2014, 6, 4)`\n",
    "\n",
    "In the function call above, the first integer argument is the year, the second the month and the third the day.\n",
    "\n",
    "Let\"s try the function out by executing the code to *Return the row where the date is 4June 2014*:\n"
   ]
  },
  {
   "cell_type": "code",
   "execution_count": 99,
   "metadata": {
    "executionInfo": {
     "elapsed": 2703882,
     "status": "aborted",
     "timestamp": 1608203957047,
     "user": {
      "displayName": "Ian Grant",
      "photoUrl": "",
      "userId": "14746146838898941070"
     },
     "user_tz": 0
    },
    "id": "u6Cp_yQOLKE3"
   },
   "outputs": [
    {
     "data": {
      "text/html": [
       "<div>\n",
       "<style scoped>\n",
       "    .dataframe tbody tr th:only-of-type {\n",
       "        vertical-align: middle;\n",
       "    }\n",
       "\n",
       "    .dataframe tbody tr th {\n",
       "        vertical-align: top;\n",
       "    }\n",
       "\n",
       "    .dataframe thead th {\n",
       "        text-align: right;\n",
       "    }\n",
       "</style>\n",
       "<table border=\"1\" class=\"dataframe\">\n",
       "  <thead>\n",
       "    <tr style=\"text-align: right;\">\n",
       "      <th></th>\n",
       "      <th>GMT</th>\n",
       "      <th>Max TemperatureC</th>\n",
       "      <th>Mean TemperatureC</th>\n",
       "      <th>Min TemperatureC</th>\n",
       "      <th>Dew PointC</th>\n",
       "      <th>MeanDew PointC</th>\n",
       "      <th>Min DewpointC</th>\n",
       "      <th>Max Humidity</th>\n",
       "      <th>Mean Humidity</th>\n",
       "      <th>Min Humidity</th>\n",
       "      <th>...</th>\n",
       "      <th>Max VisibilityKm</th>\n",
       "      <th>Mean VisibilityKm</th>\n",
       "      <th>Min VisibilitykM</th>\n",
       "      <th>Max Wind SpeedKm/h</th>\n",
       "      <th>Mean Wind SpeedKm/h</th>\n",
       "      <th>Max Gust SpeedKm/h</th>\n",
       "      <th>Precipitationmm</th>\n",
       "      <th>CloudCover</th>\n",
       "      <th>Events</th>\n",
       "      <th>WindDirDegrees</th>\n",
       "    </tr>\n",
       "  </thead>\n",
       "  <tbody>\n",
       "    <tr>\n",
       "      <th>154</th>\n",
       "      <td>2014-06-04</td>\n",
       "      <td>14</td>\n",
       "      <td>11</td>\n",
       "      <td>8</td>\n",
       "      <td>11</td>\n",
       "      <td>9</td>\n",
       "      <td>3</td>\n",
       "      <td>94</td>\n",
       "      <td>78</td>\n",
       "      <td>47</td>\n",
       "      <td>...</td>\n",
       "      <td>31</td>\n",
       "      <td>12</td>\n",
       "      <td>7</td>\n",
       "      <td>47</td>\n",
       "      <td>13</td>\n",
       "      <td>64.0</td>\n",
       "      <td>2.03</td>\n",
       "      <td>4.0</td>\n",
       "      <td>Rain-Thunderstorm</td>\n",
       "      <td>230</td>\n",
       "    </tr>\n",
       "  </tbody>\n",
       "</table>\n",
       "<p>1 rows × 23 columns</p>\n",
       "</div>"
      ],
      "text/plain": [
       "           GMT  Max TemperatureC  Mean TemperatureC  Min TemperatureC  \\\n",
       "154 2014-06-04                14                 11                 8   \n",
       "\n",
       "     Dew PointC  MeanDew PointC  Min DewpointC  Max Humidity  Mean Humidity  \\\n",
       "154          11               9              3            94             78   \n",
       "\n",
       "     Min Humidity  ...  Max VisibilityKm  Mean VisibilityKm  Min VisibilitykM  \\\n",
       "154            47  ...                31                 12                 7   \n",
       "\n",
       "     Max Wind SpeedKm/h  Mean Wind SpeedKm/h  Max Gust SpeedKm/h  \\\n",
       "154                  47                   13                64.0   \n",
       "\n",
       "     Precipitationmm  CloudCover             Events  WindDirDegrees  \n",
       "154             2.03         4.0  Rain-Thunderstorm             230  \n",
       "\n",
       "[1 rows x 23 columns]"
      ]
     },
     "execution_count": 99,
     "metadata": {},
     "output_type": "execute_result"
    }
   ],
   "source": [
    "london[london[\"GMT\"] == datetime.datetime(2014, 6, 4)]"
   ]
  },
  {
   "cell_type": "code",
   "execution_count": 101,
   "metadata": {
    "cellView": "form",
    "executionInfo": {
     "elapsed": 2703844,
     "status": "aborted",
     "timestamp": 1608203957048,
     "user": {
      "displayName": "Ian Grant",
      "photoUrl": "",
      "userId": "14746146838898941070"
     },
     "user_tz": 0
    },
    "id": "sD9-dB80o3cx"
   },
   "outputs": [
    {
     "data": {
      "text/html": [
       "<iframe width=\"560\" height=\"315\" src=\"https://www.youtube-nocookie.com/embed/q7Bo_J8x_dw\" frameborder=\"0\" allow=\"accelerometer; autoplay; clipboard-write; encrypted-media; gyroscope; picture-in-picture\" allowfullscreen></iframe>"
      ],
      "text/plain": [
       "<IPython.core.display.HTML object>"
      ]
     },
     "execution_count": 101,
     "metadata": {},
     "output_type": "execute_result"
    }
   ],
   "source": [
    "#@title\n",
    "from IPython.display import HTML, IFrame\n",
    "HTML('<iframe width=\"560\" height=\"315\" src=\"https://www.youtube-nocookie.com/embed/q7Bo_J8x_dw\" frameborder=\"0\" allow=\"accelerometer; autoplay; clipboard-write; encrypted-media; gyroscope; picture-in-picture\" allowfullscreen></iframe>')"
   ]
  },
  {
   "cell_type": "markdown",
   "metadata": {
    "id": "-1MTnY89pGg5"
   },
   "source": [
    "**Your Notes**\n"
   ]
  },
  {
   "cell_type": "markdown",
   "metadata": {
    "id": "TGQscqMEa9sd"
   },
   "source": [
    "# Worksheet 4"
   ]
  },
  {
   "cell_type": "markdown",
   "metadata": {
    "id": "hjDOXgN4bU71"
   },
   "source": [
    "## Question 1\n",
    "Write code to find all the rows in data where TB deaths exceed 10000."
   ]
  },
  {
   "cell_type": "code",
   "execution_count": null,
   "metadata": {
    "executionInfo": {
     "elapsed": 2703792,
     "status": "aborted",
     "timestamp": 1608203957048,
     "user": {
      "displayName": "Ian Grant",
      "photoUrl": "",
      "userId": "14746146838898941070"
     },
     "user_tz": 0
    },
    "id": "bt1JGbmObNOL"
   },
   "outputs": [],
   "source": []
  },
  {
   "cell_type": "markdown",
   "metadata": {
    "id": "GMoLIoc6bNON"
   },
   "source": [
    "## Question 2\n",
    "Write code to find all the countries where the Population (1000s) **is less than or equal to** 50000 or TB deaths **are greater than or equal** to 20000."
   ]
  },
  {
   "cell_type": "code",
   "execution_count": null,
   "metadata": {
    "executionInfo": {
     "elapsed": 2703786,
     "status": "aborted",
     "timestamp": 1608203957048,
     "user": {
      "displayName": "Ian Grant",
      "photoUrl": "",
      "userId": "14746146838898941070"
     },
     "user_tz": 0
    },
    "id": "RMxlCvJhbNOO"
   },
   "outputs": [],
   "source": []
  },
  {
   "cell_type": "markdown",
   "metadata": {
    "id": "qBD3MU4_bNOO"
   },
   "source": [
    "## Question 3\n",
    "\n",
    "From now on this worksheet uses the file “London_2014.xlsx. \n",
    "\n"
   ]
  },
  {
   "cell_type": "code",
   "execution_count": 102,
   "metadata": {
    "executionInfo": {
     "elapsed": 2703782,
     "status": "aborted",
     "timestamp": 1608203957049,
     "user": {
      "displayName": "Ian Grant",
      "photoUrl": "",
      "userId": "14746146838898941070"
     },
     "user_tz": 0
    },
    "id": "OhHSa_c9bNOO"
   },
   "outputs": [],
   "source": [
    "import pandas as pd\n",
    "import xlrd\n",
    "data = pd.read_excel(\"London_2014.xlsx\")"
   ]
  },
  {
   "cell_type": "markdown",
   "metadata": {
    "id": "OjTeQj1-VKFF"
   },
   "source": [
    "**Note:** read_excel() does not have an argument to `skipinitialspace` for Question 4. So upload (if you haven't already), a copy of `London_2014.csv`."
   ]
  },
  {
   "cell_type": "code",
   "execution_count": null,
   "metadata": {
    "executionInfo": {
     "elapsed": 2703779,
     "status": "aborted",
     "timestamp": 1608203957049,
     "user": {
      "displayName": "Ian Grant",
      "photoUrl": "",
      "userId": "14746146838898941070"
     },
     "user_tz": 0
    },
    "id": "rA9_05gjWp2C"
   },
   "outputs": [],
   "source": []
  },
  {
   "cell_type": "code",
   "execution_count": null,
   "metadata": {
    "executionInfo": {
     "elapsed": 2703776,
     "status": "aborted",
     "timestamp": 1608203957050,
     "user": {
      "displayName": "Ian Grant",
      "photoUrl": "",
      "userId": "14746146838898941070"
     },
     "user_tz": 0
    },
    "id": "xj7rtE0qU2RC"
   },
   "outputs": [],
   "source": [
    "data = pd.read_csv(\"London_2014.csv\") \n",
    "# this works if you uploaded it earlier in the workbook and the file is in your local storage"
   ]
  },
  {
   "cell_type": "markdown",
   "metadata": {
    "id": "PXKeRmwCbNOO"
   },
   "source": [
    "Write code to display the first five rows of the dataframe."
   ]
  },
  {
   "cell_type": "code",
   "execution_count": null,
   "metadata": {
    "executionInfo": {
     "elapsed": 2703772,
     "status": "aborted",
     "timestamp": 1608203957051,
     "user": {
      "displayName": "Ian Grant",
      "photoUrl": "",
      "userId": "14746146838898941070"
     },
     "user_tz": 0
    },
    "id": "KOz5uwMqbNOO"
   },
   "outputs": [],
   "source": []
  },
  {
   "cell_type": "markdown",
   "metadata": {
    "id": "DuERBa7BbNOP"
   },
   "source": [
    "## Question 4\n",
    "Write code to remove initial spaces. \n",
    "\n",
    "**Note:** read_excel() doesn't have the optional argument  `skipinitialspace=True`. You must use read_csv()"
   ]
  },
  {
   "cell_type": "code",
   "execution_count": 103,
   "metadata": {
    "executionInfo": {
     "elapsed": 2703762,
     "status": "aborted",
     "timestamp": 1608203957051,
     "user": {
      "displayName": "Ian Grant",
      "photoUrl": "",
      "userId": "14746146838898941070"
     },
     "user_tz": 0
    },
    "id": "K5U54-EEbNOQ"
   },
   "outputs": [],
   "source": [
    "london = pd.read_csv(\"London_2014.csv\", skipinitialspace=True)"
   ]
  },
  {
   "cell_type": "markdown",
   "metadata": {
    "id": "LQjpb0LvbNOQ"
   },
   "source": [
    "## Question 5\n",
    "\n",
    "Write code to remove the `<br />` characters from the WindDirDegrees column. Make sure you deal with the column name and values.\n"
   ]
  },
  {
   "cell_type": "code",
   "execution_count": null,
   "metadata": {
    "executionInfo": {
     "elapsed": 2703757,
     "status": "aborted",
     "timestamp": 1608203957051,
     "user": {
      "displayName": "Ian Grant",
      "photoUrl": "",
      "userId": "14746146838898941070"
     },
     "user_tz": 0
    },
    "id": "FE64dQUobNOQ"
   },
   "outputs": [],
   "source": []
  },
  {
   "cell_type": "markdown",
   "metadata": {
    "id": "m__7f2LpbNOQ"
   },
   "source": [
    "## Question 6\n",
    "\n",
    "Write code to deal with the missing values, the NaNs.\n"
   ]
  },
  {
   "cell_type": "code",
   "execution_count": null,
   "metadata": {
    "executionInfo": {
     "elapsed": 2703752,
     "status": "aborted",
     "timestamp": 1608203957052,
     "user": {
      "displayName": "Ian Grant",
      "photoUrl": "",
      "userId": "14746146838898941070"
     },
     "user_tz": 0
    },
    "id": "oK48YeY8bNOQ"
   },
   "outputs": [],
   "source": []
  },
  {
   "cell_type": "markdown",
   "metadata": {
    "id": "yWaQleDVbNOR"
   },
   "source": [
    "## Question 7\n",
    "\n",
    "Write code to deal with the data types where dates and numbers get mis-read as objects."
   ]
  },
  {
   "cell_type": "code",
   "execution_count": null,
   "metadata": {
    "executionInfo": {
     "elapsed": 2703748,
     "status": "aborted",
     "timestamp": 1608203957052,
     "user": {
      "displayName": "Ian Grant",
      "photoUrl": "",
      "userId": "14746146838898941070"
     },
     "user_tz": 0
    },
    "id": "1xREr3eRbNOR"
   },
   "outputs": [],
   "source": []
  },
  {
   "cell_type": "markdown",
   "metadata": {
    "id": "0mA8foyzbNOR"
   },
   "source": [
    "## Question 8\n",
    "\n",
    "Now that the wind direction is given by a number, write code to select all days that had a northerly wind. \n",
    "\n",
    "**Hint:** select the rows where the direction is greater than or equal to 350 or smaller than or equal to 10, as the compass rose shows.\n"
   ]
  },
  {
   "cell_type": "code",
   "execution_count": null,
   "metadata": {
    "executionInfo": {
     "elapsed": 2703742,
     "status": "aborted",
     "timestamp": 1608203957052,
     "user": {
      "displayName": "Ian Grant",
      "photoUrl": "",
      "userId": "14746146838898941070"
     },
     "user_tz": 0
    },
    "id": "nefiRcYFbNOR"
   },
   "outputs": [],
   "source": []
  },
  {
   "cell_type": "markdown",
   "metadata": {
    "id": "ZNTtImtQoAng"
   },
   "source": [
    "## Question 9\n",
    "\n",
    "Write code to get and display all the rows in the dataframe that are between 1 April 2014 and 11 April 2014.\n"
   ]
  },
  {
   "cell_type": "markdown",
   "metadata": {
    "id": "X-IljRMYoLYa"
   },
   "source": [
    "## Question 10\n",
    "\n",
    "Write two lines of code to display the first five rows that have a missing value in the 'Max Gust SpeedKm/h' column. Hint: first select the missing value rows and store them in a new dataframe, then display the first five rows of the new dataframe."
   ]
  },
  {
   "cell_type": "code",
   "execution_count": null,
   "metadata": {
    "executionInfo": {
     "elapsed": 2703738,
     "status": "aborted",
     "timestamp": 1608203957053,
     "user": {
      "displayName": "Ian Grant",
      "photoUrl": "",
      "userId": "14746146838898941070"
     },
     "user_tz": 0
    },
    "id": "Id-9uAHyoAni"
   },
   "outputs": [],
   "source": []
  },
  {
   "cell_type": "markdown",
   "metadata": {
    "id": "G4ZyA-f9oTIp"
   },
   "source": [
    "## Question 11\n",
    "\n",
    "Watch a selection of video tutorials on `matplotlib` and take notes.\n",
    "Matplotlib is at v3.7.1 at the time of writing.\n",
    "\n",
    "Head over to https://matplotlib.org/stable/index.html to see the latest tutorials.\n",
    "\n",
    "\n",
    "Real Python (excellent introduction): https://realpython.com/python-matplotlib-guide/\n",
    "\n",
    "These are a little old, but worth a look\n",
    "https://pythonprogramming.net/matplotlib-python-3-basics-tutorial/\n",
    "https://www.youtube.com/watch?v=q7Bo_J8x_dw\n"
   ]
  },
  {
   "cell_type": "code",
   "execution_count": null,
   "metadata": {
    "executionInfo": {
     "elapsed": 2703733,
     "status": "aborted",
     "timestamp": 1608203957053,
     "user": {
      "displayName": "Ian Grant",
      "photoUrl": "",
      "userId": "14746146838898941070"
     },
     "user_tz": 0
    },
    "id": "QTc0UUWOoSoo"
   },
   "outputs": [],
   "source": []
  },
  {
   "cell_type": "markdown",
   "metadata": {
    "id": "FVD-67TlxUEg"
   },
   "source": [
    "# 5 Every picture tells a story"
   ]
  },
  {
   "cell_type": "markdown",
   "metadata": {
    "id": "Db8eZn97Lc5Y"
   },
   "source": [
    "### Using matplotlib\n",
    "\n",
    "It can be difficult and confusing to look at a table of rows of numbers and make any meaningful interpretation especially if there are many rows and columns.\n",
    "\n",
    "Handily, pandas has a method called `plot()` which will visualise data for us by producing a chart.\n",
    "\n",
    "We have to import a new library.\n"
   ]
  },
  {
   "cell_type": "code",
   "execution_count": 104,
   "metadata": {
    "executionInfo": {
     "elapsed": 2703725,
     "status": "aborted",
     "timestamp": 1608203957054,
     "user": {
      "displayName": "Ian Grant",
      "photoUrl": "",
      "userId": "14746146838898941070"
     },
     "user_tz": 0
    },
    "id": "X4isQixZLoKf"
   },
   "outputs": [],
   "source": [
    "import matplotlib.pyplot as plt"
   ]
  },
  {
   "cell_type": "markdown",
   "metadata": {
    "id": "8eBfAOT4LpX2"
   },
   "source": [
    "<div>\n",
    "<img src=\"data:image/png;base64,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\" width=\"500\"/>\n",
    "</div>"
   ]
  },
  {
   "cell_type": "markdown",
   "metadata": {
    "id": "kGtd1mS1MmPq"
   },
   "source": [
    "## Matplotlib Examples"
   ]
  },
  {
   "cell_type": "markdown",
   "metadata": {
    "id": "cJ4efYGoNWao"
   },
   "source": [
    "\n",
    "### Matplotlib Example 1"
   ]
  },
  {
   "cell_type": "code",
   "execution_count": null,
   "metadata": {
    "executionInfo": {
     "elapsed": 2703691,
     "status": "aborted",
     "timestamp": 1608203957054,
     "user": {
      "displayName": "Ian Grant",
      "photoUrl": "",
      "userId": "14746146838898941070"
     },
     "user_tz": 0
    },
    "id": "yXr9bPhlM1p0"
   },
   "outputs": [],
   "source": [
    "london[\"Max Wind SpeedKm/h\"].plot()\n",
    "plt.show()\n"
   ]
  },
  {
   "cell_type": "markdown",
   "metadata": {
    "id": "5JyVvWvYM4QD"
   },
   "source": [
    "### Matplotlib Example 2"
   ]
  },
  {
   "cell_type": "code",
   "execution_count": null,
   "metadata": {
    "executionInfo": {
     "elapsed": 2703656,
     "status": "aborted",
     "timestamp": 1608203957055,
     "user": {
      "displayName": "Ian Grant",
      "photoUrl": "",
      "userId": "14746146838898941070"
     },
     "user_tz": 0
    },
    "id": "_7yOIFxEM5l-"
   },
   "outputs": [],
   "source": [
    "london[\"Max Wind SpeedKm/h\"].plot(grid=True, figsize=(10,5))\n",
    "plt.show()\n"
   ]
  },
  {
   "cell_type": "markdown",
   "metadata": {
    "id": "z7ZhaDgZNFOm"
   },
   "source": [
    "### Matplotlib Example 3"
   ]
  },
  {
   "cell_type": "code",
   "execution_count": null,
   "metadata": {
    "executionInfo": {
     "elapsed": 2703603,
     "status": "aborted",
     "timestamp": 1608203957055,
     "user": {
      "displayName": "Ian Grant",
      "photoUrl": "",
      "userId": "14746146838898941070"
     },
     "user_tz": 0
    },
    "id": "w6MY65T0NFOu"
   },
   "outputs": [],
   "source": [
    "london[[\"Max Wind SpeedKm/h\",\"Mean Wind SpeedKm/h\"]].plot(grid=True, figsize=(10,5))\n",
    "plt.show()\n"
   ]
  },
  {
   "cell_type": "markdown",
   "metadata": {
    "id": "IMjzvrlHvEsw"
   },
   "source": [
    "# Worksheet 5\n",
    "\n",
    "For this worksheet, you can use the code for the data cleaning from the previous worksheet.\n"
   ]
  },
  {
   "cell_type": "markdown",
   "metadata": {
    "id": "fINNCeoNvEsx"
   },
   "source": [
    "## Question 1\n",
    "Write code to plot a line graph of the minimum humidity of the data set."
   ]
  },
  {
   "cell_type": "code",
   "execution_count": null,
   "metadata": {
    "executionInfo": {
     "elapsed": 2703592,
     "status": "aborted",
     "timestamp": 1608203957056,
     "user": {
      "displayName": "Ian Grant",
      "photoUrl": "",
      "userId": "14746146838898941070"
     },
     "user_tz": 0
    },
    "id": "aPIC8xgYvEsx"
   },
   "outputs": [],
   "source": []
  },
  {
   "cell_type": "markdown",
   "metadata": {
    "id": "yALnLyrsvEsx"
   },
   "source": [
    "## Question 2\n",
    "Alter the graph of the above question so that the x-axis should be 15 units wide and the y-axis should be 5 units high."
   ]
  },
  {
   "cell_type": "code",
   "execution_count": null,
   "metadata": {
    "executionInfo": {
     "elapsed": 2703582,
     "status": "aborted",
     "timestamp": 1608203957056,
     "user": {
      "displayName": "Ian Grant",
      "photoUrl": "",
      "userId": "14746146838898941070"
     },
     "user_tz": 0
    },
    "id": "dE1t2mDgvEsy"
   },
   "outputs": [],
   "source": []
  },
  {
   "cell_type": "markdown",
   "metadata": {
    "id": "4QIrItxFvEsy"
   },
   "source": [
    "## Question 3\n",
    "\n",
    "Watch the video and then attempt the following activities.\n",
    "\n",
    "https://www.youtube.com/watch?v=aCULcv_IQYw\n",
    "\n",
    "Let me know if the age of the code doesn't work with your python.\n"
   ]
  },
  {
   "cell_type": "code",
   "execution_count": null,
   "metadata": {},
   "outputs": [],
   "source": []
  },
  {
   "cell_type": "code",
   "execution_count": 106,
   "metadata": {
    "cellView": "form",
    "executionInfo": {
     "elapsed": 2703542,
     "status": "aborted",
     "timestamp": 1608203957057,
     "user": {
      "displayName": "Ian Grant",
      "photoUrl": "",
      "userId": "14746146838898941070"
     },
     "user_tz": 0
    },
    "id": "BJXkPzmKvEsy"
   },
   "outputs": [
    {
     "name": "stderr",
     "output_type": "stream",
     "text": [
      "/Users/granian/opt/anaconda3/lib/python3.8/site-packages/IPython/core/display.py:717: UserWarning: Consider using IPython.display.IFrame instead\n",
      "  warnings.warn(\"Consider using IPython.display.IFrame instead\")\n"
     ]
    },
    {
     "data": {
      "text/html": [
       "<iframe width=\"560\" height=\"315\" src=\"https://www.youtube-nocookie.com/embed/aCULcv_IQYw\" frameborder=\"0\" allow=\"accelerometer; autoplay; clipboard-write; encrypted-media; gyroscope; picture-in-picture\" allowfullscreen></iframe>"
      ],
      "text/plain": [
       "<IPython.core.display.HTML object>"
      ]
     },
     "execution_count": 106,
     "metadata": {},
     "output_type": "execute_result"
    }
   ],
   "source": [
    "#@title\n",
    "from IPython.display import HTML, IFrame\n",
    "HTML('<iframe width=\"560\" height=\"315\" src=\"https://www.youtube-nocookie.com/embed/aCULcv_IQYw\" frameborder=\"0\" allow=\"accelerometer; autoplay; clipboard-write; encrypted-media; gyroscope; picture-in-picture\" allowfullscreen></iframe>')"
   ]
  },
  {
   "cell_type": "markdown",
   "metadata": {
    "id": "2339KZ9TvEsy"
   },
   "source": [
    "Alter the graph to add a title."
   ]
  },
  {
   "cell_type": "code",
   "execution_count": null,
   "metadata": {
    "executionInfo": {
     "elapsed": 2703536,
     "status": "aborted",
     "timestamp": 1608203957057,
     "user": {
      "displayName": "Ian Grant",
      "photoUrl": "",
      "userId": "14746146838898941070"
     },
     "user_tz": 0
    },
    "id": "WZ_J14FUvEsz"
   },
   "outputs": [],
   "source": []
  },
  {
   "cell_type": "markdown",
   "metadata": {
    "id": "Hd05Cc7Kwg8K"
   },
   "source": [
    "Alter the graph to add x-axis and y-axis labels."
   ]
  },
  {
   "cell_type": "code",
   "execution_count": null,
   "metadata": {
    "executionInfo": {
     "elapsed": 2703527,
     "status": "aborted",
     "timestamp": 1608203957058,
     "user": {
      "displayName": "Ian Grant",
      "photoUrl": "",
      "userId": "14746146838898941070"
     },
     "user_tz": 0
    },
    "id": "92ySM0pdwiUc"
   },
   "outputs": [],
   "source": []
  },
  {
   "cell_type": "markdown",
   "metadata": {
    "id": "mJhCCi2QvEsz"
   },
   "source": [
    "## Question 4\n",
    "Write code to plot a line graph of Max, Min and Mean Humidity of the dataset."
   ]
  },
  {
   "cell_type": "code",
   "execution_count": null,
   "metadata": {
    "executionInfo": {
     "elapsed": 2703519,
     "status": "aborted",
     "timestamp": 1608203957058,
     "user": {
      "displayName": "Ian Grant",
      "photoUrl": "",
      "userId": "14746146838898941070"
     },
     "user_tz": 0
    },
    "id": "LkLLsTJUvEsz"
   },
   "outputs": [],
   "source": []
  },
  {
   "cell_type": "markdown",
   "metadata": {
    "id": "HiLlXt1bvEs0"
   },
   "source": [
    "## Question 5\n",
    "\n",
    "Write code to plot a line graph of Max, Min and Mean Temperature, in Degrees Celsius, of the dataset.\n"
   ]
  },
  {
   "cell_type": "code",
   "execution_count": null,
   "metadata": {
    "executionInfo": {
     "elapsed": 2703513,
     "status": "aborted",
     "timestamp": 1608203957058,
     "user": {
      "displayName": "Ian Grant",
      "photoUrl": "",
      "userId": "14746146838898941070"
     },
     "user_tz": 0
    },
    "id": "led8_uaXvEs1"
   },
   "outputs": [],
   "source": []
  },
  {
   "cell_type": "markdown",
   "metadata": {
    "id": "QTGm3oHNvEs1"
   },
   "source": [
    "## Question 6\n",
    "\n",
    "Watch the below video."
   ]
  },
  {
   "cell_type": "code",
   "execution_count": 107,
   "metadata": {
    "cellView": "form",
    "executionInfo": {
     "elapsed": 2703468,
     "status": "aborted",
     "timestamp": 1608203957059,
     "user": {
      "displayName": "Ian Grant",
      "photoUrl": "",
      "userId": "14746146838898941070"
     },
     "user_tz": 0
    },
    "id": "XKxTFlQXvEs1"
   },
   "outputs": [
    {
     "data": {
      "text/html": [
       "<iframe width=\"560\" height=\"315\" src=\"https://www.youtube-nocookie.com/embed/ZyTO4SwhSeE\" frameborder=\"0\" allow=\"accelerometer; autoplay; clipboard-write; encrypted-media; gyroscope; picture-in-picture\" allowfullscreen></iframe>"
      ],
      "text/plain": [
       "<IPython.core.display.HTML object>"
      ]
     },
     "execution_count": 107,
     "metadata": {},
     "output_type": "execute_result"
    }
   ],
   "source": [
    "#@title\n",
    "from IPython.display import HTML, IFrame\n",
    "HTML('<iframe width=\"560\" height=\"315\" src=\"https://www.youtube-nocookie.com/embed/ZyTO4SwhSeE\" frameborder=\"0\" allow=\"accelerometer; autoplay; clipboard-write; encrypted-media; gyroscope; picture-in-picture\" allowfullscreen></iframe>')"
   ]
  },
  {
   "cell_type": "markdown",
   "metadata": {
    "id": "bl7VYLtry_R4"
   },
   "source": [
    "**Your Notes**\n"
   ]
  },
  {
   "cell_type": "markdown",
   "metadata": {
    "id": "tvFce-fOvEs1"
   },
   "source": [
    "## Question 7\n",
    "\n",
    "Watch the [video](https://www.youtube.com/watch?v=aS4WlOJQ4mQ) below and take notes.\n",
    "\n",
    "\n"
   ]
  },
  {
   "cell_type": "code",
   "execution_count": 108,
   "metadata": {
    "cellView": "form",
    "executionInfo": {
     "elapsed": 2703374,
     "status": "aborted",
     "timestamp": 1608203957059,
     "user": {
      "displayName": "Ian Grant",
      "photoUrl": "",
      "userId": "14746146838898941070"
     },
     "user_tz": 0
    },
    "id": "hQUrx8C4ytEU"
   },
   "outputs": [
    {
     "data": {
      "text/html": [
       "<iframe width=\"560\" height=\"315\" src=\"https://www.youtube-nocookie.com/embed/aS4WlOJQ4mQ\" frameborder=\"0\" allow=\"accelerometer; autoplay; clipboard-write; encrypted-media; gyroscope; picture-in-picture\" allowfullscreen></iframe>"
      ],
      "text/plain": [
       "<IPython.core.display.HTML object>"
      ]
     },
     "execution_count": 108,
     "metadata": {},
     "output_type": "execute_result"
    }
   ],
   "source": [
    "#@title\n",
    "from IPython.display import HTML\n",
    "HTML('<iframe width=\"560\" height=\"315\" src=\"https://www.youtube-nocookie.com/embed/aS4WlOJQ4mQ\" frameborder=\"0\" allow=\"accelerometer; autoplay; clipboard-write; encrypted-media; gyroscope; picture-in-picture\" allowfullscreen></iframe>')"
   ]
  },
  {
   "cell_type": "markdown",
   "metadata": {
    "id": "7rWz_gkhvEs3"
   },
   "source": [
    "**Your Notes**\n"
   ]
  },
  {
   "cell_type": "markdown",
   "metadata": {
    "id": "JrPRQfP7NhVt"
   },
   "source": [
    "# Changing a dataframe's index\n",
    "\n",
    "## Example 4\n",
    "\n",
    "Continuing with the london data from the last section. Do re-run any cells from above that require a refresh.\n",
    "\n",
    "We have seen that by default every dataframe has an integer index for its rows which starts from 0.\n",
    "\n",
    "The dataframe we\"ve been using, london, has an index that goes from 0 to 364. The row indexed by 0 holds data for the first day of the year and the row indexed by 364 holds data for the last day of the year. However, the column `GMT` holds `datetime64` values which would make a more intuitive index.\n",
    "\n",
    "Changing the index to `datetime64` values is as easy as assigning to the dataframe's index attribute the contents of the `GMT` column.\n"
   ]
  },
  {
   "cell_type": "code",
   "execution_count": null,
   "metadata": {
    "executionInfo": {
     "elapsed": 2703288,
     "status": "aborted",
     "timestamp": 1608203957060,
     "user": {
      "displayName": "Ian Grant",
      "photoUrl": "",
      "userId": "14746146838898941070"
     },
     "user_tz": 0
    },
    "id": "b9-fEEWpOaJh"
   },
   "outputs": [],
   "source": [
    "london.index = london[\"GMT\"]\n",
    "#Display the first 2 rows\n",
    "print(london.head(2))"
   ]
  },
  {
   "cell_type": "markdown",
   "metadata": {
    "id": "X2D76FATZyjJ"
   },
   "source": [
    "To reset a dataframe index, call the function `data.reset_index()`:"
   ]
  },
  {
   "cell_type": "code",
   "execution_count": null,
   "metadata": {
    "executionInfo": {
     "elapsed": 2703248,
     "status": "aborted",
     "timestamp": 1608203957061,
     "user": {
      "displayName": "Ian Grant",
      "photoUrl": "",
      "userId": "14746146838898941070"
     },
     "user_tz": 0
    },
    "id": "vtASAESjaGhW"
   },
   "outputs": [],
   "source": [
    "data.reset_index()\n"
   ]
  },
  {
   "cell_type": "markdown",
   "metadata": {
    "id": "XN8JhCfyO6F0"
   },
   "source": [
    "# Transforming and combining data"
   ]
  },
  {
   "cell_type": "markdown",
   "metadata": {
    "id": "nYI94Fr6OheT"
   },
   "source": [
    "In the first few sections of this course, you worked on a dataset that combined two different World Health Organization datasets: population and the number of deaths due to tuberculosis.\n",
    "\n",
    "They could be combined because they share a common attribute: the countries. In this section, you will learn the techniques behind the creation of such a combined dataset.\n",
    "\n",
    "# 6 Life Expectancy Project\n",
    "\n",
    "Richer countries can afford to spend more on healthcare and on road safety, for example, to reduce mortality. On the other hand, richer countries may have less healthy lifestyles.\n",
    "\n",
    "The World Bank provides loans and grants to governments of middle and low-income countries to help reduce poverty. As part of their work, the World Bank has put together hundreds of datasets on a range of issues, such as health, education, economy, energy and the effectiveness of aid in different countries.\n",
    "\n",
    "One dataset lists the gross domestic product (GDP) for each country, in United States dollars and cents; the other lists the life expectancy, in years, for each country. The disadvantage of using the GDP and the life expectancy values for the same year is that they do not account for the time it takes for a country\"s wealth to have an effect on lifestyle, healthcare and other factors influencing life expectancy.\n",
    "\n",
    "While it is useful to have all GDPs in a common currency to compare different countries, it doesn\"t make much sense to report the GDP of a whole country to a supposed precision of a US cent.\n",
    "\n",
    "In this section you will transform currency values and combine GDP and life expectancy data.\n",
    "\n",
    "Note that the combination is made simple by the common country names in the two datasets, but in general care has to be taken that the common attribute really means the same thing. For example, if you were combining two datasets on a common unemployment attribute, you must be sure that it was obtained in the same way as there are various ways of measuring unemployment.\n",
    "\n"
   ]
  },
  {
   "cell_type": "markdown",
   "metadata": {
    "id": "evYHMiWKPE-3"
   },
   "source": [
    "## Creating the data\n",
    "\n",
    "Small tables make it easier to see what is going on and to create specific data combination and transformation scenarios that test the code.\n",
    "\n",
    "There are many ways of creating tables in pandas. One of the simplest is to define the rows as a list, with the first element of the list being the first row, the second element being the second row, etc.\n",
    "\n",
    "Each row of a table has multiple cells, one for each column. The obvious way is to represent each row as a list too, the first element of the list being the cell in the first column, the second element corresponding to the second column, etc. To sum up, the table is represented as a list of lists."
   ]
  },
  {
   "cell_type": "markdown",
   "metadata": {
    "id": "xrnedEkUPHYv"
   },
   "source": [
    "## Practical to work through\n",
    "\n",
    "To create a dataframe, I use a pandas function appropriately called `DataFrame()`. I have to give it two arguments: the names of the columns and the data itself. The column names are given as a list of strings, the first string being the first column name, etc."
   ]
  },
  {
   "cell_type": "code",
   "execution_count": 109,
   "metadata": {
    "executionInfo": {
     "elapsed": 2703203,
     "status": "aborted",
     "timestamp": 1608203957061,
     "user": {
      "displayName": "Ian Grant",
      "photoUrl": "",
      "userId": "14746146838898941070"
     },
     "user_tz": 0
    },
    "id": "mYn4VvFnPKon"
   },
   "outputs": [
    {
     "name": "stdout",
     "output_type": "stream",
     "text": [
      "        Country     GDP (US$)\n",
      "0            UK  2.678455e+12\n",
      "1           USA  1.676810e+13\n",
      "2         China  9.240270e+12\n",
      "3        Brazil  2.245673e+12\n",
      "4  South Africa  3.660579e+11\n"
     ]
    }
   ],
   "source": [
    "from pandas import *\n",
    "\n",
    "table = [\n",
    "   [\"UK\", 2678454886796.7],    # 1st row\n",
    "   [\"USA\", 16768100000000.0],  # 2nd row\n",
    "   [\"China\", 9240270452047.0], # and so on...\n",
    "   [\"Brazil\", 2245673032353.8],\n",
    "   [\"South Africa\", 366057913367.1]\n",
    "]\n",
    "\n",
    "headings = [\"Country\", \"GDP (US$)\"]\n",
    "gdp = DataFrame(columns=headings, data=table)\n",
    "print(gdp)\n"
   ]
  },
  {
   "cell_type": "markdown",
   "metadata": {
    "id": "iCh053XPPW5o"
   },
   "source": [
    "Note that pandas shows large numbers in scientific notation, where, for example, `3e+12` means 3x10<sup>12</sup> or `3×1000000000000`, i.e. a 3 followed by 12 zeros.\n",
    "\n",
    "Define a similar table for the life expectancy, based on the 2013 World Bank data. \n",
    "\n",
    "To illustrate potential issues when combining multiple datasets, a different set of countries, with common countries in a different order have been used. Moreover, to illustrate a non-numeric conversion, there are abbreviated country names in one example but not the other.\n"
   ]
  },
  {
   "cell_type": "code",
   "execution_count": 110,
   "metadata": {
    "executionInfo": {
     "elapsed": 2703158,
     "status": "aborted",
     "timestamp": 1608203957062,
     "user": {
      "displayName": "Ian Grant",
      "photoUrl": "",
      "userId": "14746146838898941070"
     },
     "user_tz": 0
    },
    "id": "nltno6-ZQv2d"
   },
   "outputs": [
    {
     "name": "stdout",
     "output_type": "stream",
     "text": [
      "     Country name  Life expectancy (years)\n",
      "0           China                       75\n",
      "1          Russia                       71\n",
      "2   United States                       79\n",
      "3           India                       66\n",
      "4  United Kingdom                       81\n"
     ]
    }
   ],
   "source": [
    "headings = [\"Country name\", \"Life expectancy (years)\"]\n",
    "table = [\n",
    "   [\"China\", 75],\n",
    "   [\"Russia\", 71],  \n",
    "   [\"United States\", 79],\n",
    "   [\"India\", 66],\n",
    "   [\"United Kingdom\", 81]\n",
    "]\n",
    "life = DataFrame(columns=headings, data=table)\n",
    "print(life)\n"
   ]
  },
  {
   "cell_type": "markdown",
   "metadata": {
    "id": "woPM3L9lQ4wD"
   },
   "source": [
    "<a name=\"deffunctions\"></a>\n",
    "## Defining functions\n",
    "\n",
    "To make the GDP values easier to read, we need  to convert US dollars to millions of US dollars.\n",
    "\n",
    "Since the aim is to simplify the numbers and not introduce a false sense of precision, let’s round to the nearest million.\n",
    "\n",
    "We need  define our own function to do such a conversion. It’s a generic function that takes any number and rounds it to the nearest million. \n",
    "\n",
    "\n"
   ]
  },
  {
   "cell_type": "markdown",
   "metadata": {
    "id": "TBpP0OPDRAg2"
   },
   "source": [
    "###Practical to work through"
   ]
  },
  {
   "cell_type": "code",
   "execution_count": 115,
   "metadata": {
    "executionInfo": {
     "elapsed": 2703112,
     "status": "aborted",
     "timestamp": 1608203957062,
     "user": {
      "displayName": "Ian Grant",
      "photoUrl": "",
      "userId": "14746146838898941070"
     },
     "user_tz": 0
    },
    "id": "Rs5RTGQTQ4SH"
   },
   "outputs": [
    {
     "name": "stdout",
     "output_type": "stream",
     "text": [
      "5\n"
     ]
    }
   ],
   "source": [
    "def roundToMillions (value):\n",
    "\tresult = round(value / 1000000)\n",
    "\treturn result\n",
    "\n",
    "print(roundToMillions (5123123))\n"
   ]
  },
  {
   "cell_type": "markdown",
   "metadata": {
    "id": "FUOq0WcjRI0u"
   },
   "source": [
    "The answer should be 5.\n",
    "\n",
    "Now do it for the currency conversion.\n"
   ]
  },
  {
   "cell_type": "code",
   "execution_count": 116,
   "metadata": {
    "executionInfo": {
     "elapsed": 2703056,
     "status": "aborted",
     "timestamp": 1608203957063,
     "user": {
      "displayName": "Ian Grant",
      "photoUrl": "",
      "userId": "14746146838898941070"
     },
     "user_tz": 0
    },
    "id": "qXmMIC4VRMO0"
   },
   "outputs": [
    {
     "name": "stdout",
     "output_type": "stream",
     "text": [
      "639.0723736681732\n"
     ]
    }
   ],
   "source": [
    "def usdToGbp (usd):\n",
    "  return usd / 1.564768 # average rate during 2013 \n",
    "  \n",
    "print(usdToGbp(1000))\n"
   ]
  },
  {
   "cell_type": "markdown",
   "metadata": {
    "id": "Rg8iXQ9yRK3N"
   },
   "source": [
    "The answer should be 639.0723736681732."
   ]
  },
  {
   "cell_type": "markdown",
   "metadata": {
    "id": "SN1v60LpRllK"
   },
   "source": [
    "## What if...?\n",
    "\n",
    "The third conversion, from abbreviated country names to full names, can’t be written as a simple formula, because each abbreviation is expanded differently.\n",
    "\n",
    "What you need to do is the Python code equivalent of:\n",
    "\n",
    "if the name is ‘UK’, return ‘United Kingdom’,\n",
    "otherwise if the name is ‘USA’, return ‘United States’,\n",
    "otherwise return the name.\n",
    "\n",
    "The last part basically says that if the name is none of the known abbreviations, return it unchanged. Translating the English sentence to Python is straightforward.\n",
    "\n"
   ]
  },
  {
   "cell_type": "markdown",
   "metadata": {
    "id": "ajcV7SuRRqiV"
   },
   "source": [
    "### Practical to work through"
   ]
  },
  {
   "cell_type": "code",
   "execution_count": 117,
   "metadata": {
    "executionInfo": {
     "elapsed": 2703011,
     "status": "aborted",
     "timestamp": 1608203957063,
     "user": {
      "displayName": "Ian Grant",
      "photoUrl": "",
      "userId": "14746146838898941070"
     },
     "user_tz": 0
    },
    "id": "erDPsb9uRvjB"
   },
   "outputs": [
    {
     "name": "stdout",
     "output_type": "stream",
     "text": [
      "India\n",
      "United Kingdom\n",
      "United States\n"
     ]
    }
   ],
   "source": [
    "def expandCountry (name):\n",
    "\tif name == \"UK\":    # if the name is \"UK\"\n",
    "\t\treturn \"United Kingdom\"\n",
    "\telif name == \"USA\": # otherwise if the name is \"USA\"\n",
    "\t\treturn \"United States\"\n",
    "\telse:               # otherwise\n",
    "\t\treturn name\n",
    "\n",
    "print(expandCountry(\"India\") )\n",
    "print(expandCountry(\"UK\") )\n",
    "print(expandCountry(\"USA\") )\n"
   ]
  },
  {
   "cell_type": "markdown",
   "metadata": {
    "id": "DOZxor64zCsc"
   },
   "source": [
    "# Worksheet 6"
   ]
  },
  {
   "cell_type": "markdown",
   "metadata": {
    "id": "FdXLi16yzNWe"
   },
   "source": [
    "## Question 1\n",
    "\n",
    "Create a dataframe with all five BRICS countries and their population, in thousands of inhabitants, in 2013. The values are: Brazil 200362, Russian Federation 142834, India 1252140, China 1393337, South Africa 52776."
   ]
  },
  {
   "cell_type": "code",
   "execution_count": null,
   "metadata": {
    "executionInfo": {
     "elapsed": 2703006,
     "status": "aborted",
     "timestamp": 1608203957064,
     "user": {
      "displayName": "Ian Grant",
      "photoUrl": "",
      "userId": "14746146838898941070"
     },
     "user_tz": 0
    },
    "id": "gkuqKfzPzaiV"
   },
   "outputs": [],
   "source": []
  },
  {
   "cell_type": "markdown",
   "metadata": {
    "id": "QBaHJM1WzcbY"
   },
   "source": [
    "## Question 2\n",
    "\n",
    "Write a function to convert US dollars to Euros in 2013."
   ]
  },
  {
   "cell_type": "code",
   "execution_count": null,
   "metadata": {
    "executionInfo": {
     "elapsed": 2703001,
     "status": "aborted",
     "timestamp": 1608203957064,
     "user": {
      "displayName": "Ian Grant",
      "photoUrl": "",
      "userId": "14746146838898941070"
     },
     "user_tz": 0
    },
    "id": "yM-b6lLSzcbY"
   },
   "outputs": [],
   "source": []
  },
  {
   "cell_type": "markdown",
   "metadata": {
    "id": "wzqRca2lzcu4"
   },
   "source": [
    "## Question 3\n",
    "\n",
    "(a) Why can't you use roundToMillions() to round the population to millions of inhabitants?\n"
   ]
  },
  {
   "cell_type": "markdown",
   "metadata": {
    "id": "ftszLyWH3A6q"
   },
   "source": [
    "Write your answer here"
   ]
  },
  {
   "cell_type": "markdown",
   "metadata": {
    "id": "CPeykLTg29uc"
   },
   "source": [
    "(b) Write a new function and test it."
   ]
  },
  {
   "cell_type": "code",
   "execution_count": null,
   "metadata": {
    "executionInfo": {
     "elapsed": 2702995,
     "status": "aborted",
     "timestamp": 1608203957064,
     "user": {
      "displayName": "Ian Grant",
      "photoUrl": "",
      "userId": "14746146838898941070"
     },
     "user_tz": 0
    },
    "id": "nzoS7SWNzcu4"
   },
   "outputs": [],
   "source": []
  },
  {
   "cell_type": "markdown",
   "metadata": {
    "id": "mBsK8KVazdL8"
   },
   "source": [
    "## Question 4\n",
    "\n",
    "Write a function to translate some country names from their original language to English, e.g. 'Brasil' to 'Brazil', 'España' to 'Spain' and 'Deutschland' to 'Germany'."
   ]
  },
  {
   "cell_type": "code",
   "execution_count": null,
   "metadata": {
    "executionInfo": {
     "elapsed": 2702990,
     "status": "aborted",
     "timestamp": 1608203957065,
     "user": {
      "displayName": "Ian Grant",
      "photoUrl": "",
      "userId": "14746146838898941070"
     },
     "user_tz": 0
    },
    "id": "D0do2g5HzdL9"
   },
   "outputs": [],
   "source": []
  },
  {
   "cell_type": "markdown",
   "metadata": {
    "id": "pwSzIvSxzdou"
   },
   "source": [
    "## Question 5\n",
    "\n",
    "Can you think of a different way of expanding abbreviated country names? \n",
    "Hint: this is a course about data tables.\n"
   ]
  },
  {
   "cell_type": "code",
   "execution_count": null,
   "metadata": {
    "executionInfo": {
     "elapsed": 2702985,
     "status": "aborted",
     "timestamp": 1608203957066,
     "user": {
      "displayName": "Ian Grant",
      "photoUrl": "",
      "userId": "14746146838898941070"
     },
     "user_tz": 0
    },
    "id": "5hznPCnnzdou"
   },
   "outputs": [],
   "source": []
  },
  {
   "cell_type": "code",
   "execution_count": null,
   "metadata": {
    "executionInfo": {
     "elapsed": 2702976,
     "status": "aborted",
     "timestamp": 1608203957066,
     "user": {
      "displayName": "Ian Grant",
      "photoUrl": "",
      "userId": "14746146838898941070"
     },
     "user_tz": 0
    },
    "id": "t6pororjzeWQ"
   },
   "outputs": [],
   "source": []
  },
  {
   "cell_type": "markdown",
   "metadata": {
    "id": "rZXDqoR3zs_f"
   },
   "source": [
    "Write the differences here:\n"
   ]
  },
  {
   "cell_type": "markdown",
   "metadata": {
    "id": "eLKhp3xjSNXM"
   },
   "source": [
    "# Applying functions\n",
    "\n",
    "Having coded the three data conversion functions, they can be applied to the GDP table.\n",
    "\n",
    "For the next section you will need to correct dataframes you created in previous sections.\n",
    "\n",
    "## Practical to work through\n",
    "\n",
    "Select the relevant column and then use the column method `apply()`, which applies a given function to each cell in the column, returning a new column, in which each cell is the conversion of the corresponding original cell.\n"
   ]
  },
  {
   "cell_type": "code",
   "execution_count": 119,
   "metadata": {
    "executionInfo": {
     "elapsed": 2702972,
     "status": "aborted",
     "timestamp": 1608203957067,
     "user": {
      "displayName": "Ian Grant",
      "photoUrl": "",
      "userId": "14746146838898941070"
     },
     "user_tz": 0
    },
    "id": "s9bmFQmoScSe"
   },
   "outputs": [
    {
     "name": "stdout",
     "output_type": "stream",
     "text": [
      "0    United Kingdom\n",
      "1     United States\n",
      "2             China\n",
      "3            Brazil\n",
      "4      South Africa\n",
      "Name: Country, dtype: object\n"
     ]
    },
    {
     "data": {
      "text/plain": [
       "0    United Kingdom\n",
       "1     United States\n",
       "2             China\n",
       "3            Brazil\n",
       "4      South Africa\n",
       "Name: Country, dtype: object"
      ]
     },
     "execution_count": 119,
     "metadata": {},
     "output_type": "execute_result"
    }
   ],
   "source": [
    "column = gdp[\"Country\"]\n",
    "print(column.apply(expandCountry))\n"
   ]
  },
  {
   "cell_type": "markdown",
   "metadata": {
    "id": "R_Ei3e8HSf63"
   },
   "source": [
    "Finally, you can add that new column to the dataframe, using a new column heading."
   ]
  },
  {
   "cell_type": "code",
   "execution_count": 121,
   "metadata": {
    "executionInfo": {
     "elapsed": 2702967,
     "status": "aborted",
     "timestamp": 1608203957067,
     "user": {
      "displayName": "Ian Grant",
      "photoUrl": "",
      "userId": "14746146838898941070"
     },
     "user_tz": 0
    },
    "id": "gnh4DOK9SiQl"
   },
   "outputs": [
    {
     "name": "stdout",
     "output_type": "stream",
     "text": [
      "        Country     GDP (US$)    Country name\n",
      "0            UK  2.678455e+12  United Kingdom\n",
      "1           USA  1.676810e+13   United States\n",
      "2         China  9.240270e+12           China\n",
      "3        Brazil  2.245673e+12          Brazil\n",
      "4  South Africa  3.660579e+11    South Africa\n"
     ]
    }
   ],
   "source": [
    "column = gdp[\"Country\"]\n",
    "gdp[\"Country name\"] = column.apply(expandCountry)\n",
    "print(gdp)"
   ]
  },
  {
   "cell_type": "markdown",
   "metadata": {
    "id": "KuGpaFW5Sh1x"
   },
   "source": [
    "In a similar way, you can convert the US dollars to British pounds, then round to the nearest million, and store the result in a new column. You could apply the conversion and rounding functions in two separate statements, but using method chaining, you can apply both functions in a single line of code. This is possible because the column returned by the first call of `apply()` is the context for the second call of `apply()`. \n",
    "\n",
    "Here’s how it’s written:"
   ]
  },
  {
   "cell_type": "code",
   "execution_count": 122,
   "metadata": {
    "executionInfo": {
     "elapsed": 2702964,
     "status": "aborted",
     "timestamp": 1608203957068,
     "user": {
      "displayName": "Ian Grant",
      "photoUrl": "",
      "userId": "14746146838898941070"
     },
     "user_tz": 0
    },
    "id": "S9c8uiolS92R"
   },
   "outputs": [
    {
     "name": "stdout",
     "output_type": "stream",
     "text": [
      "        Country     GDP (US$)    Country name  GDP (£m)\n",
      "0            UK  2.678455e+12  United Kingdom   1711727\n",
      "1           USA  1.676810e+13   United States  10716029\n",
      "2         China  9.240270e+12           China   5905202\n",
      "3        Brazil  2.245673e+12          Brazil   1435148\n",
      "4  South Africa  3.660579e+11    South Africa    233937\n"
     ]
    }
   ],
   "source": [
    "column = gdp[\"GDP (US$)\"]\n",
    "result = column.apply(usdToGbp).apply(roundToMillions)\n",
    "gdp[\"GDP (£m)\"] = result\n",
    "print(gdp)"
   ]
  },
  {
   "cell_type": "markdown",
   "metadata": {
    "id": "ESOT4iunTCUG"
   },
   "source": [
    "Now it’s just a matter of selecting the two new columns, as the original ones are no longer needed."
   ]
  },
  {
   "cell_type": "code",
   "execution_count": 123,
   "metadata": {
    "executionInfo": {
     "elapsed": 2702958,
     "status": "aborted",
     "timestamp": 1608203957068,
     "user": {
      "displayName": "Ian Grant",
      "photoUrl": "",
      "userId": "14746146838898941070"
     },
     "user_tz": 0
    },
    "id": "XQ7PHIRrTHRR"
   },
   "outputs": [
    {
     "name": "stdout",
     "output_type": "stream",
     "text": [
      "     Country name  GDP (£m)\n",
      "0  United Kingdom   1711727\n",
      "1   United States  10716029\n",
      "2           China   5905202\n",
      "3          Brazil   1435148\n",
      "4    South Africa    233937\n"
     ]
    }
   ],
   "source": [
    "headings = [\"Country name\", \"GDP (£m)\"]\n",
    "gdp = gdp[headings]\n",
    "print(gdp)\n"
   ]
  },
  {
   "cell_type": "markdown",
   "metadata": {
    "id": "wzrOJV1-TYRl"
   },
   "source": [
    "## Joining left, right and centre\n",
    "\n",
    "In this section you are going to use the altered dataframes  called life and gdp.\n",
    "\n",
    "Both tables have a common column with a common name (‘Country name’). You can join the two tables on that common column, using the merge() function. Merging basically puts all columns of the two tables together, without duplicating the common column, and joins any rows that have the same value in the common column.\n",
    "\n",
    "There are four possible ways of joining, depending on which rows you want to include in the resulting table. If you want to include only those countries appearing in the GDP table, \n",
    "you call the merge() function like so:\n",
    "\n",
    "\n"
   ]
  },
  {
   "cell_type": "markdown",
   "metadata": {
    "id": "0wQcJbliTlJU"
   },
   "source": [
    "## Practical to work through"
   ]
  },
  {
   "cell_type": "code",
   "execution_count": null,
   "metadata": {
    "executionInfo": {
     "elapsed": 2702953,
     "status": "aborted",
     "timestamp": 1608203957068,
     "user": {
      "displayName": "Ian Grant",
      "photoUrl": "",
      "userId": "14746146838898941070"
     },
     "user_tz": 0
    },
    "id": "kZCzc_yRTrlZ"
   },
   "outputs": [],
   "source": [
    "print(merge(gdp, life, on=\"Country name\", how=\"left\"))"
   ]
  },
  {
   "cell_type": "markdown",
   "metadata": {
    "id": "n-0YUJ_tTybB"
   },
   "source": [
    "The first two arguments are the tables to be merged, with the first table being called the ‘left’ table and the second being the ‘right’ table. The on argument is the name of the common column, i.e. both tables must have a column with that name. The how argument states you want a **left join**, i.e. the resulting rows are dictated by the left (GDP) table. You can easily see that India and Russia, which appear only in the right (expectancy) table, don’t show up in the result. You can also see that Brazil and South Africa, which appear only in the left table, have an undefined life expectancy. (Note that ‘NaN’ stands for ‘not a number’.)\n",
    "\n",
    "A **right join** will instead take the rows from the right table, and add the columns of the left table. Therefore, countries not appearing in the left table will have undefined values for the left table’s columns:\n"
   ]
  },
  {
   "cell_type": "code",
   "execution_count": null,
   "metadata": {
    "executionInfo": {
     "elapsed": 2702950,
     "status": "aborted",
     "timestamp": 1608203957069,
     "user": {
      "displayName": "Ian Grant",
      "photoUrl": "",
      "userId": "14746146838898941070"
     },
     "user_tz": 0
    },
    "id": "rxHHjz_iUENH"
   },
   "outputs": [],
   "source": [
    "print(merge(gdp, life, on=\"Country name\", how=\"right\"))"
   ]
  },
  {
   "cell_type": "markdown",
   "metadata": {
    "id": "B4y4rJXeUHr5"
   },
   "source": [
    "The third possibility is an **outer join** which takes all countries, i.e. whether they are in the left or right table. The result has all the rows of the left and right joins:"
   ]
  },
  {
   "cell_type": "code",
   "execution_count": null,
   "metadata": {
    "executionInfo": {
     "elapsed": 2702945,
     "status": "aborted",
     "timestamp": 1608203957069,
     "user": {
      "displayName": "Ian Grant",
      "photoUrl": "",
      "userId": "14746146838898941070"
     },
     "user_tz": 0
    },
    "id": "XPyDNhBDUPfQ"
   },
   "outputs": [],
   "source": [
    "print(merge(gdp, life, on=\"Country name\", how=\"outer\"))"
   ]
  },
  {
   "cell_type": "markdown",
   "metadata": {
    "id": "mvlu7bsnUQQU"
   },
   "source": [
    "The last possibility is an **inner join** which takes only those countries common to both tables, i.e. for which I know the GDP and the life expectancy. That’s the join you want, to avoid any undefined values:"
   ]
  },
  {
   "cell_type": "code",
   "execution_count": null,
   "metadata": {
    "executionInfo": {
     "elapsed": 2702941,
     "status": "aborted",
     "timestamp": 1608203957070,
     "user": {
      "displayName": "Ian Grant",
      "photoUrl": "",
      "userId": "14746146838898941070"
     },
     "user_tz": 0
    },
    "id": "Ky899J8OUbsL"
   },
   "outputs": [],
   "source": [
    "gdpVsLife = merge(gdp, life, on=\"Country name\", how=\"inner\")\n",
    "print(gdpVsLife)"
   ]
  },
  {
   "cell_type": "markdown",
   "metadata": {
    "id": "Kel_-w_pUfbc"
   },
   "source": [
    "Now it’s just a matter of applying the data transformation and combination techniques seen so far to the real data from the World Bank."
   ]
  },
  {
   "cell_type": "markdown",
   "metadata": {
    "id": "IC_Bes0UU_dd"
   },
   "source": [
    "# Worksheet 6 (cont.)"
   ]
  },
  {
   "cell_type": "markdown",
   "metadata": {
    "id": "WjiOlg3yzeCd"
   },
   "source": [
    "## Question 6\n",
    "\n",
    "Take the dataframe you created for question 1, and apply to its population column the rounding function you wrote in question 3.\n"
   ]
  },
  {
   "cell_type": "code",
   "execution_count": null,
   "metadata": {
    "executionInfo": {
     "elapsed": 2702937,
     "status": "aborted",
     "timestamp": 1608203957070,
     "user": {
      "displayName": "Ian Grant",
      "photoUrl": "",
      "userId": "14746146838898941070"
     },
     "user_tz": 0
    },
    "id": "F1PjUU4fzeCe"
   },
   "outputs": [],
   "source": []
  },
  {
   "cell_type": "markdown",
   "metadata": {
    "id": "unNCctvRzeWP"
   },
   "source": [
    "## Question 7\n",
    "\n",
    "Join your population dataframe from question 6 with gdpVsLife, in four different ways, and note the differences.\n",
    "\n",
    "Code here:"
   ]
  },
  {
   "cell_type": "markdown",
   "metadata": {
    "id": "dbZ47S9qVG7j"
   },
   "source": [
    "# Constant variables\n",
    "\n",
    "You may have noticed that the same column names appear over and over in the code.\n",
    "\n",
    "```\n",
    "GDP_GBP = 'GDP (million GBP)'\n",
    "GDP_USD = 'GDP (US$)'\n",
    "COUNTRY = 'Country name'\n",
    "gdp[GDP_GBP] = gdp[GDP_USD].apply(usdToGbp)\n",
    "headings = [COUNTRY, GDP_GBP]\n",
    "gdp = gdp[headings]\n",
    "```\n",
    "\n",
    "Such variables are meant to be assigned once. They are called **constants**, because their value never changes. To help prevent such slip-ups the Python convention is to write names of constants in uppercase letters, with words separated by underscores.\n",
    "\n",
    "Using constants is not just a matter of laziness. There are various advantages. First, constants stand out in the code.\n",
    "\n",
    "Second, when making changes to the repeated values throughout the code, it’s easy to miss an occurrence. Using constants means the code is always consistent throughout.\n",
    "\n",
    "Third, the name of the constant can help clarify what the value means. For example, instead of using the number 1995 throughout the code, define a constant that makes clear whether it’s a year, the cubic centimetres of a car engine or something else.\n"
   ]
  },
  {
   "cell_type": "markdown",
   "metadata": {
    "id": "uOSVEOdNWE7N"
   },
   "source": [
    "# 7 Getting real\n",
    "\n",
    "Having tried out the data transformations and combination on small tables, you may feel confident about using the full data from the World Bank.\n",
    "\n",
    "Open a new browser window and go to the World Bank’s data page. Type ‘GDP’ (without the quote marks) in the ‘Find an indicator’ box in the centre of the page and select ‘GDP current US$’. Click ‘Go’. This will take you to the data page you looked at earlier. Look at the top of your browser window. You will notice the URL is http://data.worldbank.org/indicator/NY.GDP.MKTP.CD. Every World Bank indicator (in this case GDP in current dollars) has a unique name (in this case NY.GDP.MKTP.CD).\n",
    "\n",
    "Knowing the indicator name, it’s a doddle to get the data directly into a dataframe, by using the download() function of the wb (World Bank) module, instead of first downloading a CSV or Excel file and then loading it into a dataframe.\n"
   ]
  },
  {
   "cell_type": "markdown",
   "metadata": {
    "id": "vovT31d6WJcg"
   },
   "source": [
    "## Practical to work through"
   ]
  },
  {
   "cell_type": "code",
   "execution_count": 1,
   "metadata": {
    "executionInfo": {
     "elapsed": 2702932,
     "status": "aborted",
     "timestamp": 1608203957070,
     "user": {
      "displayName": "Ian Grant",
      "photoUrl": "",
      "userId": "14746146838898941070"
     },
     "user_tz": 0
    },
    "id": "5nDoAuPtWIjg"
   },
   "outputs": [
    {
     "name": "stdout",
     "output_type": "stream",
     "text": [
      "Requirement already satisfied: wbdata in /Users/granian/anaconda3/lib/python3.6/site-packages (0.3.0)\n",
      "Requirement already satisfied: tabulate>=0.8.5 in /Users/granian/anaconda3/lib/python3.6/site-packages (from wbdata) (0.8.10)\n",
      "Requirement already satisfied: appdirs<2.0,>=1.4 in /Users/granian/anaconda3/lib/python3.6/site-packages (from wbdata) (1.4.4)\n",
      "Requirement already satisfied: requests>=2.0 in /Users/granian/anaconda3/lib/python3.6/site-packages (from wbdata) (2.25.1)\n",
      "Requirement already satisfied: decorator>=4.0 in /Users/granian/anaconda3/lib/python3.6/site-packages (from wbdata) (4.4.2)\n",
      "Requirement already satisfied: idna<3,>=2.5 in /Users/granian/anaconda3/lib/python3.6/site-packages (from requests>=2.0->wbdata) (2.10)\n",
      "Requirement already satisfied: certifi>=2017.4.17 in /Users/granian/anaconda3/lib/python3.6/site-packages (from requests>=2.0->wbdata) (2021.5.30)\n",
      "Requirement already satisfied: chardet<5,>=3.0.2 in /Users/granian/anaconda3/lib/python3.6/site-packages (from requests>=2.0->wbdata) (4.0.0)\n",
      "Requirement already satisfied: urllib3<1.27,>=1.21.1 in /Users/granian/anaconda3/lib/python3.6/site-packages (from requests>=2.0->wbdata) (1.26.2)\n",
      "Requirement already satisfied: pandas-datareader in /Users/granian/anaconda3/lib/python3.6/site-packages (0.10.0)\n",
      "Requirement already satisfied: lxml in /Users/granian/anaconda3/lib/python3.6/site-packages (from pandas-datareader) (4.6.2)\n",
      "Requirement already satisfied: requests>=2.19.0 in /Users/granian/anaconda3/lib/python3.6/site-packages (from pandas-datareader) (2.25.1)\n",
      "Requirement already satisfied: pandas>=0.23 in /Users/granian/anaconda3/lib/python3.6/site-packages (from pandas-datareader) (1.1.5)\n",
      "Requirement already satisfied: python-dateutil>=2.7.3 in /Users/granian/anaconda3/lib/python3.6/site-packages (from pandas>=0.23->pandas-datareader) (2.8.1)\n",
      "Requirement already satisfied: pytz>=2017.2 in /Users/granian/anaconda3/lib/python3.6/site-packages (from pandas>=0.23->pandas-datareader) (2020.5)\n",
      "Requirement already satisfied: numpy>=1.15.4 in /Users/granian/anaconda3/lib/python3.6/site-packages (from pandas>=0.23->pandas-datareader) (1.19.2)\n",
      "Requirement already satisfied: certifi>=2017.4.17 in /Users/granian/anaconda3/lib/python3.6/site-packages (from requests>=2.19.0->pandas-datareader) (2021.5.30)\n",
      "Requirement already satisfied: urllib3<1.27,>=1.21.1 in /Users/granian/anaconda3/lib/python3.6/site-packages (from requests>=2.19.0->pandas-datareader) (1.26.2)\n",
      "Requirement already satisfied: chardet<5,>=3.0.2 in /Users/granian/anaconda3/lib/python3.6/site-packages (from requests>=2.19.0->pandas-datareader) (4.0.0)\n",
      "Requirement already satisfied: idna<3,>=2.5 in /Users/granian/anaconda3/lib/python3.6/site-packages (from requests>=2.19.0->pandas-datareader) (2.10)\n",
      "Requirement already satisfied: six>=1.5 in /Users/granian/anaconda3/lib/python3.6/site-packages (from python-dateutil>=2.7.3->pandas>=0.23->pandas-datareader) (1.15.0)\n"
     ]
    }
   ],
   "source": [
    "!pip install -U wbdata\n",
    "# below may not work - skip if it gives you an error.\n",
    "!pip install -U pandas-datareader "
   ]
  },
  {
   "cell_type": "code",
   "execution_count": 2,
   "metadata": {
    "executionInfo": {
     "elapsed": 2702896,
     "status": "aborted",
     "timestamp": 1608203957071,
     "user": {
      "displayName": "Ian Grant",
      "photoUrl": "",
      "userId": "14746146838898941070"
     },
     "user_tz": 0
    },
    "id": "YBjB8dciXGe9"
   },
   "outputs": [
    {
     "name": "stdout",
     "output_type": "stream",
     "text": [
      "                                     NY.GDP.MKTP.CD\n",
      "country                        year                \n",
      "Africa Eastern and Southern    2013    9.826771e+11\n",
      "Africa Western and Central     2013    8.322169e+11\n",
      "Arab World                     2013    2.843529e+12\n",
      "Caribbean small states         2013    7.523210e+10\n",
      "Central Europe and the Baltics 2013    1.416962e+12\n"
     ]
    }
   ],
   "source": [
    "from pandas import *\n",
    "# below may not work - skip if it gives you an error. I'll work on a fix\n",
    "# running this command in your conda shell might work\n",
    "# conda install -c anaconda pandas-datareader\n",
    "from pandas_datareader import  wb\n",
    "YEAR = 2013\n",
    "GDP_INDICATOR = \"NY.GDP.MKTP.CD\"\n",
    "data = wb.download(indicator=GDP_INDICATOR, country=\"all\", start=YEAR, end=YEAR)\n",
    "\n",
    "print(data.head())\n"
   ]
  },
  {
   "cell_type": "markdown",
   "metadata": {
    "id": "82TZ_W5rYpAR"
   },
   "source": [
    "This table definitely has an odd shape. The three columns don’t have their headings side by side, and the row numbering (0, 1, 2, etc) is missing. That’s because the first two ‘columns’ are in fact the dataframe index. You saw a similar table in Changing a dataframe’s index, when the index of the weather dataframe was set to be the `GMT` column, with values of type datetime64. There’s a dataframe method to do the inverse, i.e. to transform the row names into column values and thereby reinstate the default dataframe index."
   ]
  },
  {
   "cell_type": "code",
   "execution_count": 3,
   "metadata": {
    "executionInfo": {
     "elapsed": 2702858,
     "status": "aborted",
     "timestamp": 1608203957071,
     "user": {
      "displayName": "Ian Grant",
      "photoUrl": "",
      "userId": "14746146838898941070"
     },
     "user_tz": 0
    },
    "id": "R7-Y-R5BYuuM"
   },
   "outputs": [
    {
     "name": "stdout",
     "output_type": "stream",
     "text": [
      "                          country  year  NY.GDP.MKTP.CD\n",
      "0     Africa Eastern and Southern  2013    9.826771e+11\n",
      "1      Africa Western and Central  2013    8.322169e+11\n",
      "2                      Arab World  2013    2.843529e+12\n",
      "3          Caribbean small states  2013    7.523210e+10\n",
      "4  Central Europe and the Baltics  2013    1.416962e+12\n"
     ]
    }
   ],
   "source": [
    "gdp = data.reset_index()\n",
    "print(gdp.head())"
   ]
  },
  {
   "cell_type": "markdown",
   "metadata": {
    "id": "N8UbdeaaYtyj"
   },
   "source": [
    "Repeat the whole process for the life expectancy:\n",
    "\n",
    "* search for ‘life expectancy’ on the World Bank site\n",
    "* choose the ‘total’ dataset, which includes both female and male inhabitants\n",
    "* note down its indicator (SP.DYN.LE00.IN)\n",
    "* use it to get the data\n",
    "* reset the dataframe index.\n"
   ]
  },
  {
   "cell_type": "code",
   "execution_count": 4,
   "metadata": {
    "executionInfo": {
     "elapsed": 2702826,
     "status": "aborted",
     "timestamp": 1608203957072,
     "user": {
      "displayName": "Ian Grant",
      "photoUrl": "",
      "userId": "14746146838898941070"
     },
     "user_tz": 0
    },
    "id": "5KblhJRzY8Pg"
   },
   "outputs": [
    {
     "name": "stdout",
     "output_type": "stream",
     "text": [
      "                          country  year  SP.DYN.LE00.IN\n",
      "0     Africa Eastern and Southern  2013       60.709863\n",
      "1      Africa Western and Central  2013       55.673406\n",
      "2                      Arab World  2013       70.196514\n",
      "3          Caribbean small states  2013       72.720908\n",
      "4  Central Europe and the Baltics  2013       76.355163\n"
     ]
    }
   ],
   "source": [
    "LIFE_INDICATOR = \"SP.DYN.LE00.IN\"\n",
    "data = wb.download(indicator=LIFE_INDICATOR, country=\"all\", start=YEAR, end=YEAR)\n",
    "life = data.reset_index()\n",
    "print(life.head())"
   ]
  },
  {
   "cell_type": "markdown",
   "metadata": {
    "id": "o9eaSnwEZI2i"
   },
   "source": [
    "# Cleaning up\n",
    "\n",
    "You may have noticed that the initial rows are not about countries, but groups of countries. Such aggregated values need to be removed, because we’re only interested in individual countries.\n",
    "\n",
    "The expression `frame[m:n]`, with `n` an integer bigger than `m`, represents the ‘sub-table’ from row m to row n-1. In other words, it is a slice of frame with exactly n minus m rows. The expression is equivalent to the more convoluted expression `frame.head(m).tail(n-m)`.\n"
   ]
  },
  {
   "cell_type": "markdown",
   "metadata": {
    "id": "9tvRTEo0ZXVN"
   },
   "source": [
    "## Practical to work through"
   ]
  },
  {
   "cell_type": "code",
   "execution_count": 5,
   "metadata": {
    "executionInfo": {
     "elapsed": 2703056,
     "status": "aborted",
     "timestamp": 1608203957350,
     "user": {
      "displayName": "Ian Grant",
      "photoUrl": "",
      "userId": "14746146838898941070"
     },
     "user_tz": 0
    },
    "id": "ohvUbFoYZaZ4"
   },
   "outputs": [
    {
     "data": {
      "text/html": [
       "<div>\n",
       "<style scoped>\n",
       "    .dataframe tbody tr th:only-of-type {\n",
       "        vertical-align: middle;\n",
       "    }\n",
       "\n",
       "    .dataframe tbody tr th {\n",
       "        vertical-align: top;\n",
       "    }\n",
       "\n",
       "    .dataframe thead th {\n",
       "        text-align: right;\n",
       "    }\n",
       "</style>\n",
       "<table border=\"1\" class=\"dataframe\">\n",
       "  <thead>\n",
       "    <tr style=\"text-align: right;\">\n",
       "      <th></th>\n",
       "      <th>country</th>\n",
       "      <th>year</th>\n",
       "      <th>NY.GDP.MKTP.CD</th>\n",
       "    </tr>\n",
       "  </thead>\n",
       "  <tbody>\n",
       "    <tr>\n",
       "      <th>0</th>\n",
       "      <td>Africa Eastern and Southern</td>\n",
       "      <td>2013</td>\n",
       "      <td>9.826771e+11</td>\n",
       "    </tr>\n",
       "    <tr>\n",
       "      <th>1</th>\n",
       "      <td>Africa Western and Central</td>\n",
       "      <td>2013</td>\n",
       "      <td>8.322169e+11</td>\n",
       "    </tr>\n",
       "    <tr>\n",
       "      <th>2</th>\n",
       "      <td>Arab World</td>\n",
       "      <td>2013</td>\n",
       "      <td>2.843529e+12</td>\n",
       "    </tr>\n",
       "  </tbody>\n",
       "</table>\n",
       "</div>"
      ],
      "text/plain": [
       "                       country  year  NY.GDP.MKTP.CD\n",
       "0  Africa Eastern and Southern  2013    9.826771e+11\n",
       "1   Africa Western and Central  2013    8.322169e+11\n",
       "2                   Arab World  2013    2.843529e+12"
      ]
     },
     "execution_count": 5,
     "metadata": {},
     "output_type": "execute_result"
    }
   ],
   "source": [
    "gdp[0:3]"
   ]
  },
  {
   "cell_type": "markdown",
   "metadata": {
    "id": "khXC8ORfZnU5"
   },
   "source": [
    "To slice all rows from m onwards, you don’t have to count how many rows there are beforehand, just omit n."
   ]
  },
  {
   "cell_type": "code",
   "execution_count": 6,
   "metadata": {
    "executionInfo": {
     "elapsed": 2703003,
     "status": "aborted",
     "timestamp": 1608203957351,
     "user": {
      "displayName": "Ian Grant",
      "photoUrl": "",
      "userId": "14746146838898941070"
     },
     "user_tz": 0
    },
    "id": "68tucs0iZuJT"
   },
   "outputs": [
    {
     "name": "stdout",
     "output_type": "stream",
     "text": [
      "                      country  year  NY.GDP.MKTP.CD\n",
      "240                  Tanzania  2013    4.568053e+10\n",
      "241                  Thailand  2013    4.203332e+11\n",
      "242               Timor-Leste  2013    1.395520e+09\n",
      "243                      Togo  2013    4.321656e+09\n",
      "244                     Tonga  2013    4.506436e+08\n",
      "245       Trinidad and Tobago  2013    2.855745e+10\n",
      "246                   Tunisia  2013    4.868419e+10\n",
      "247                   Turkiye  2013    9.577830e+11\n",
      "248              Turkmenistan  2013    3.919754e+10\n",
      "249  Turks and Caicos Islands  2013    7.542380e+08\n",
      "250                    Tuvalu  2013    3.861749e+07\n",
      "251                    Uganda  2013    2.891579e+10\n",
      "252                   Ukraine  2013    1.904988e+11\n",
      "253      United Arab Emirates  2013    4.002185e+11\n",
      "254            United Kingdom  2013    2.786315e+12\n",
      "255             United States  2013    1.684319e+13\n",
      "256                   Uruguay  2013    5.753123e+10\n",
      "257                Uzbekistan  2013    7.318004e+10\n",
      "258                   Vanuatu  2013    7.583045e+08\n",
      "259             Venezuela, RB  2013    3.710054e+11\n",
      "260                   Vietnam  2013    2.137088e+11\n",
      "261     Virgin Islands (U.S.)  2013    3.738000e+09\n",
      "262        West Bank and Gaza  2013    1.351550e+10\n",
      "263               Yemen, Rep.  2013    4.041523e+10\n",
      "264                    Zambia  2013    2.803724e+10\n",
      "265                  Zimbabwe  2013    1.909102e+10\n"
     ]
    }
   ],
   "source": [
    "print(gdp[240:])"
   ]
  },
  {
   "cell_type": "markdown",
   "metadata": {
    "id": "pihjG5HWZtUa"
   },
   "source": [
    "By trying out `head(m)` for different values of m, I find that the list of individual countries starts in row number 47, with Afghanistan. Hence, I slice from row 47 onwards, and that’s my new dataframe."
   ]
  },
  {
   "cell_type": "code",
   "execution_count": 7,
   "metadata": {
    "executionInfo": {
     "elapsed": 2702959,
     "status": "aborted",
     "timestamp": 1608203957351,
     "user": {
      "displayName": "Ian Grant",
      "photoUrl": "",
      "userId": "14746146838898941070"
     },
     "user_tz": 0
    },
    "id": "AM8CLMsDZsuy"
   },
   "outputs": [
    {
     "name": "stdout",
     "output_type": "stream",
     "text": [
      "                country  year  NY.GDP.MKTP.CD\n",
      "47  Upper middle income  2013    2.030664e+13\n",
      "48                World  2013    7.760623e+13\n",
      "49          Afghanistan  2013    2.056449e+10\n",
      "50              Albania  2013    1.277622e+10\n",
      "51              Algeria  2013    2.097550e+11\n"
     ]
    }
   ],
   "source": [
    "gdp = gdp[47:]\n",
    "print(gdp.head())"
   ]
  },
  {
   "cell_type": "markdown",
   "metadata": {
    "id": "OObqFStbkWxK"
   },
   "source": [
    "Unsurprisingly, there is missing data, so I remove those rows, as shown in a previous section."
   ]
  },
  {
   "cell_type": "code",
   "execution_count": 8,
   "metadata": {
    "executionInfo": {
     "elapsed": 2702934,
     "status": "aborted",
     "timestamp": 1608203957352,
     "user": {
      "displayName": "Ian Grant",
      "photoUrl": "",
      "userId": "14746146838898941070"
     },
     "user_tz": 0
    },
    "id": "BlceKeu2km0g"
   },
   "outputs": [
    {
     "name": "stdout",
     "output_type": "stream",
     "text": [
      "                country  year  NY.GDP.MKTP.CD\n",
      "47  Upper middle income  2013    2.030664e+13\n",
      "48                World  2013    7.760623e+13\n",
      "49          Afghanistan  2013    2.056449e+10\n",
      "50              Albania  2013    1.277622e+10\n",
      "51              Algeria  2013    2.097550e+11\n"
     ]
    }
   ],
   "source": [
    "gdp = gdp.dropna()\n",
    "print(gdp.head())"
   ]
  },
  {
   "cell_type": "markdown",
   "metadata": {
    "id": "_ZWGtZlHkrff"
   },
   "source": [
    "Finally, you need to drop the irrelevant year column."
   ]
  },
  {
   "cell_type": "code",
   "execution_count": 9,
   "metadata": {
    "executionInfo": {
     "elapsed": 2702908,
     "status": "aborted",
     "timestamp": 1608203957352,
     "user": {
      "displayName": "Ian Grant",
      "photoUrl": "",
      "userId": "14746146838898941070"
     },
     "user_tz": 0
    },
    "id": "MQ_A4xWIkyOq"
   },
   "outputs": [
    {
     "name": "stdout",
     "output_type": "stream",
     "text": [
      "                country  NY.GDP.MKTP.CD\n",
      "47  Upper middle income    2.030664e+13\n",
      "48                World    7.760623e+13\n",
      "49          Afghanistan    2.056449e+10\n",
      "50              Albania    1.277622e+10\n",
      "51              Algeria    2.097550e+11\n"
     ]
    }
   ],
   "source": [
    "COUNTRY = \"country\"\n",
    "headings = [COUNTRY, GDP_INDICATOR]\n",
    "gdp = gdp[headings]\n",
    "print(gdp.head())"
   ]
  },
  {
   "cell_type": "markdown",
   "metadata": {
    "id": "ZnUjoCt2k2j1"
   },
   "source": [
    "And now I repeat the whole cleaning process for the life expectancy table."
   ]
  },
  {
   "cell_type": "code",
   "execution_count": 10,
   "metadata": {
    "executionInfo": {
     "elapsed": 2702880,
     "status": "aborted",
     "timestamp": 1608203957353,
     "user": {
      "displayName": "Ian Grant",
      "photoUrl": "",
      "userId": "14746146838898941070"
     },
     "user_tz": 0
    },
    "id": "sri7h3T0k3I6"
   },
   "outputs": [
    {
     "name": "stdout",
     "output_type": "stream",
     "text": [
      "                        country  SP.DYN.LE00.IN\n",
      "34                North America       79.041713\n",
      "36                 OECD members       79.669703\n",
      "37           Other small states       66.212040\n",
      "38  Pacific island small states       68.625774\n",
      "39    Post-demographic dividend       80.260215\n"
     ]
    }
   ],
   "source": [
    "headings = [COUNTRY, LIFE_INDICATOR]\n",
    "life = life[34:].dropna()[headings]\n",
    "print(life.head())"
   ]
  },
  {
   "cell_type": "markdown",
   "metadata": {
    "id": "wWmsDXQzk9Ku"
   },
   "source": [
    "Note how a single line of code can chain a row slice, a method call and a column slice, because each takes a dataframe and returns a dataframe."
   ]
  },
  {
   "cell_type": "markdown",
   "metadata": {
    "id": "5dm48s0ulEr7"
   },
   "source": [
    "#Joining and transforming\n",
    "\n",
    "With the little tables, you first transformed the columns and then joined the tables.\n",
    "\n",
    "As you may be starting to realise, there’s often more than one way to do it. Just for illustration, I’ll do the other way round for the big tables. Here are the tables, as a reminder. TODO Insert tables\n",
    "\n",
    "First, an inner join on the common column to combine rows where the common column value appears in both tables.\n"
   ]
  },
  {
   "cell_type": "markdown",
   "metadata": {
    "id": "ygF0TEpMlmg3"
   },
   "source": [
    "## Practical to work through"
   ]
  },
  {
   "cell_type": "code",
   "execution_count": null,
   "metadata": {
    "executionInfo": {
     "elapsed": 2702856,
     "status": "aborted",
     "timestamp": 1608203957354,
     "user": {
      "displayName": "Ian Grant",
      "photoUrl": "",
      "userId": "14746146838898941070"
     },
     "user_tz": 0
    },
    "id": "L6I9TYtNlpRW"
   },
   "outputs": [],
   "source": [
    "gdpVsLife = pd.merge(gdp, life, on=\"country\", how=\"inner\")\n",
    "print(gdpVsLife.head())"
   ]
  },
  {
   "cell_type": "markdown",
   "metadata": {
    "id": "CQPfyKJ2lwRt"
   },
   "source": [
    "Second, the dollars are converted to millions of pounds. We defined this and a couple of other function earlier in the workbook (see section [Defining Functions](#deffunctions).)"
   ]
  },
  {
   "cell_type": "code",
   "execution_count": null,
   "metadata": {
    "executionInfo": {
     "elapsed": 2702827,
     "status": "aborted",
     "timestamp": 1608203957354,
     "user": {
      "displayName": "Ian Grant",
      "photoUrl": "",
      "userId": "14746146838898941070"
     },
     "user_tz": 0
    },
    "id": "3S2GJWgCl3o8"
   },
   "outputs": [],
   "source": [
    "GDP = \"GDP (£m)\"\n",
    "column = gdpVsLife[GDP_INDICATOR]\n",
    "gdpVsLife[GDP] = column.apply(usdToGbp).apply(roundToMillions)\n",
    "print(gdpVsLife.head())"
   ]
  },
  {
   "cell_type": "markdown",
   "metadata": {
    "id": "cbRXj1ZKmAOL"
   },
   "source": [
    "Third, the life expectancy is rounded to the nearest integer, with a by now familiar function.\n"
   ]
  },
  {
   "cell_type": "code",
   "execution_count": null,
   "metadata": {
    "executionInfo": {
     "elapsed": 2702792,
     "status": "aborted",
     "timestamp": 1608203957355,
     "user": {
      "displayName": "Ian Grant",
      "photoUrl": "",
      "userId": "14746146838898941070"
     },
     "user_tz": 0
    },
    "id": "uLSJtw2DmBW6"
   },
   "outputs": [],
   "source": [
    "LIFE = \"Life expectancy (years)\"\n",
    "gdpVsLife[LIFE] = gdpVsLife[LIFE_INDICATOR].apply(round)\n",
    "print(gdpVsLife.head())"
   ]
  },
  {
   "cell_type": "markdown",
   "metadata": {
    "id": "xZvMBJlrmF-I"
   },
   "source": [
    "Lastly, the original columns are discarded."
   ]
  },
  {
   "cell_type": "code",
   "execution_count": null,
   "metadata": {
    "executionInfo": {
     "elapsed": 2702758,
     "status": "aborted",
     "timestamp": 1608203957355,
     "user": {
      "displayName": "Ian Grant",
      "photoUrl": "",
      "userId": "14746146838898941070"
     },
     "user_tz": 0
    },
    "id": "qm2aR3L9mLwK"
   },
   "outputs": [],
   "source": [
    "headings = [COUNTRY, GDP, LIFE]\n",
    "gdpVsLife = gdpVsLife[headings]\n",
    "print(gdpVsLife.head())"
   ]
  },
  {
   "cell_type": "markdown",
   "metadata": {
    "id": "FaEMjzaT0GkF"
   },
   "source": [
    "# Worksheet 7"
   ]
  },
  {
   "cell_type": "markdown",
   "metadata": {
    "id": "BZCa2TGm0GkG"
   },
   "source": [
    "## Question 1\n",
    "\n",
    "Find the World Bank indicator for the total population of each country. Write the code to download the data for 2013, and reset the dataframe index. Make the code generate the table.\n",
    "\n"
   ]
  },
  {
   "cell_type": "code",
   "execution_count": null,
   "metadata": {
    "executionInfo": {
     "elapsed": 2702755,
     "status": "aborted",
     "timestamp": 1608203957356,
     "user": {
      "displayName": "Ian Grant",
      "photoUrl": "",
      "userId": "14746146838898941070"
     },
     "user_tz": 0
    },
    "id": "22scq8_y0GkG"
   },
   "outputs": [],
   "source": []
  },
  {
   "cell_type": "markdown",
   "metadata": {
    "id": "OHq4_ND60GkG"
   },
   "source": [
    "## Question 2\n",
    "\n",
    "Write the code to clean the population data you downloaded in the previous question. Run the code to generate the table."
   ]
  },
  {
   "cell_type": "code",
   "execution_count": null,
   "metadata": {
    "executionInfo": {
     "elapsed": 2702751,
     "status": "aborted",
     "timestamp": 1608203957356,
     "user": {
      "displayName": "Ian Grant",
      "photoUrl": "",
      "userId": "14746146838898941070"
     },
     "user_tz": 0
    },
    "id": "z36Ac94z0GkG"
   },
   "outputs": [],
   "source": []
  },
  {
   "cell_type": "markdown",
   "metadata": {
    "id": "udfBOBUK0GkG"
   },
   "source": [
    "## Question 3\n",
    "\n",
    "Write the code to leave only the following column headings in the population data.\n",
    "\n",
    "*   `country`\n",
    "*   `SP.POP.TOTL`\n",
    "\n",
    "Run your code to generate the table.\n",
    "\n"
   ]
  },
  {
   "cell_type": "code",
   "execution_count": null,
   "metadata": {
    "executionInfo": {
     "elapsed": 2702736,
     "status": "aborted",
     "timestamp": 1608203957356,
     "user": {
      "displayName": "Ian Grant",
      "photoUrl": "",
      "userId": "14746146838898941070"
     },
     "user_tz": 0
    },
    "id": "aNSvWmvn0GkH"
   },
   "outputs": [],
   "source": []
  },
  {
   "cell_type": "markdown",
   "metadata": {
    "id": "9ZHcdN5v0GkH"
   },
   "source": [
    "## Question 4\n",
    "\n",
    "1. Merge `gdpVsLife` with the population dataframe obtained in the previous question.\n",
    "2. Round the population value to the nearest million.\n",
    "3. Remove the original population column.\n",
    "4. Run the code to generate the new table\n"
   ]
  },
  {
   "cell_type": "code",
   "execution_count": null,
   "metadata": {
    "executionInfo": {
     "elapsed": 2702710,
     "status": "aborted",
     "timestamp": 1608203957357,
     "user": {
      "displayName": "Ian Grant",
      "photoUrl": "",
      "userId": "14746146838898941070"
     },
     "user_tz": 0
    },
    "id": "GMaFMh4O0GkH"
   },
   "outputs": [],
   "source": []
  },
  {
   "cell_type": "markdown",
   "metadata": {
    "id": "TroNwrkN0GkH"
   },
   "source": [
    "## Question 5\n",
    "\n",
    "Write the code to leave only the following as column headings in the merged dataframe.\n",
    "\n",
    "1. `country`\n",
    "2. `GDP (£m)`\n",
    "3. `Life expectancy (years)`\n",
    "4. `Total population`\n",
    "5. Run the code to generate the new table\n"
   ]
  },
  {
   "cell_type": "code",
   "execution_count": null,
   "metadata": {
    "executionInfo": {
     "elapsed": 2702702,
     "status": "aborted",
     "timestamp": 1608203957357,
     "user": {
      "displayName": "Ian Grant",
      "photoUrl": "",
      "userId": "14746146838898941070"
     },
     "user_tz": 0
    },
    "id": "MW31OKxA0GkH"
   },
   "outputs": [],
   "source": []
  },
  {
   "cell_type": "markdown",
   "metadata": {
    "id": "qKXGASmjmPdA"
   },
   "source": [
    "# 8 Statistical Techniques\n",
    "## Correlation\n",
    "\n",
    "To see if life expectancy grows when the GDP increases I will use a statistical measure known as the Spearman rank correlation coefficient.\n",
    "\n",
    "It’s a number between -1 and 1 that describes how well two indicators correlate, in the following sense.\n",
    "\n",
    "*  value of 1 means that if I rank (sort) the data from smallest to largest value in one indicator, it will also be in ascending order according to the other indicator. In other words, if one indicator grows, so does the other.\n",
    "\n",
    "* A value of -1 means a perfect inverse rank relation: if I sort the data from smallest to largest according to one indicator, I will see it is sorted from largest to smallest in the other indicator. When one indicator goes up, the other goes down.\n",
    "\n",
    "* A value of 0 means there is no rank relation between the two indicators.\n",
    "\n",
    "\n",
    "A positive value smaller than 1 (or a negative value larger than -1) means there is some direct (or inverse) correlation, but it is not systematic across the whole dataset.\n",
    "\n",
    "The p-value indicates how significant the result is, in a particular technical sense. To say a correlation is statistically significant doesn’t necessarily mean it is important or strong in the real world, but only that there is reasonable statistical evidence that there is some kind of relationship. Typically, the obtained correlation coefficient is considered statistically significant if the p-value is below 0.05.\n",
    "\n",
    "The pandas module doesn’t calculate complex statistics. There are other modules for that. In particular, `scipy` (Scientific Python) has a stats module that provides the `spearmanr()` function. The function takes as arguments the two columns of data to correlate. Contrary to the functions you’ve seen so far, it returns two values instead of one: the correlation and the p-value. To store both values, simply use a pair of variables, written in parenthesis.\n",
    "\n",
    "\n",
    "\n"
   ]
  },
  {
   "cell_type": "markdown",
   "metadata": {
    "id": "D8Sa1Dq6nChv"
   },
   "source": [
    "## Practical to work through"
   ]
  },
  {
   "cell_type": "code",
   "execution_count": null,
   "metadata": {
    "executionInfo": {
     "elapsed": 2702648,
     "status": "aborted",
     "timestamp": 1608203957357,
     "user": {
      "displayName": "Ian Grant",
      "photoUrl": "",
      "userId": "14746146838898941070"
     },
     "user_tz": 0
    },
    "id": "HwT6o3xFlnEv"
   },
   "outputs": [],
   "source": [
    "from scipy.stats import spearmanr\n",
    "\n",
    "gdpColumn = gdpVsLife[GDP]\n",
    "lifeColumn = gdpVsLife[LIFE]\n",
    "(correlation, pValue) = spearmanr(gdpColumn, lifeColumn)\n",
    "print(\"The correlation is\", correlation)\n",
    "if pValue < 0.05:\n",
    "\tprint(\"It is statistically significant.\")\n",
    "else:\n",
    "\tprint(\"It is not statistically significant.\")"
   ]
  },
  {
   "cell_type": "markdown",
   "metadata": {
    "id": "iQT0EmN1m5wC"
   },
   "source": [
    "Although there is a statistically significant direct correlation (life expectancy grows as GDP grows), it isn’t strong.\n",
    "\n",
    "A perfect (direct or inverse) correlation doesn’t mean there is any cause-effect between the two indicators. A perfect direct correlation between life expectancy and GDP would only state that the higher the GDP, the higher the life expectancy. It would not state that the higher expectancy is due to the GDP. Correlation is not causation.\n"
   ]
  },
  {
   "cell_type": "markdown",
   "metadata": {
    "id": "pxIZcFTNoQbg"
   },
   "source": [
    "# Scatterplots\n",
    "\n",
    "Statistics can be misleading. A coefficient of zero only states there is no ranking relation between the indicators, but there might be some other relationship.\n",
    "\n",
    "In the next example, the correlation between x and y is zero, but they are clearly related (y is the square of x).\n",
    "\n"
   ]
  },
  {
   "cell_type": "markdown",
   "metadata": {
    "id": "bGCGqLpFodBi"
   },
   "source": [
    "## Practical to work through"
   ]
  },
  {
   "cell_type": "code",
   "execution_count": null,
   "metadata": {
    "executionInfo": {
     "elapsed": 2702595,
     "status": "aborted",
     "timestamp": 1608203957358,
     "user": {
      "displayName": "Ian Grant",
      "photoUrl": "",
      "userId": "14746146838898941070"
     },
     "user_tz": 0
    },
    "id": "cftrzXZKoh4h"
   },
   "outputs": [],
   "source": [
    "table = [ [-2,4], [-1,1], [0,0], [1,1], [2,4] ]\n",
    "data = DataFrame(columns=[\"x\", \"y\"], data=table)\n",
    "(correlation, pValue) = spearmanr(data[\"x\"], data[\"y\"])\n",
    "print('The correlation is', correlation)\n",
    "print(data)"
   ]
  },
  {
   "cell_type": "markdown",
   "metadata": {
    "id": "U9bgL9eAohYi"
   },
   "source": [
    "It’s therefore best to complement the quantitative analysis with a more qualitative view provided by a chart. In the case of correlations, scatterplots will do very nicely. Each country is a dot plotted at the x and y coordinates corresponding to the GDP and life expectancy values."
   ]
  },
  {
   "cell_type": "markdown",
   "metadata": {
    "id": "s3gpmClhowDb"
   },
   "source": [
    "## Practical to work through\n",
    "\n",
    "Use the code completed on page ... `TODO Locate this code!` But, if we have executed (run) the code cells the variables and data frames should be in memory.\n",
    "\n",
    "You need to have the matplotlib library imported.\n"
   ]
  },
  {
   "cell_type": "code",
   "execution_count": null,
   "metadata": {
    "executionInfo": {
     "elapsed": 2702591,
     "status": "aborted",
     "timestamp": 1608203957358,
     "user": {
      "displayName": "Ian Grant",
      "photoUrl": "",
      "userId": "14746146838898941070"
     },
     "user_tz": 0
    },
    "id": "kX2P66OPgpXZ"
   },
   "outputs": [],
   "source": [
    "import matplotlib.pyplot as plt"
   ]
  },
  {
   "cell_type": "code",
   "execution_count": null,
   "metadata": {
    "executionInfo": {
     "elapsed": 2702566,
     "status": "aborted",
     "timestamp": 1608203957358,
     "user": {
      "displayName": "Ian Grant",
      "photoUrl": "",
      "userId": "14746146838898941070"
     },
     "user_tz": 0
    },
    "id": "fcaDFaQQpVM0"
   },
   "outputs": [],
   "source": [
    "gdpVsLife.plot(x=GDP, y=LIFE, kind='scatter', grid=True)\n",
    "plt.show()\n"
   ]
  },
  {
   "cell_type": "markdown",
   "metadata": {
    "id": "ACP2GmLopaqt"
   },
   "source": [
    "This graph is not very useful. The GDP difference between the poorest and richest countries is so vast that the whole chart is squashed to fit all GDP values on the x-axis. It is best to use a **logarithmic scale**, where the axis values don’t increase by a constant interval (10, 20, 30, for example), but by a multiplicative factor (10, 100, 1000, 10000, etc.). The parameter logx has to be set to True to get a logarithmic scale on the x-axis. "
   ]
  },
  {
   "cell_type": "code",
   "execution_count": null,
   "metadata": {
    "executionInfo": {
     "elapsed": 2702538,
     "status": "aborted",
     "timestamp": 1608203957359,
     "user": {
      "displayName": "Ian Grant",
      "photoUrl": "",
      "userId": "14746146838898941070"
     },
     "user_tz": 0
    },
    "id": "kLsicd_Zph7f"
   },
   "outputs": [],
   "source": [
    "gdpVsLife.plot(x=GDP, y=LIFE, kind='scatter', grid=True, logx=True, figsize = (10, 4))\n",
    "plt.show()"
   ]
  },
  {
   "cell_type": "markdown",
   "metadata": {
    "id": "nvz0UYXXplpK"
   },
   "source": [
    "The major tick marks in the x-axis go from 10<sup>2</sup> (that’s a one followed by two zeros, hence 100) to 10<sup>8</sup> (that’s a one followed by eight zeros, hence 100,000,000) million pounds, with the minor ticks marking the numbers in between. For example, the eight minor ticks between 102 and 103 represent the values 200 (2 × 10<sup>2</sup>), 300 (3 × 10<sup>2</sup>), and so on until 900 (9 × 10<sup>2</sup>). As a further example, the country with the lowest life expectancy is on the second minor tick to the right of 10<sup>3</sup>, which means its GDP is about 3 × 10<sup>3</sup> (three thousand) million pounds.\n",
    "\n",
    "Countries with a GDP around 10 thousand (10<sup>4</sup>) millions of pounds have a wide range of life expectancies, from under 50 to over 80, but the range tends to shrink both for poorer and for richer countries. Countries with the lowest life expectancy are neither the poorest nor the richest, but those with highest expectancy are among the richer countries."
   ]
  },
  {
   "cell_type": "markdown",
   "metadata": {
    "id": "l6p6uijjz_x3"
   },
   "source": [
    "# Worksheet 8\n",
    "\n",
    "All this work follows on from Worksheet 7."
   ]
  },
  {
   "cell_type": "markdown",
   "metadata": {
    "id": "m4Ry7ZkQz_x_"
   },
   "source": [
    "## Question 1\n",
    "\n",
    "Write the code to calculate the correlation between GDP and population.\n",
    "\n",
    "Display the result."
   ]
  },
  {
   "cell_type": "code",
   "execution_count": null,
   "metadata": {
    "executionInfo": {
     "elapsed": 2702534,
     "status": "aborted",
     "timestamp": 1608203957359,
     "user": {
      "displayName": "Ian Grant",
      "photoUrl": "",
      "userId": "14746146838898941070"
     },
     "user_tz": 0
    },
    "id": "JMROloYBz_x_"
   },
   "outputs": [],
   "source": []
  },
  {
   "cell_type": "markdown",
   "metadata": {
    "id": "hxQQCXinz_x_"
   },
   "source": [
    "## Question 2\n",
    "\n",
    "Write the code to display the scatterplot of GDP and life expectancy. Show the GDP in the y axis and the life expectancy in the x axis.\n",
    "\n",
    "Display the result. "
   ]
  },
  {
   "cell_type": "code",
   "execution_count": null,
   "metadata": {
    "executionInfo": {
     "elapsed": 2702529,
     "status": "aborted",
     "timestamp": 1608203957360,
     "user": {
      "displayName": "Ian Grant",
      "photoUrl": "",
      "userId": "14746146838898941070"
     },
     "user_tz": 0
    },
    "id": "tNm3MBymz_x_"
   },
   "outputs": [],
   "source": []
  },
  {
   "cell_type": "markdown",
   "metadata": {
    "id": "rxD22biNz_x_"
   },
   "source": [
    "## Question 3\n",
    "\n",
    "Write the code to display a scatterplot of the GDP and the population.\n",
    "\n",
    "Display the result. "
   ]
  },
  {
   "cell_type": "markdown",
   "metadata": {
    "id": "LQAuzXZTxfBQ"
   },
   "source": [
    "# Conclusions\n",
    "\n",
    "Congratulations and well done for getting through this mammoth workbook. There are so many resources on pandas, matplotlib, scipy, numpy and the current fascination with computational data analysis and visualisation. You are just getting started.\n",
    "\n",
    "# Next Steps - A Project\n",
    "Please continue with your Data Science / Visualisation Project. The brief is on Google Classroom.\n",
    "\n",
    "Best Wishes \n",
    "\n",
    "Dr Grant and Mr George\n",
    "\n",
    "Credits: FutureLearn"
   ]
  }
 ],
 "metadata": {
  "colab": {
   "authorship_tag": "ABX9TyNmj6UI5umgv6RO0gin1VR+",
   "collapsed_sections": [
    "OD9x93jQlwM5",
    "kZaSmsdGA-eR",
    "hESKxQPnBvdc",
    "5JyVvWvYM4QD"
   ],
   "mount_file_id": "1zyaivpbi8F0bWUfmXRyKmdceFBwh_6LZ",
   "name": "Y12 Data Analysis.ipynb",
   "provenance": [],
   "toc_visible": true
  },
  "kernelspec": {
   "display_name": "Python 3",
   "language": "python",
   "name": "python3"
  },
  "language_info": {
   "codemirror_mode": {
    "name": "ipython",
    "version": 3
   },
   "file_extension": ".py",
   "mimetype": "text/x-python",
   "name": "python",
   "nbconvert_exporter": "python",
   "pygments_lexer": "ipython3",
   "version": "3.8.5"
  }
 },
 "nbformat": 4,
 "nbformat_minor": 1
}
